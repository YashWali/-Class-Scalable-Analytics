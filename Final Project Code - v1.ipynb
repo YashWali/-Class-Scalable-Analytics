{
 "cells": [
  {
   "cell_type": "code",
   "execution_count": 1,
   "id": "7c33cc98",
   "metadata": {},
   "outputs": [],
   "source": [
    "from pyspark.context import SparkContext\n",
    "from pyspark.sql.session import SparkSession\n",
    "from pyspark.ml.feature import Tokenizer, HashingTF, IDF \n",
    "from pyspark.ml.classification import LogisticRegression\n",
    "from pyspark.ml import Pipeline\n",
    "from pyspark.sql.functions import col\n",
    "from pyspark.sql import functions as F\n",
    "\n",
    "import matplotlib.pyplot as plt\n",
    "import pandas as pd\n",
    "import numpy as np\n",
    "\n",
    "import os\n",
    "import sys\n",
    "from pandas import DataFrame\n",
    "import matplotlib.pyplot as plt\n",
    "import matplotlib.ticker as mtick\n",
    "import matplotlib\n",
    "from mpl_toolkits.mplot3d import Axes3D\n",
    "import math\n",
    "from IPython.core.interactiveshell import InteractiveShell\n",
    "from datetime import *\n",
    "import statistics as stats\n",
    "# Auto print out items w/o using 'print'\n",
    "InteractiveShell.ast_node_interactivity = \"all\" \n",
    "%matplotlib inline"
   ]
  },
  {
   "cell_type": "markdown",
   "id": "951d07a6",
   "metadata": {},
   "source": [
    "# Data Exploration and Visualization using Pandas/Matplotlib\n",
    "### Use for comparison to Spark DataFrames"
   ]
  },
  {
   "cell_type": "markdown",
   "id": "621719ef",
   "metadata": {},
   "source": [
    "### Reviews"
   ]
  },
  {
   "cell_type": "code",
   "execution_count": 2,
   "id": "4aa230e1",
   "metadata": {},
   "outputs": [],
   "source": [
    "pandas_review = pd.read_csv('yelp-dataset/yelp_review.csv')"
   ]
  },
  {
   "cell_type": "code",
   "execution_count": 3,
   "id": "5f20b304",
   "metadata": {},
   "outputs": [
    {
     "data": {
      "text/html": [
       "<div>\n",
       "<style scoped>\n",
       "    .dataframe tbody tr th:only-of-type {\n",
       "        vertical-align: middle;\n",
       "    }\n",
       "\n",
       "    .dataframe tbody tr th {\n",
       "        vertical-align: top;\n",
       "    }\n",
       "\n",
       "    .dataframe thead th {\n",
       "        text-align: right;\n",
       "    }\n",
       "</style>\n",
       "<table border=\"1\" class=\"dataframe\">\n",
       "  <thead>\n",
       "    <tr style=\"text-align: right;\">\n",
       "      <th></th>\n",
       "      <th>review_id</th>\n",
       "      <th>user_id</th>\n",
       "      <th>business_id</th>\n",
       "      <th>stars</th>\n",
       "      <th>date</th>\n",
       "      <th>text</th>\n",
       "      <th>useful</th>\n",
       "      <th>funny</th>\n",
       "      <th>cool</th>\n",
       "    </tr>\n",
       "  </thead>\n",
       "  <tbody>\n",
       "    <tr>\n",
       "      <th>0</th>\n",
       "      <td>vkVSCC7xljjrAI4UGfnKEQ</td>\n",
       "      <td>bv2nCi5Qv5vroFiqKGopiw</td>\n",
       "      <td>AEx2SYEUJmTxVVB18LlCwA</td>\n",
       "      <td>5</td>\n",
       "      <td>2016-05-28</td>\n",
       "      <td>Super simple place but amazing nonetheless. It...</td>\n",
       "      <td>0</td>\n",
       "      <td>0</td>\n",
       "      <td>0</td>\n",
       "    </tr>\n",
       "    <tr>\n",
       "      <th>1</th>\n",
       "      <td>n6QzIUObkYshz4dz2QRJTw</td>\n",
       "      <td>bv2nCi5Qv5vroFiqKGopiw</td>\n",
       "      <td>VR6GpWIda3SfvPC-lg9H3w</td>\n",
       "      <td>5</td>\n",
       "      <td>2016-05-28</td>\n",
       "      <td>Small unassuming place that changes their menu...</td>\n",
       "      <td>0</td>\n",
       "      <td>0</td>\n",
       "      <td>0</td>\n",
       "    </tr>\n",
       "    <tr>\n",
       "      <th>2</th>\n",
       "      <td>MV3CcKScW05u5LVfF6ok0g</td>\n",
       "      <td>bv2nCi5Qv5vroFiqKGopiw</td>\n",
       "      <td>CKC0-MOWMqoeWf6s-szl8g</td>\n",
       "      <td>5</td>\n",
       "      <td>2016-05-28</td>\n",
       "      <td>Lester's is located in a beautiful neighborhoo...</td>\n",
       "      <td>0</td>\n",
       "      <td>0</td>\n",
       "      <td>0</td>\n",
       "    </tr>\n",
       "    <tr>\n",
       "      <th>3</th>\n",
       "      <td>IXvOzsEMYtiJI0CARmj77Q</td>\n",
       "      <td>bv2nCi5Qv5vroFiqKGopiw</td>\n",
       "      <td>ACFtxLv8pGrrxMm6EgjreA</td>\n",
       "      <td>4</td>\n",
       "      <td>2016-05-28</td>\n",
       "      <td>Love coming here. Yes the place always needs t...</td>\n",
       "      <td>0</td>\n",
       "      <td>0</td>\n",
       "      <td>0</td>\n",
       "    </tr>\n",
       "    <tr>\n",
       "      <th>4</th>\n",
       "      <td>L_9BTb55X0GDtThi6GlZ6w</td>\n",
       "      <td>bv2nCi5Qv5vroFiqKGopiw</td>\n",
       "      <td>s2I_Ni76bjJNK9yG60iD-Q</td>\n",
       "      <td>4</td>\n",
       "      <td>2016-05-28</td>\n",
       "      <td>Had their chocolate almond croissant and it wa...</td>\n",
       "      <td>0</td>\n",
       "      <td>0</td>\n",
       "      <td>0</td>\n",
       "    </tr>\n",
       "  </tbody>\n",
       "</table>\n",
       "</div>"
      ],
      "text/plain": [
       "                review_id                 user_id             business_id  \\\n",
       "0  vkVSCC7xljjrAI4UGfnKEQ  bv2nCi5Qv5vroFiqKGopiw  AEx2SYEUJmTxVVB18LlCwA   \n",
       "1  n6QzIUObkYshz4dz2QRJTw  bv2nCi5Qv5vroFiqKGopiw  VR6GpWIda3SfvPC-lg9H3w   \n",
       "2  MV3CcKScW05u5LVfF6ok0g  bv2nCi5Qv5vroFiqKGopiw  CKC0-MOWMqoeWf6s-szl8g   \n",
       "3  IXvOzsEMYtiJI0CARmj77Q  bv2nCi5Qv5vroFiqKGopiw  ACFtxLv8pGrrxMm6EgjreA   \n",
       "4  L_9BTb55X0GDtThi6GlZ6w  bv2nCi5Qv5vroFiqKGopiw  s2I_Ni76bjJNK9yG60iD-Q   \n",
       "\n",
       "   stars        date                                               text  \\\n",
       "0      5  2016-05-28  Super simple place but amazing nonetheless. It...   \n",
       "1      5  2016-05-28  Small unassuming place that changes their menu...   \n",
       "2      5  2016-05-28  Lester's is located in a beautiful neighborhoo...   \n",
       "3      4  2016-05-28  Love coming here. Yes the place always needs t...   \n",
       "4      4  2016-05-28  Had their chocolate almond croissant and it wa...   \n",
       "\n",
       "   useful  funny  cool  \n",
       "0       0      0     0  \n",
       "1       0      0     0  \n",
       "2       0      0     0  \n",
       "3       0      0     0  \n",
       "4       0      0     0  "
      ]
     },
     "execution_count": 3,
     "metadata": {},
     "output_type": "execute_result"
    }
   ],
   "source": [
    "pandas_review.head()"
   ]
  },
  {
   "cell_type": "code",
   "execution_count": 4,
   "id": "d61cc9f5",
   "metadata": {},
   "outputs": [
    {
     "data": {
      "text/plain": [
       "review_id      5261668\n",
       "user_id        1326101\n",
       "business_id     174567\n",
       "stars                5\n",
       "date              4547\n",
       "text           5258354\n",
       "useful             294\n",
       "funny              255\n",
       "cool               187\n",
       "dtype: int64"
      ]
     },
     "execution_count": 4,
     "metadata": {},
     "output_type": "execute_result"
    }
   ],
   "source": [
    "# Find unique values by column \n",
    "\n",
    "pandas_review.nunique()"
   ]
  },
  {
   "cell_type": "code",
   "execution_count": 5,
   "id": "e297b008",
   "metadata": {},
   "outputs": [
    {
     "data": {
      "text/plain": [
       "review_id      0\n",
       "user_id        0\n",
       "business_id    0\n",
       "stars          0\n",
       "date           0\n",
       "text           0\n",
       "useful         0\n",
       "funny          0\n",
       "cool           0\n",
       "dtype: int64"
      ]
     },
     "execution_count": 5,
     "metadata": {},
     "output_type": "execute_result"
    }
   ],
   "source": [
    "# See if there are any N/A values in any column and count them \n",
    "\n",
    "pandas_review.isnull().sum(axis = 0)"
   ]
  },
  {
   "cell_type": "code",
   "execution_count": 6,
   "id": "7e6aaf63",
   "metadata": {},
   "outputs": [
    {
     "name": "stdout",
     "output_type": "stream",
     "text": [
      "Start date: 2004-07-22\n",
      "End date: 2017-12-11\n"
     ]
    }
   ],
   "source": [
    "# Determine date range \n",
    "\n",
    "print('Start date: ' + pandas_review['date'].min())\n",
    "print('End date: ' + pandas_review['date'].max())"
   ]
  },
  {
   "cell_type": "code",
   "execution_count": 7,
   "id": "bcfcc828",
   "metadata": {},
   "outputs": [
    {
     "data": {
      "text/html": [
       "<div>\n",
       "<style scoped>\n",
       "    .dataframe tbody tr th:only-of-type {\n",
       "        vertical-align: middle;\n",
       "    }\n",
       "\n",
       "    .dataframe tbody tr th {\n",
       "        vertical-align: top;\n",
       "    }\n",
       "\n",
       "    .dataframe thead th {\n",
       "        text-align: right;\n",
       "    }\n",
       "</style>\n",
       "<table border=\"1\" class=\"dataframe\">\n",
       "  <thead>\n",
       "    <tr style=\"text-align: right;\">\n",
       "      <th></th>\n",
       "      <th>date</th>\n",
       "    </tr>\n",
       "  </thead>\n",
       "  <tbody>\n",
       "    <tr>\n",
       "      <th>2004</th>\n",
       "      <td>14</td>\n",
       "    </tr>\n",
       "    <tr>\n",
       "      <th>2005</th>\n",
       "      <td>870</td>\n",
       "    </tr>\n",
       "    <tr>\n",
       "      <th>2006</th>\n",
       "      <td>5669</td>\n",
       "    </tr>\n",
       "    <tr>\n",
       "      <th>2007</th>\n",
       "      <td>23020</td>\n",
       "    </tr>\n",
       "    <tr>\n",
       "      <th>2008</th>\n",
       "      <td>61553</td>\n",
       "    </tr>\n",
       "    <tr>\n",
       "      <th>2009</th>\n",
       "      <td>98288</td>\n",
       "    </tr>\n",
       "    <tr>\n",
       "      <th>2010</th>\n",
       "      <td>187073</td>\n",
       "    </tr>\n",
       "    <tr>\n",
       "      <th>2011</th>\n",
       "      <td>290933</td>\n",
       "    </tr>\n",
       "    <tr>\n",
       "      <th>2012</th>\n",
       "      <td>350381</td>\n",
       "    </tr>\n",
       "    <tr>\n",
       "      <th>2013</th>\n",
       "      <td>472595</td>\n",
       "    </tr>\n",
       "    <tr>\n",
       "      <th>2014</th>\n",
       "      <td>678351</td>\n",
       "    </tr>\n",
       "    <tr>\n",
       "      <th>2015</th>\n",
       "      <td>911487</td>\n",
       "    </tr>\n",
       "    <tr>\n",
       "      <th>2016</th>\n",
       "      <td>1052916</td>\n",
       "    </tr>\n",
       "    <tr>\n",
       "      <th>2017</th>\n",
       "      <td>1128518</td>\n",
       "    </tr>\n",
       "  </tbody>\n",
       "</table>\n",
       "</div>"
      ],
      "text/plain": [
       "         date\n",
       "2004       14\n",
       "2005      870\n",
       "2006     5669\n",
       "2007    23020\n",
       "2008    61553\n",
       "2009    98288\n",
       "2010   187073\n",
       "2011   290933\n",
       "2012   350381\n",
       "2013   472595\n",
       "2014   678351\n",
       "2015   911487\n",
       "2016  1052916\n",
       "2017  1128518"
      ]
     },
     "execution_count": 7,
     "metadata": {},
     "output_type": "execute_result"
    }
   ],
   "source": [
    "# Find count by year \n",
    "\n",
    "year_count = pd.DataFrame(pd.DatetimeIndex(pandas_review['date']).year.value_counts()).sort_index()\n",
    "year_count"
   ]
  },
  {
   "cell_type": "code",
   "execution_count": 8,
   "id": "9c9ce823",
   "metadata": {},
   "outputs": [
    {
     "data": {
      "text/plain": [
       "<BarContainer object of 14 artists>"
      ]
     },
     "execution_count": 8,
     "metadata": {},
     "output_type": "execute_result"
    },
    {
     "data": {
      "text/plain": [
       "Text(0.5, 0, 'Year')"
      ]
     },
     "execution_count": 8,
     "metadata": {},
     "output_type": "execute_result"
    },
    {
     "data": {
      "text/plain": [
       "Text(0, 0.5, 'Count')"
      ]
     },
     "execution_count": 8,
     "metadata": {},
     "output_type": "execute_result"
    },
    {
     "data": {
      "text/plain": [
       "Text(0.5, 1.0, 'Review Count per Year')"
      ]
     },
     "execution_count": 8,
     "metadata": {},
     "output_type": "execute_result"
    },
    {
     "data": {
      "image/png": "[encoded data removed]",
      "text/plain": [
       "<Figure size 432x288 with 1 Axes>"
      ]
     },
     "metadata": {
      "needs_background": "light"
     },
     "output_type": "display_data"
    }
   ],
   "source": [
    "# Plot year counts\n",
    "\n",
    "plt.bar(year_count.index, year_count['date'], color='teal')\n",
    "plt.xlabel('Year')\n",
    "plt.ylabel('Count')\n",
    "plt.title('Review Count per Year')\n",
    "plt.show()"
   ]
  },
  {
   "cell_type": "code",
   "execution_count": 9,
   "id": "0adf4763",
   "metadata": {},
   "outputs": [],
   "source": [
    "# Count of star reviews \n",
    "\n",
    "stars = pd.DataFrame(pandas_review['stars'].value_counts().sort_index())\n",
    "# stars"
   ]
  },
  {
   "cell_type": "code",
   "execution_count": 10,
   "id": "bcc3ae26",
   "metadata": {},
   "outputs": [
    {
     "data": {
      "text/plain": [
       "<BarContainer object of 5 artists>"
      ]
     },
     "execution_count": 10,
     "metadata": {},
     "output_type": "execute_result"
    },
    {
     "data": {
      "text/plain": [
       "Text(0.5, 0, 'Stars')"
      ]
     },
     "execution_count": 10,
     "metadata": {},
     "output_type": "execute_result"
    },
    {
     "data": {
      "text/plain": [
       "Text(0, 0.5, 'Count')"
      ]
     },
     "execution_count": 10,
     "metadata": {},
     "output_type": "execute_result"
    },
    {
     "data": {
      "text/plain": [
       "Text(0.5, 1.0, 'Review Count per Star Rating')"
      ]
     },
     "execution_count": 10,
     "metadata": {},
     "output_type": "execute_result"
    },
    {
     "data": {
      "image/png": "[encoded data removed]",
      "text/plain": [
       "<Figure size 432x288 with 1 Axes>"
      ]
     },
     "metadata": {
      "needs_background": "light"
     },
     "output_type": "display_data"
    }
   ],
   "source": [
    "# Plot star reviews count\n",
    "\n",
    "plt.bar(stars.index, stars['stars'], color='purple')\n",
    "plt.xlabel('Stars')\n",
    "plt.ylabel('Count')\n",
    "plt.title('Review Count per Star Rating')\n",
    "plt.show()"
   ]
  },
  {
   "cell_type": "code",
   "execution_count": 11,
   "id": "710e19ba",
   "metadata": {},
   "outputs": [
    {
     "data": {
      "text/plain": [
       "5261668"
      ]
     },
     "execution_count": 11,
     "metadata": {},
     "output_type": "execute_result"
    }
   ],
   "source": [
    "# Count number of reviews\n",
    "\n",
    "number_reviews = pandas_review['review_id'].count()\n",
    "number_reviews"
   ]
  },
  {
   "cell_type": "markdown",
   "id": "7218e611",
   "metadata": {},
   "source": [
    "### Business Attributes"
   ]
  },
  {
   "cell_type": "code",
   "execution_count": 12,
   "id": "9176fe96",
   "metadata": {},
   "outputs": [
    {
     "data": {
      "text/html": [
       "<div>\n",
       "<style scoped>\n",
       "    .dataframe tbody tr th:only-of-type {\n",
       "        vertical-align: middle;\n",
       "    }\n",
       "\n",
       "    .dataframe tbody tr th {\n",
       "        vertical-align: top;\n",
       "    }\n",
       "\n",
       "    .dataframe thead th {\n",
       "        text-align: right;\n",
       "    }\n",
       "</style>\n",
       "<table border=\"1\" class=\"dataframe\">\n",
       "  <thead>\n",
       "    <tr style=\"text-align: right;\">\n",
       "      <th></th>\n",
       "      <th>business_id</th>\n",
       "      <th>AcceptsInsurance</th>\n",
       "      <th>ByAppointmentOnly</th>\n",
       "      <th>BusinessAcceptsCreditCards</th>\n",
       "      <th>BusinessParking_garage</th>\n",
       "      <th>BusinessParking_street</th>\n",
       "      <th>BusinessParking_validated</th>\n",
       "      <th>BusinessParking_lot</th>\n",
       "      <th>BusinessParking_valet</th>\n",
       "      <th>HairSpecializesIn_coloring</th>\n",
       "      <th>...</th>\n",
       "      <th>Corkage</th>\n",
       "      <th>DietaryRestrictions_dairy-free</th>\n",
       "      <th>DietaryRestrictions_gluten-free</th>\n",
       "      <th>DietaryRestrictions_vegan</th>\n",
       "      <th>DietaryRestrictions_kosher</th>\n",
       "      <th>DietaryRestrictions_halal</th>\n",
       "      <th>DietaryRestrictions_soy-free</th>\n",
       "      <th>DietaryRestrictions_vegetarian</th>\n",
       "      <th>AgesAllowed</th>\n",
       "      <th>RestaurantsCounterService</th>\n",
       "    </tr>\n",
       "  </thead>\n",
       "  <tbody>\n",
       "    <tr>\n",
       "      <th>0</th>\n",
       "      <td>FYWN1wneV18bWNgQjJ2GNg</td>\n",
       "      <td>Na</td>\n",
       "      <td>Na</td>\n",
       "      <td>Na</td>\n",
       "      <td>True</td>\n",
       "      <td>Na</td>\n",
       "      <td>Na</td>\n",
       "      <td>Na</td>\n",
       "      <td>Na</td>\n",
       "      <td>Na</td>\n",
       "      <td>...</td>\n",
       "      <td>Na</td>\n",
       "      <td>Na</td>\n",
       "      <td>Na</td>\n",
       "      <td>Na</td>\n",
       "      <td>Na</td>\n",
       "      <td>Na</td>\n",
       "      <td>Na</td>\n",
       "      <td>Na</td>\n",
       "      <td>Na</td>\n",
       "      <td>Na</td>\n",
       "    </tr>\n",
       "    <tr>\n",
       "      <th>1</th>\n",
       "      <td>He-G7vWjzVUysIKrfNbPUQ</td>\n",
       "      <td>Na</td>\n",
       "      <td>Na</td>\n",
       "      <td>Na</td>\n",
       "      <td>Na</td>\n",
       "      <td>Na</td>\n",
       "      <td>Na</td>\n",
       "      <td>Na</td>\n",
       "      <td>Na</td>\n",
       "      <td>Na</td>\n",
       "      <td>...</td>\n",
       "      <td>Na</td>\n",
       "      <td>Na</td>\n",
       "      <td>Na</td>\n",
       "      <td>Na</td>\n",
       "      <td>Na</td>\n",
       "      <td>Na</td>\n",
       "      <td>Na</td>\n",
       "      <td>Na</td>\n",
       "      <td>Na</td>\n",
       "      <td>Na</td>\n",
       "    </tr>\n",
       "    <tr>\n",
       "      <th>2</th>\n",
       "      <td>8DShNS-LuFqpEWIp0HxijA</td>\n",
       "      <td>Na</td>\n",
       "      <td>Na</td>\n",
       "      <td>Na</td>\n",
       "      <td>Na</td>\n",
       "      <td>Na</td>\n",
       "      <td>Na</td>\n",
       "      <td>Na</td>\n",
       "      <td>Na</td>\n",
       "      <td>Na</td>\n",
       "      <td>...</td>\n",
       "      <td>Na</td>\n",
       "      <td>Na</td>\n",
       "      <td>Na</td>\n",
       "      <td>Na</td>\n",
       "      <td>Na</td>\n",
       "      <td>Na</td>\n",
       "      <td>Na</td>\n",
       "      <td>Na</td>\n",
       "      <td>Na</td>\n",
       "      <td>Na</td>\n",
       "    </tr>\n",
       "    <tr>\n",
       "      <th>3</th>\n",
       "      <td>PfOCPjBrlQAnz__NXj9h_w</td>\n",
       "      <td>Na</td>\n",
       "      <td>Na</td>\n",
       "      <td>Na</td>\n",
       "      <td>Na</td>\n",
       "      <td>Na</td>\n",
       "      <td>Na</td>\n",
       "      <td>Na</td>\n",
       "      <td>Na</td>\n",
       "      <td>Na</td>\n",
       "      <td>...</td>\n",
       "      <td>Na</td>\n",
       "      <td>Na</td>\n",
       "      <td>Na</td>\n",
       "      <td>Na</td>\n",
       "      <td>Na</td>\n",
       "      <td>Na</td>\n",
       "      <td>Na</td>\n",
       "      <td>Na</td>\n",
       "      <td>Na</td>\n",
       "      <td>Na</td>\n",
       "    </tr>\n",
       "    <tr>\n",
       "      <th>4</th>\n",
       "      <td>o9eMRCWt5PkpLDE0gOPtcQ</td>\n",
       "      <td>Na</td>\n",
       "      <td>Na</td>\n",
       "      <td>Na</td>\n",
       "      <td>Na</td>\n",
       "      <td>False</td>\n",
       "      <td>False</td>\n",
       "      <td>False</td>\n",
       "      <td>False</td>\n",
       "      <td>False</td>\n",
       "      <td>...</td>\n",
       "      <td>Na</td>\n",
       "      <td>Na</td>\n",
       "      <td>Na</td>\n",
       "      <td>Na</td>\n",
       "      <td>Na</td>\n",
       "      <td>Na</td>\n",
       "      <td>Na</td>\n",
       "      <td>Na</td>\n",
       "      <td>Na</td>\n",
       "      <td>Na</td>\n",
       "    </tr>\n",
       "  </tbody>\n",
       "</table>\n",
       "<p>5 rows × 82 columns</p>\n",
       "</div>"
      ],
      "text/plain": [
       "              business_id AcceptsInsurance ByAppointmentOnly  \\\n",
       "0  FYWN1wneV18bWNgQjJ2GNg               Na                Na   \n",
       "1  He-G7vWjzVUysIKrfNbPUQ               Na                Na   \n",
       "2  8DShNS-LuFqpEWIp0HxijA               Na                Na   \n",
       "3  PfOCPjBrlQAnz__NXj9h_w               Na                Na   \n",
       "4  o9eMRCWt5PkpLDE0gOPtcQ               Na                Na   \n",
       "\n",
       "  BusinessAcceptsCreditCards BusinessParking_garage BusinessParking_street  \\\n",
       "0                         Na                   True                     Na   \n",
       "1                         Na                     Na                     Na   \n",
       "2                         Na                     Na                     Na   \n",
       "3                         Na                     Na                     Na   \n",
       "4                         Na                     Na                  False   \n",
       "\n",
       "  BusinessParking_validated BusinessParking_lot BusinessParking_valet  \\\n",
       "0                        Na                  Na                    Na   \n",
       "1                        Na                  Na                    Na   \n",
       "2                        Na                  Na                    Na   \n",
       "3                        Na                  Na                    Na   \n",
       "4                     False               False                 False   \n",
       "\n",
       "  HairSpecializesIn_coloring  ... Corkage DietaryRestrictions_dairy-free  \\\n",
       "0                         Na  ...      Na                             Na   \n",
       "1                         Na  ...      Na                             Na   \n",
       "2                         Na  ...      Na                             Na   \n",
       "3                         Na  ...      Na                             Na   \n",
       "4                      False  ...      Na                             Na   \n",
       "\n",
       "  DietaryRestrictions_gluten-free DietaryRestrictions_vegan  \\\n",
       "0                              Na                        Na   \n",
       "1                              Na                        Na   \n",
       "2                              Na                        Na   \n",
       "3                              Na                        Na   \n",
       "4                              Na                        Na   \n",
       "\n",
       "  DietaryRestrictions_kosher DietaryRestrictions_halal  \\\n",
       "0                         Na                        Na   \n",
       "1                         Na                        Na   \n",
       "2                         Na                        Na   \n",
       "3                         Na                        Na   \n",
       "4                         Na                        Na   \n",
       "\n",
       "  DietaryRestrictions_soy-free DietaryRestrictions_vegetarian AgesAllowed  \\\n",
       "0                           Na                             Na          Na   \n",
       "1                           Na                             Na          Na   \n",
       "2                           Na                             Na          Na   \n",
       "3                           Na                             Na          Na   \n",
       "4                           Na                             Na          Na   \n",
       "\n",
       "  RestaurantsCounterService  \n",
       "0                        Na  \n",
       "1                        Na  \n",
       "2                        Na  \n",
       "3                        Na  \n",
       "4                        Na  \n",
       "\n",
       "[5 rows x 82 columns]"
      ]
     },
     "execution_count": 12,
     "metadata": {},
     "output_type": "execute_result"
    }
   ],
   "source": [
    "pandas_business_atts = pd.read_csv('yelp-dataset/yelp_business_attributes.csv')\n",
    "pandas_business_atts.head()"
   ]
  },
  {
   "cell_type": "code",
   "execution_count": 13,
   "id": "5abf3d1a",
   "metadata": {},
   "outputs": [
    {
     "data": {
      "text/plain": [
       "Index(['business_id', 'AcceptsInsurance', 'ByAppointmentOnly',\n",
       "       'BusinessAcceptsCreditCards', 'BusinessParking_garage',\n",
       "       'BusinessParking_street', 'BusinessParking_validated',\n",
       "       'BusinessParking_lot', 'BusinessParking_valet',\n",
       "       'HairSpecializesIn_coloring', 'HairSpecializesIn_africanamerican',\n",
       "       'HairSpecializesIn_curly', 'HairSpecializesIn_perms',\n",
       "       'HairSpecializesIn_kids', 'HairSpecializesIn_extensions',\n",
       "       'HairSpecializesIn_asian', 'HairSpecializesIn_straightperms',\n",
       "       'RestaurantsPriceRange2', 'GoodForKids', 'WheelchairAccessible',\n",
       "       'BikeParking', 'Alcohol', 'HasTV', 'NoiseLevel', 'RestaurantsAttire',\n",
       "       'Music_dj', 'Music_background_music', 'Music_no_music', 'Music_karaoke',\n",
       "       'Music_live', 'Music_video', 'Music_jukebox', 'Ambience_romantic',\n",
       "       'Ambience_intimate', 'Ambience_classy', 'Ambience_hipster',\n",
       "       'Ambience_divey', 'Ambience_touristy', 'Ambience_trendy',\n",
       "       'Ambience_upscale', 'Ambience_casual', 'RestaurantsGoodForGroups',\n",
       "       'Caters', 'WiFi', 'RestaurantsReservations', 'RestaurantsTakeOut',\n",
       "       'HappyHour', 'GoodForDancing', 'RestaurantsTableService',\n",
       "       'OutdoorSeating', 'RestaurantsDelivery', 'BestNights_monday',\n",
       "       'BestNights_tuesday', 'BestNights_friday', 'BestNights_wednesday',\n",
       "       'BestNights_thursday', 'BestNights_sunday', 'BestNights_saturday',\n",
       "       'GoodForMeal_dessert', 'GoodForMeal_latenight', 'GoodForMeal_lunch',\n",
       "       'GoodForMeal_dinner', 'GoodForMeal_breakfast', 'GoodForMeal_brunch',\n",
       "       'CoatCheck', 'Smoking', 'DriveThru', 'DogsAllowed',\n",
       "       'BusinessAcceptsBitcoin', 'Open24Hours', 'BYOBCorkage', 'BYOB',\n",
       "       'Corkage', 'DietaryRestrictions_dairy-free',\n",
       "       'DietaryRestrictions_gluten-free', 'DietaryRestrictions_vegan',\n",
       "       'DietaryRestrictions_kosher', 'DietaryRestrictions_halal',\n",
       "       'DietaryRestrictions_soy-free', 'DietaryRestrictions_vegetarian',\n",
       "       'AgesAllowed', 'RestaurantsCounterService'],\n",
       "      dtype='object')"
      ]
     },
     "execution_count": 13,
     "metadata": {},
     "output_type": "execute_result"
    }
   ],
   "source": [
    "# See all columns \n",
    "\n",
    "pandas_business_atts.columns"
   ]
  },
  {
   "cell_type": "markdown",
   "id": "e35e0301",
   "metadata": {},
   "source": [
    "### Business Hours"
   ]
  },
  {
   "cell_type": "code",
   "execution_count": 14,
   "id": "fad440ed",
   "metadata": {},
   "outputs": [
    {
     "data": {
      "text/html": [
       "<div>\n",
       "<style scoped>\n",
       "    .dataframe tbody tr th:only-of-type {\n",
       "        vertical-align: middle;\n",
       "    }\n",
       "\n",
       "    .dataframe tbody tr th {\n",
       "        vertical-align: top;\n",
       "    }\n",
       "\n",
       "    .dataframe thead th {\n",
       "        text-align: right;\n",
       "    }\n",
       "</style>\n",
       "<table border=\"1\" class=\"dataframe\">\n",
       "  <thead>\n",
       "    <tr style=\"text-align: right;\">\n",
       "      <th></th>\n",
       "      <th>business_id</th>\n",
       "      <th>monday</th>\n",
       "      <th>tuesday</th>\n",
       "      <th>wednesday</th>\n",
       "      <th>thursday</th>\n",
       "      <th>friday</th>\n",
       "      <th>saturday</th>\n",
       "      <th>sunday</th>\n",
       "    </tr>\n",
       "  </thead>\n",
       "  <tbody>\n",
       "    <tr>\n",
       "      <th>0</th>\n",
       "      <td>FYWN1wneV18bWNgQjJ2GNg</td>\n",
       "      <td>7:30-17:0</td>\n",
       "      <td>7:30-17:0</td>\n",
       "      <td>7:30-17:0</td>\n",
       "      <td>7:30-17:0</td>\n",
       "      <td>7:30-17:0</td>\n",
       "      <td>None</td>\n",
       "      <td>None</td>\n",
       "    </tr>\n",
       "    <tr>\n",
       "      <th>1</th>\n",
       "      <td>He-G7vWjzVUysIKrfNbPUQ</td>\n",
       "      <td>9:0-20:0</td>\n",
       "      <td>9:0-20:0</td>\n",
       "      <td>9:0-20:0</td>\n",
       "      <td>9:0-20:0</td>\n",
       "      <td>9:0-16:0</td>\n",
       "      <td>8:0-16:0</td>\n",
       "      <td>None</td>\n",
       "    </tr>\n",
       "    <tr>\n",
       "      <th>2</th>\n",
       "      <td>KQPW8lFf1y5BT2MxiSZ3QA</td>\n",
       "      <td>None</td>\n",
       "      <td>None</td>\n",
       "      <td>None</td>\n",
       "      <td>None</td>\n",
       "      <td>None</td>\n",
       "      <td>None</td>\n",
       "      <td>None</td>\n",
       "    </tr>\n",
       "    <tr>\n",
       "      <th>3</th>\n",
       "      <td>8DShNS-LuFqpEWIp0HxijA</td>\n",
       "      <td>10:0-21:0</td>\n",
       "      <td>10:0-21:0</td>\n",
       "      <td>10:0-21:0</td>\n",
       "      <td>10:0-21:0</td>\n",
       "      <td>10:0-21:0</td>\n",
       "      <td>10:0-21:0</td>\n",
       "      <td>11:0-19:0</td>\n",
       "    </tr>\n",
       "    <tr>\n",
       "      <th>4</th>\n",
       "      <td>PfOCPjBrlQAnz__NXj9h_w</td>\n",
       "      <td>11:0-1:0</td>\n",
       "      <td>11:0-1:0</td>\n",
       "      <td>11:0-1:0</td>\n",
       "      <td>11:0-1:0</td>\n",
       "      <td>11:0-1:0</td>\n",
       "      <td>11:0-2:0</td>\n",
       "      <td>11:0-0:0</td>\n",
       "    </tr>\n",
       "  </tbody>\n",
       "</table>\n",
       "</div>"
      ],
      "text/plain": [
       "              business_id     monday    tuesday  wednesday   thursday  \\\n",
       "0  FYWN1wneV18bWNgQjJ2GNg  7:30-17:0  7:30-17:0  7:30-17:0  7:30-17:0   \n",
       "1  He-G7vWjzVUysIKrfNbPUQ   9:0-20:0   9:0-20:0   9:0-20:0   9:0-20:0   \n",
       "2  KQPW8lFf1y5BT2MxiSZ3QA       None       None       None       None   \n",
       "3  8DShNS-LuFqpEWIp0HxijA  10:0-21:0  10:0-21:0  10:0-21:0  10:0-21:0   \n",
       "4  PfOCPjBrlQAnz__NXj9h_w   11:0-1:0   11:0-1:0   11:0-1:0   11:0-1:0   \n",
       "\n",
       "      friday   saturday     sunday  \n",
       "0  7:30-17:0       None       None  \n",
       "1   9:0-16:0   8:0-16:0       None  \n",
       "2       None       None       None  \n",
       "3  10:0-21:0  10:0-21:0  11:0-19:0  \n",
       "4   11:0-1:0   11:0-2:0   11:0-0:0  "
      ]
     },
     "execution_count": 14,
     "metadata": {},
     "output_type": "execute_result"
    }
   ],
   "source": [
    "pandas_business_hours = pd.read_csv('yelp-dataset/yelp_business_hours.csv')\n",
    "pandas_business_hours.head()"
   ]
  },
  {
   "cell_type": "code",
   "execution_count": 15,
   "id": "fda70a9c",
   "metadata": {},
   "outputs": [
    {
     "data": {
      "text/html": [
       "<div>\n",
       "<style scoped>\n",
       "    .dataframe tbody tr th:only-of-type {\n",
       "        vertical-align: middle;\n",
       "    }\n",
       "\n",
       "    .dataframe tbody tr th {\n",
       "        vertical-align: top;\n",
       "    }\n",
       "\n",
       "    .dataframe thead th {\n",
       "        text-align: right;\n",
       "    }\n",
       "</style>\n",
       "<table border=\"1\" class=\"dataframe\">\n",
       "  <thead>\n",
       "    <tr style=\"text-align: right;\">\n",
       "      <th></th>\n",
       "      <th>business_id</th>\n",
       "      <th>monday</th>\n",
       "      <th>tuesday</th>\n",
       "      <th>wednesday</th>\n",
       "      <th>thursday</th>\n",
       "      <th>friday</th>\n",
       "      <th>saturday</th>\n",
       "      <th>sunday</th>\n",
       "    </tr>\n",
       "  </thead>\n",
       "  <tbody>\n",
       "    <tr>\n",
       "      <th>count</th>\n",
       "      <td>174567</td>\n",
       "      <td>174567</td>\n",
       "      <td>174567</td>\n",
       "      <td>174567</td>\n",
       "      <td>174567</td>\n",
       "      <td>174567</td>\n",
       "      <td>174567</td>\n",
       "      <td>174567</td>\n",
       "    </tr>\n",
       "    <tr>\n",
       "      <th>unique</th>\n",
       "      <td>174567</td>\n",
       "      <td>1396</td>\n",
       "      <td>1402</td>\n",
       "      <td>1407</td>\n",
       "      <td>1443</td>\n",
       "      <td>1513</td>\n",
       "      <td>1444</td>\n",
       "      <td>1291</td>\n",
       "    </tr>\n",
       "    <tr>\n",
       "      <th>top</th>\n",
       "      <td>AinopkZXEBEzm7Q3vidL1w</td>\n",
       "      <td>None</td>\n",
       "      <td>None</td>\n",
       "      <td>None</td>\n",
       "      <td>None</td>\n",
       "      <td>None</td>\n",
       "      <td>None</td>\n",
       "      <td>None</td>\n",
       "    </tr>\n",
       "    <tr>\n",
       "      <th>freq</th>\n",
       "      <td>1</td>\n",
       "      <td>55693</td>\n",
       "      <td>48309</td>\n",
       "      <td>47130</td>\n",
       "      <td>46631</td>\n",
       "      <td>47134</td>\n",
       "      <td>61543</td>\n",
       "      <td>90934</td>\n",
       "    </tr>\n",
       "  </tbody>\n",
       "</table>\n",
       "</div>"
      ],
      "text/plain": [
       "                   business_id  monday tuesday wednesday thursday  friday  \\\n",
       "count                   174567  174567  174567    174567   174567  174567   \n",
       "unique                  174567    1396    1402      1407     1443    1513   \n",
       "top     AinopkZXEBEzm7Q3vidL1w    None    None      None     None    None   \n",
       "freq                         1   55693   48309     47130    46631   47134   \n",
       "\n",
       "       saturday  sunday  \n",
       "count    174567  174567  \n",
       "unique     1444    1291  \n",
       "top        None    None  \n",
       "freq      61543   90934  "
      ]
     },
     "execution_count": 15,
     "metadata": {},
     "output_type": "execute_result"
    }
   ],
   "source": [
    "pandas_business_hours.describe()"
   ]
  },
  {
   "cell_type": "code",
   "execution_count": 16,
   "id": "db322405",
   "metadata": {},
   "outputs": [
    {
     "data": {
      "text/plain": [
       "business_id    0\n",
       "monday         0\n",
       "tuesday        0\n",
       "wednesday      0\n",
       "thursday       0\n",
       "friday         0\n",
       "saturday       0\n",
       "sunday         0\n",
       "dtype: int64"
      ]
     },
     "execution_count": 16,
     "metadata": {},
     "output_type": "execute_result"
    }
   ],
   "source": [
    "# See if there are any N/A values in any column and count them \n",
    "\n",
    "pandas_business_hours.isnull().sum(axis = 0)"
   ]
  },
  {
   "cell_type": "markdown",
   "id": "e08488a2",
   "metadata": {},
   "source": [
    "### Business "
   ]
  },
  {
   "cell_type": "code",
   "execution_count": 17,
   "id": "bc87b98c",
   "metadata": {},
   "outputs": [
    {
     "data": {
      "text/html": [
       "<div>\n",
       "<style scoped>\n",
       "    .dataframe tbody tr th:only-of-type {\n",
       "        vertical-align: middle;\n",
       "    }\n",
       "\n",
       "    .dataframe tbody tr th {\n",
       "        vertical-align: top;\n",
       "    }\n",
       "\n",
       "    .dataframe thead th {\n",
       "        text-align: right;\n",
       "    }\n",
       "</style>\n",
       "<table border=\"1\" class=\"dataframe\">\n",
       "  <thead>\n",
       "    <tr style=\"text-align: right;\">\n",
       "      <th></th>\n",
       "      <th>business_id</th>\n",
       "      <th>name</th>\n",
       "      <th>neighborhood</th>\n",
       "      <th>address</th>\n",
       "      <th>city</th>\n",
       "      <th>state</th>\n",
       "      <th>postal_code</th>\n",
       "      <th>latitude</th>\n",
       "      <th>longitude</th>\n",
       "      <th>stars</th>\n",
       "      <th>review_count</th>\n",
       "      <th>is_open</th>\n",
       "      <th>categories</th>\n",
       "    </tr>\n",
       "  </thead>\n",
       "  <tbody>\n",
       "    <tr>\n",
       "      <th>0</th>\n",
       "      <td>FYWN1wneV18bWNgQjJ2GNg</td>\n",
       "      <td>\"Dental by Design\"</td>\n",
       "      <td>NaN</td>\n",
       "      <td>\"4855 E Warner Rd, Ste B9\"</td>\n",
       "      <td>Ahwatukee</td>\n",
       "      <td>AZ</td>\n",
       "      <td>85044</td>\n",
       "      <td>33.330690</td>\n",
       "      <td>-111.978599</td>\n",
       "      <td>4.0</td>\n",
       "      <td>22</td>\n",
       "      <td>1</td>\n",
       "      <td>Dentists;General Dentistry;Health &amp; Medical;Or...</td>\n",
       "    </tr>\n",
       "    <tr>\n",
       "      <th>1</th>\n",
       "      <td>He-G7vWjzVUysIKrfNbPUQ</td>\n",
       "      <td>\"Stephen Szabo Salon\"</td>\n",
       "      <td>NaN</td>\n",
       "      <td>\"3101 Washington Rd\"</td>\n",
       "      <td>McMurray</td>\n",
       "      <td>PA</td>\n",
       "      <td>15317</td>\n",
       "      <td>40.291685</td>\n",
       "      <td>-80.104900</td>\n",
       "      <td>3.0</td>\n",
       "      <td>11</td>\n",
       "      <td>1</td>\n",
       "      <td>Hair Stylists;Hair Salons;Men's Hair Salons;Bl...</td>\n",
       "    </tr>\n",
       "    <tr>\n",
       "      <th>2</th>\n",
       "      <td>KQPW8lFf1y5BT2MxiSZ3QA</td>\n",
       "      <td>\"Western Motor Vehicle\"</td>\n",
       "      <td>NaN</td>\n",
       "      <td>\"6025 N 27th Ave, Ste 1\"</td>\n",
       "      <td>Phoenix</td>\n",
       "      <td>AZ</td>\n",
       "      <td>85017</td>\n",
       "      <td>33.524903</td>\n",
       "      <td>-112.115310</td>\n",
       "      <td>1.5</td>\n",
       "      <td>18</td>\n",
       "      <td>1</td>\n",
       "      <td>Departments of Motor Vehicles;Public Services ...</td>\n",
       "    </tr>\n",
       "    <tr>\n",
       "      <th>3</th>\n",
       "      <td>8DShNS-LuFqpEWIp0HxijA</td>\n",
       "      <td>\"Sports Authority\"</td>\n",
       "      <td>NaN</td>\n",
       "      <td>\"5000 Arizona Mills Cr, Ste 435\"</td>\n",
       "      <td>Tempe</td>\n",
       "      <td>AZ</td>\n",
       "      <td>85282</td>\n",
       "      <td>33.383147</td>\n",
       "      <td>-111.964725</td>\n",
       "      <td>3.0</td>\n",
       "      <td>9</td>\n",
       "      <td>0</td>\n",
       "      <td>Sporting Goods;Shopping</td>\n",
       "    </tr>\n",
       "    <tr>\n",
       "      <th>4</th>\n",
       "      <td>PfOCPjBrlQAnz__NXj9h_w</td>\n",
       "      <td>\"Brick House Tavern + Tap\"</td>\n",
       "      <td>NaN</td>\n",
       "      <td>\"581 Howe Ave\"</td>\n",
       "      <td>Cuyahoga Falls</td>\n",
       "      <td>OH</td>\n",
       "      <td>44221</td>\n",
       "      <td>41.119535</td>\n",
       "      <td>-81.475690</td>\n",
       "      <td>3.5</td>\n",
       "      <td>116</td>\n",
       "      <td>1</td>\n",
       "      <td>American (New);Nightlife;Bars;Sandwiches;Ameri...</td>\n",
       "    </tr>\n",
       "  </tbody>\n",
       "</table>\n",
       "</div>"
      ],
      "text/plain": [
       "              business_id                        name neighborhood  \\\n",
       "0  FYWN1wneV18bWNgQjJ2GNg          \"Dental by Design\"          NaN   \n",
       "1  He-G7vWjzVUysIKrfNbPUQ       \"Stephen Szabo Salon\"          NaN   \n",
       "2  KQPW8lFf1y5BT2MxiSZ3QA     \"Western Motor Vehicle\"          NaN   \n",
       "3  8DShNS-LuFqpEWIp0HxijA          \"Sports Authority\"          NaN   \n",
       "4  PfOCPjBrlQAnz__NXj9h_w  \"Brick House Tavern + Tap\"          NaN   \n",
       "\n",
       "                            address            city state postal_code  \\\n",
       "0        \"4855 E Warner Rd, Ste B9\"       Ahwatukee    AZ       85044   \n",
       "1              \"3101 Washington Rd\"        McMurray    PA       15317   \n",
       "2          \"6025 N 27th Ave, Ste 1\"         Phoenix    AZ       85017   \n",
       "3  \"5000 Arizona Mills Cr, Ste 435\"           Tempe    AZ       85282   \n",
       "4                    \"581 Howe Ave\"  Cuyahoga Falls    OH       44221   \n",
       "\n",
       "    latitude   longitude  stars  review_count  is_open  \\\n",
       "0  33.330690 -111.978599    4.0            22        1   \n",
       "1  40.291685  -80.104900    3.0            11        1   \n",
       "2  33.524903 -112.115310    1.5            18        1   \n",
       "3  33.383147 -111.964725    3.0             9        0   \n",
       "4  41.119535  -81.475690    3.5           116        1   \n",
       "\n",
       "                                          categories  \n",
       "0  Dentists;General Dentistry;Health & Medical;Or...  \n",
       "1  Hair Stylists;Hair Salons;Men's Hair Salons;Bl...  \n",
       "2  Departments of Motor Vehicles;Public Services ...  \n",
       "3                            Sporting Goods;Shopping  \n",
       "4  American (New);Nightlife;Bars;Sandwiches;Ameri...  "
      ]
     },
     "execution_count": 17,
     "metadata": {},
     "output_type": "execute_result"
    }
   ],
   "source": [
    "pandas_business = pd.read_csv('yelp-dataset/yelp_business.csv')\n",
    "pandas_business.head()"
   ]
  },
  {
   "cell_type": "code",
   "execution_count": 18,
   "id": "442306f2",
   "metadata": {},
   "outputs": [
    {
     "data": {
      "text/plain": [
       "732"
      ]
     },
     "execution_count": 18,
     "metadata": {},
     "output_type": "execute_result"
    }
   ],
   "source": [
    "# Determine number of missing reviews form this dataframe\n",
    "\n",
    "missing_reviews = number_reviews - sum(pandas_business['review_count'])\n",
    "missing_reviews"
   ]
  },
  {
   "cell_type": "code",
   "execution_count": 19,
   "id": "12b38c14",
   "metadata": {},
   "outputs": [
    {
     "data": {
      "text/plain": [
       "business_id          0\n",
       "name                 0\n",
       "neighborhood    106552\n",
       "address              0\n",
       "city                 1\n",
       "state                1\n",
       "postal_code        623\n",
       "latitude             1\n",
       "longitude            1\n",
       "stars                0\n",
       "review_count         0\n",
       "is_open              0\n",
       "categories           0\n",
       "dtype: int64"
      ]
     },
     "execution_count": 19,
     "metadata": {},
     "output_type": "execute_result"
    }
   ],
   "source": [
    "# See if there are any N/A values in any column and count them \n",
    "\n",
    "pandas_business.isnull().sum(axis = 0)"
   ]
  },
  {
   "cell_type": "code",
   "execution_count": 20,
   "id": "027e00a9",
   "metadata": {},
   "outputs": [
    {
     "data": {
      "text/plain": [
       "174567"
      ]
     },
     "execution_count": 20,
     "metadata": {},
     "output_type": "execute_result"
    }
   ],
   "source": [
    "# Find number of businesses\n",
    "\n",
    "pandas_business['business_id'].count()"
   ]
  },
  {
   "cell_type": "markdown",
   "id": "57e35055",
   "metadata": {},
   "source": [
    "### Check-In"
   ]
  },
  {
   "cell_type": "code",
   "execution_count": 21,
   "id": "df7cbfc4",
   "metadata": {},
   "outputs": [
    {
     "data": {
      "text/html": [
       "<div>\n",
       "<style scoped>\n",
       "    .dataframe tbody tr th:only-of-type {\n",
       "        vertical-align: middle;\n",
       "    }\n",
       "\n",
       "    .dataframe tbody tr th {\n",
       "        vertical-align: top;\n",
       "    }\n",
       "\n",
       "    .dataframe thead th {\n",
       "        text-align: right;\n",
       "    }\n",
       "</style>\n",
       "<table border=\"1\" class=\"dataframe\">\n",
       "  <thead>\n",
       "    <tr style=\"text-align: right;\">\n",
       "      <th></th>\n",
       "      <th>business_id</th>\n",
       "      <th>weekday</th>\n",
       "      <th>hour</th>\n",
       "      <th>checkins</th>\n",
       "    </tr>\n",
       "  </thead>\n",
       "  <tbody>\n",
       "    <tr>\n",
       "      <th>0</th>\n",
       "      <td>3Mc-LxcqeguOXOVT_2ZtCg</td>\n",
       "      <td>Tue</td>\n",
       "      <td>0:00</td>\n",
       "      <td>12</td>\n",
       "    </tr>\n",
       "    <tr>\n",
       "      <th>1</th>\n",
       "      <td>SVFx6_epO22bZTZnKwlX7g</td>\n",
       "      <td>Wed</td>\n",
       "      <td>0:00</td>\n",
       "      <td>4</td>\n",
       "    </tr>\n",
       "    <tr>\n",
       "      <th>2</th>\n",
       "      <td>vW9aLivd4-IorAfStzsHww</td>\n",
       "      <td>Tue</td>\n",
       "      <td>14:00</td>\n",
       "      <td>1</td>\n",
       "    </tr>\n",
       "    <tr>\n",
       "      <th>3</th>\n",
       "      <td>tEzxhauTQddACyqdJ0OPEQ</td>\n",
       "      <td>Fri</td>\n",
       "      <td>19:00</td>\n",
       "      <td>1</td>\n",
       "    </tr>\n",
       "    <tr>\n",
       "      <th>4</th>\n",
       "      <td>CEyZU32P-vtMhgqRCaXzMA</td>\n",
       "      <td>Tue</td>\n",
       "      <td>17:00</td>\n",
       "      <td>1</td>\n",
       "    </tr>\n",
       "  </tbody>\n",
       "</table>\n",
       "</div>"
      ],
      "text/plain": [
       "              business_id weekday   hour  checkins\n",
       "0  3Mc-LxcqeguOXOVT_2ZtCg     Tue   0:00        12\n",
       "1  SVFx6_epO22bZTZnKwlX7g     Wed   0:00         4\n",
       "2  vW9aLivd4-IorAfStzsHww     Tue  14:00         1\n",
       "3  tEzxhauTQddACyqdJ0OPEQ     Fri  19:00         1\n",
       "4  CEyZU32P-vtMhgqRCaXzMA     Tue  17:00         1"
      ]
     },
     "execution_count": 21,
     "metadata": {},
     "output_type": "execute_result"
    }
   ],
   "source": [
    "pandas_checkin = pd.read_csv('yelp-dataset/yelp_checkin.csv')\n",
    "pandas_checkin.head()"
   ]
  },
  {
   "cell_type": "code",
   "execution_count": 22,
   "id": "c5fe415e",
   "metadata": {},
   "outputs": [
    {
     "data": {
      "text/plain": [
       "business_id    0\n",
       "weekday        0\n",
       "hour           0\n",
       "checkins       0\n",
       "dtype: int64"
      ]
     },
     "execution_count": 22,
     "metadata": {},
     "output_type": "execute_result"
    }
   ],
   "source": [
    "# See if there are any N/A values in any column and count them \n",
    "\n",
    "pandas_checkin.isnull().sum(axis = 0)"
   ]
  },
  {
   "cell_type": "code",
   "execution_count": 23,
   "id": "089457c3",
   "metadata": {},
   "outputs": [
    {
     "data": {
      "text/plain": [
       "business_id    146350\n",
       "weekday             7\n",
       "hour               24\n",
       "checkins          770\n",
       "dtype: int64"
      ]
     },
     "execution_count": 23,
     "metadata": {},
     "output_type": "execute_result"
    }
   ],
   "source": [
    "pandas_checkin.nunique()"
   ]
  },
  {
   "cell_type": "code",
   "execution_count": 24,
   "id": "d75283f3",
   "metadata": {},
   "outputs": [
    {
     "name": "stdout",
     "output_type": "stream",
     "text": [
      "Minimum check-in count: 1\n",
      "Maximum check-in count: 1478\n"
     ]
    }
   ],
   "source": [
    "# Find min and max check-in count\n",
    "\n",
    "print('Minimum check-in count: ' + str(pandas_checkin['checkins'].min()))\n",
    "print('Maximum check-in count: ' + str(pandas_checkin['checkins'].max()))"
   ]
  },
  {
   "cell_type": "code",
   "execution_count": 25,
   "id": "77086ecf",
   "metadata": {},
   "outputs": [
    {
     "data": {
      "text/plain": [
       "28217"
      ]
     },
     "execution_count": 25,
     "metadata": {},
     "output_type": "execute_result"
    }
   ],
   "source": [
    "# FInd number of businesses with 0 check-ins\n",
    "\n",
    "pandas_business['business_id'].count() - pandas_checkin.nunique()[0]"
   ]
  },
  {
   "cell_type": "code",
   "execution_count": 26,
   "id": "3924e32c",
   "metadata": {},
   "outputs": [
    {
     "data": {
      "text/html": [
       "<div>\n",
       "<style scoped>\n",
       "    .dataframe tbody tr th:only-of-type {\n",
       "        vertical-align: middle;\n",
       "    }\n",
       "\n",
       "    .dataframe tbody tr th {\n",
       "        vertical-align: top;\n",
       "    }\n",
       "\n",
       "    .dataframe thead th {\n",
       "        text-align: right;\n",
       "    }\n",
       "</style>\n",
       "<table border=\"1\" class=\"dataframe\">\n",
       "  <thead>\n",
       "    <tr style=\"text-align: right;\">\n",
       "      <th></th>\n",
       "      <th>weekday</th>\n",
       "    </tr>\n",
       "  </thead>\n",
       "  <tbody>\n",
       "    <tr>\n",
       "      <th>Sat</th>\n",
       "      <td>653551</td>\n",
       "    </tr>\n",
       "    <tr>\n",
       "      <th>Fri</th>\n",
       "      <td>584790</td>\n",
       "    </tr>\n",
       "    <tr>\n",
       "      <th>Sun</th>\n",
       "      <td>567181</td>\n",
       "    </tr>\n",
       "    <tr>\n",
       "      <th>Thu</th>\n",
       "      <td>545489</td>\n",
       "    </tr>\n",
       "    <tr>\n",
       "      <th>Wed</th>\n",
       "      <td>537730</td>\n",
       "    </tr>\n",
       "    <tr>\n",
       "      <th>Tue</th>\n",
       "      <td>522104</td>\n",
       "    </tr>\n",
       "    <tr>\n",
       "      <th>Mon</th>\n",
       "      <td>500373</td>\n",
       "    </tr>\n",
       "  </tbody>\n",
       "</table>\n",
       "</div>"
      ],
      "text/plain": [
       "     weekday\n",
       "Sat   653551\n",
       "Fri   584790\n",
       "Sun   567181\n",
       "Thu   545489\n",
       "Wed   537730\n",
       "Tue   522104\n",
       "Mon   500373"
      ]
     },
     "execution_count": 26,
     "metadata": {},
     "output_type": "execute_result"
    }
   ],
   "source": [
    "checkin_day = pd.DataFrame(pandas_checkin['weekday'].value_counts())\n",
    "checkin_day"
   ]
  },
  {
   "cell_type": "code",
   "execution_count": 27,
   "id": "31c514e1",
   "metadata": {},
   "outputs": [
    {
     "data": {
      "text/plain": [
       "<BarContainer object of 7 artists>"
      ]
     },
     "execution_count": 27,
     "metadata": {},
     "output_type": "execute_result"
    },
    {
     "data": {
      "text/plain": [
       "Text(0.5, 0, 'Day')"
      ]
     },
     "execution_count": 27,
     "metadata": {},
     "output_type": "execute_result"
    },
    {
     "data": {
      "text/plain": [
       "Text(0, 0.5, 'Count')"
      ]
     },
     "execution_count": 27,
     "metadata": {},
     "output_type": "execute_result"
    },
    {
     "data": {
      "text/plain": [
       "Text(0.5, 1.0, 'Check-in Count per Day')"
      ]
     },
     "execution_count": 27,
     "metadata": {},
     "output_type": "execute_result"
    },
    {
     "data": {
      "image/png": "[encoded data removed]",
      "text/plain": [
       "<Figure size 432x288 with 1 Axes>"
      ]
     },
     "metadata": {
      "needs_background": "light"
     },
     "output_type": "display_data"
    }
   ],
   "source": [
    "# Plot count per day \n",
    "\n",
    "plt.bar(checkin_day.index, checkin_day['weekday'], color='green')\n",
    "plt.xlabel('Day')\n",
    "plt.ylabel('Count')\n",
    "plt.title('Check-in Count per Day')\n",
    "plt.show()"
   ]
  },
  {
   "cell_type": "code",
   "execution_count": 28,
   "id": "6719f038",
   "metadata": {},
   "outputs": [],
   "source": [
    "# Find count by hour \n",
    "\n",
    "hour_count = pd.DataFrame(pandas_checkin['hour'].value_counts())"
   ]
  },
  {
   "cell_type": "code",
   "execution_count": 29,
   "id": "0e2b86e1",
   "metadata": {},
   "outputs": [
    {
     "data": {
      "text/plain": [
       "<BarContainer object of 24 artists>"
      ]
     },
     "execution_count": 29,
     "metadata": {},
     "output_type": "execute_result"
    },
    {
     "data": {
      "text/plain": [
       "Text(0.5, 0, 'Hour')"
      ]
     },
     "execution_count": 29,
     "metadata": {},
     "output_type": "execute_result"
    },
    {
     "data": {
      "text/plain": [
       "([0,\n",
       "  1,\n",
       "  2,\n",
       "  3,\n",
       "  4,\n",
       "  5,\n",
       "  6,\n",
       "  7,\n",
       "  8,\n",
       "  9,\n",
       "  10,\n",
       "  11,\n",
       "  12,\n",
       "  13,\n",
       "  14,\n",
       "  15,\n",
       "  16,\n",
       "  17,\n",
       "  18,\n",
       "  19,\n",
       "  20,\n",
       "  21,\n",
       "  22,\n",
       "  23],\n",
       " [Text(0, 0, ''),\n",
       "  Text(0, 0, ''),\n",
       "  Text(0, 0, ''),\n",
       "  Text(0, 0, ''),\n",
       "  Text(0, 0, ''),\n",
       "  Text(0, 0, ''),\n",
       "  Text(0, 0, ''),\n",
       "  Text(0, 0, ''),\n",
       "  Text(0, 0, ''),\n",
       "  Text(0, 0, ''),\n",
       "  Text(0, 0, ''),\n",
       "  Text(0, 0, ''),\n",
       "  Text(0, 0, ''),\n",
       "  Text(0, 0, ''),\n",
       "  Text(0, 0, ''),\n",
       "  Text(0, 0, ''),\n",
       "  Text(0, 0, ''),\n",
       "  Text(0, 0, ''),\n",
       "  Text(0, 0, ''),\n",
       "  Text(0, 0, ''),\n",
       "  Text(0, 0, ''),\n",
       "  Text(0, 0, ''),\n",
       "  Text(0, 0, ''),\n",
       "  Text(0, 0, '')])"
      ]
     },
     "execution_count": 29,
     "metadata": {},
     "output_type": "execute_result"
    },
    {
     "data": {
      "text/plain": [
       "Text(0, 0.5, 'Count')"
      ]
     },
     "execution_count": 29,
     "metadata": {},
     "output_type": "execute_result"
    },
    {
     "data": {
      "text/plain": [
       "Text(0.5, 1.0, 'Check-in Count per Hour')"
      ]
     },
     "execution_count": 29,
     "metadata": {},
     "output_type": "execute_result"
    },
    {
     "data": {
      "image/png": "[encoded data removed]",
      "text/plain": [
       "<Figure size 432x288 with 1 Axes>"
      ]
     },
     "metadata": {
      "needs_background": "light"
     },
     "output_type": "display_data"
    }
   ],
   "source": [
    "# Plot count by hour \n",
    "\n",
    "plt.bar(hour_count.index, hour_count['hour'], color = 'maroon')\n",
    "plt.xlabel('Hour')\n",
    "plt.xticks(rotation = 75)\n",
    "plt.ylabel('Count')\n",
    "plt.title('Check-in Count per Hour')\n",
    "plt.show()"
   ]
  },
  {
   "cell_type": "markdown",
   "id": "27b54cec",
   "metadata": {},
   "source": [
    "### Tip"
   ]
  },
  {
   "cell_type": "code",
   "execution_count": 30,
   "id": "3dad74ac",
   "metadata": {},
   "outputs": [
    {
     "data": {
      "text/html": [
       "<div>\n",
       "<style scoped>\n",
       "    .dataframe tbody tr th:only-of-type {\n",
       "        vertical-align: middle;\n",
       "    }\n",
       "\n",
       "    .dataframe tbody tr th {\n",
       "        vertical-align: top;\n",
       "    }\n",
       "\n",
       "    .dataframe thead th {\n",
       "        text-align: right;\n",
       "    }\n",
       "</style>\n",
       "<table border=\"1\" class=\"dataframe\">\n",
       "  <thead>\n",
       "    <tr style=\"text-align: right;\">\n",
       "      <th></th>\n",
       "      <th>text</th>\n",
       "      <th>date</th>\n",
       "      <th>likes</th>\n",
       "      <th>business_id</th>\n",
       "      <th>user_id</th>\n",
       "    </tr>\n",
       "  </thead>\n",
       "  <tbody>\n",
       "    <tr>\n",
       "      <th>0</th>\n",
       "      <td>Great breakfast large portions and friendly wa...</td>\n",
       "      <td>2015-08-12</td>\n",
       "      <td>0</td>\n",
       "      <td>jH19V2I9fIslnNhDzPmdkA</td>\n",
       "      <td>ZcLKXikTHYOnYt5VYRO5sg</td>\n",
       "    </tr>\n",
       "    <tr>\n",
       "      <th>1</th>\n",
       "      <td>Nice place. Great staff.  A fixture in the tow...</td>\n",
       "      <td>2014-06-20</td>\n",
       "      <td>0</td>\n",
       "      <td>dAa0hB2yrnHzVmsCkN4YvQ</td>\n",
       "      <td>oaYhjqBbh18ZhU0bpyzSuw</td>\n",
       "    </tr>\n",
       "    <tr>\n",
       "      <th>2</th>\n",
       "      <td>Happy hour 5-7 Monday - Friday</td>\n",
       "      <td>2016-10-12</td>\n",
       "      <td>0</td>\n",
       "      <td>dAa0hB2yrnHzVmsCkN4YvQ</td>\n",
       "      <td>ulQ8Nyj7jCUR8M83SUMoRQ</td>\n",
       "    </tr>\n",
       "    <tr>\n",
       "      <th>3</th>\n",
       "      <td>Parking is a premium, keep circling, you will ...</td>\n",
       "      <td>2017-01-28</td>\n",
       "      <td>0</td>\n",
       "      <td>ESzO3Av0b1_TzKOiqzbQYQ</td>\n",
       "      <td>ulQ8Nyj7jCUR8M83SUMoRQ</td>\n",
       "    </tr>\n",
       "    <tr>\n",
       "      <th>4</th>\n",
       "      <td>Homemade pasta is the best in the area</td>\n",
       "      <td>2017-02-25</td>\n",
       "      <td>0</td>\n",
       "      <td>k7WRPbDd7rztjHcGGkEjlw</td>\n",
       "      <td>ulQ8Nyj7jCUR8M83SUMoRQ</td>\n",
       "    </tr>\n",
       "  </tbody>\n",
       "</table>\n",
       "</div>"
      ],
      "text/plain": [
       "                                                text        date  likes  \\\n",
       "0  Great breakfast large portions and friendly wa...  2015-08-12      0   \n",
       "1  Nice place. Great staff.  A fixture in the tow...  2014-06-20      0   \n",
       "2                     Happy hour 5-7 Monday - Friday  2016-10-12      0   \n",
       "3  Parking is a premium, keep circling, you will ...  2017-01-28      0   \n",
       "4             Homemade pasta is the best in the area  2017-02-25      0   \n",
       "\n",
       "              business_id                 user_id  \n",
       "0  jH19V2I9fIslnNhDzPmdkA  ZcLKXikTHYOnYt5VYRO5sg  \n",
       "1  dAa0hB2yrnHzVmsCkN4YvQ  oaYhjqBbh18ZhU0bpyzSuw  \n",
       "2  dAa0hB2yrnHzVmsCkN4YvQ  ulQ8Nyj7jCUR8M83SUMoRQ  \n",
       "3  ESzO3Av0b1_TzKOiqzbQYQ  ulQ8Nyj7jCUR8M83SUMoRQ  \n",
       "4  k7WRPbDd7rztjHcGGkEjlw  ulQ8Nyj7jCUR8M83SUMoRQ  "
      ]
     },
     "execution_count": 30,
     "metadata": {},
     "output_type": "execute_result"
    }
   ],
   "source": [
    "pandas_tip = pd.read_csv('yelp-dataset/yelp_tip.csv')\n",
    "pandas_tip.head()"
   ]
  },
  {
   "cell_type": "code",
   "execution_count": 31,
   "id": "1e73a2e8",
   "metadata": {},
   "outputs": [
    {
     "data": {
      "text/plain": [
       "text           2\n",
       "date           0\n",
       "likes          0\n",
       "business_id    0\n",
       "user_id        0\n",
       "dtype: int64"
      ]
     },
     "execution_count": 31,
     "metadata": {},
     "output_type": "execute_result"
    }
   ],
   "source": [
    "# See if there are any N/A values in any column and count them \n",
    "\n",
    "pandas_tip.isnull().sum(axis = 0)"
   ]
  },
  {
   "cell_type": "code",
   "execution_count": 32,
   "id": "b6b7266f",
   "metadata": {},
   "outputs": [
    {
     "data": {
      "text/plain": [
       "1098322"
      ]
     },
     "execution_count": 32,
     "metadata": {},
     "output_type": "execute_result"
    }
   ],
   "source": [
    "# Find number of tips \n",
    "\n",
    "pandas_tip['text'].count()"
   ]
  },
  {
   "cell_type": "markdown",
   "id": "5b40957a",
   "metadata": {},
   "source": [
    "### User "
   ]
  },
  {
   "cell_type": "code",
   "execution_count": 33,
   "id": "49140f94",
   "metadata": {},
   "outputs": [
    {
     "data": {
      "text/html": [
       "<div>\n",
       "<style scoped>\n",
       "    .dataframe tbody tr th:only-of-type {\n",
       "        vertical-align: middle;\n",
       "    }\n",
       "\n",
       "    .dataframe tbody tr th {\n",
       "        vertical-align: top;\n",
       "    }\n",
       "\n",
       "    .dataframe thead th {\n",
       "        text-align: right;\n",
       "    }\n",
       "</style>\n",
       "<table border=\"1\" class=\"dataframe\">\n",
       "  <thead>\n",
       "    <tr style=\"text-align: right;\">\n",
       "      <th></th>\n",
       "      <th>user_id</th>\n",
       "      <th>name</th>\n",
       "      <th>review_count</th>\n",
       "      <th>yelping_since</th>\n",
       "      <th>friends</th>\n",
       "      <th>useful</th>\n",
       "      <th>funny</th>\n",
       "      <th>cool</th>\n",
       "      <th>fans</th>\n",
       "      <th>elite</th>\n",
       "      <th>...</th>\n",
       "      <th>compliment_more</th>\n",
       "      <th>compliment_profile</th>\n",
       "      <th>compliment_cute</th>\n",
       "      <th>compliment_list</th>\n",
       "      <th>compliment_note</th>\n",
       "      <th>compliment_plain</th>\n",
       "      <th>compliment_cool</th>\n",
       "      <th>compliment_funny</th>\n",
       "      <th>compliment_writer</th>\n",
       "      <th>compliment_photos</th>\n",
       "    </tr>\n",
       "  </thead>\n",
       "  <tbody>\n",
       "    <tr>\n",
       "      <th>0</th>\n",
       "      <td>JJ-aSuM4pCFPdkfoZ34q0Q</td>\n",
       "      <td>Chris</td>\n",
       "      <td>10</td>\n",
       "      <td>2013-09-24</td>\n",
       "      <td>0njfJmB-7n84DlIgUByCNw, rFn3Xe3RqHxRSxWOU19Gpg...</td>\n",
       "      <td>0</td>\n",
       "      <td>0</td>\n",
       "      <td>0</td>\n",
       "      <td>0</td>\n",
       "      <td>None</td>\n",
       "      <td>...</td>\n",
       "      <td>0</td>\n",
       "      <td>0</td>\n",
       "      <td>0</td>\n",
       "      <td>0</td>\n",
       "      <td>0</td>\n",
       "      <td>0</td>\n",
       "      <td>0</td>\n",
       "      <td>0</td>\n",
       "      <td>0</td>\n",
       "      <td>0</td>\n",
       "    </tr>\n",
       "    <tr>\n",
       "      <th>1</th>\n",
       "      <td>uUzsFQn_6cXDh6rPNGbIFA</td>\n",
       "      <td>Tiffy</td>\n",
       "      <td>1</td>\n",
       "      <td>2017-03-02</td>\n",
       "      <td>None</td>\n",
       "      <td>0</td>\n",
       "      <td>0</td>\n",
       "      <td>0</td>\n",
       "      <td>0</td>\n",
       "      <td>None</td>\n",
       "      <td>...</td>\n",
       "      <td>0</td>\n",
       "      <td>0</td>\n",
       "      <td>0</td>\n",
       "      <td>0</td>\n",
       "      <td>0</td>\n",
       "      <td>0</td>\n",
       "      <td>0</td>\n",
       "      <td>0</td>\n",
       "      <td>0</td>\n",
       "      <td>0</td>\n",
       "    </tr>\n",
       "    <tr>\n",
       "      <th>2</th>\n",
       "      <td>mBneaEEH5EMyxaVyqS-72A</td>\n",
       "      <td>Mark</td>\n",
       "      <td>6</td>\n",
       "      <td>2015-03-13</td>\n",
       "      <td>None</td>\n",
       "      <td>0</td>\n",
       "      <td>0</td>\n",
       "      <td>0</td>\n",
       "      <td>0</td>\n",
       "      <td>None</td>\n",
       "      <td>...</td>\n",
       "      <td>0</td>\n",
       "      <td>0</td>\n",
       "      <td>0</td>\n",
       "      <td>0</td>\n",
       "      <td>0</td>\n",
       "      <td>0</td>\n",
       "      <td>0</td>\n",
       "      <td>0</td>\n",
       "      <td>0</td>\n",
       "      <td>0</td>\n",
       "    </tr>\n",
       "    <tr>\n",
       "      <th>3</th>\n",
       "      <td>W5mJGs-dcDWRGEhAzUYtoA</td>\n",
       "      <td>Evelyn</td>\n",
       "      <td>3</td>\n",
       "      <td>2016-09-08</td>\n",
       "      <td>None</td>\n",
       "      <td>0</td>\n",
       "      <td>0</td>\n",
       "      <td>0</td>\n",
       "      <td>0</td>\n",
       "      <td>None</td>\n",
       "      <td>...</td>\n",
       "      <td>0</td>\n",
       "      <td>0</td>\n",
       "      <td>0</td>\n",
       "      <td>0</td>\n",
       "      <td>0</td>\n",
       "      <td>0</td>\n",
       "      <td>0</td>\n",
       "      <td>0</td>\n",
       "      <td>0</td>\n",
       "      <td>0</td>\n",
       "    </tr>\n",
       "    <tr>\n",
       "      <th>4</th>\n",
       "      <td>4E8--zUZO1Rr1IBK4_83fg</td>\n",
       "      <td>Lisa</td>\n",
       "      <td>11</td>\n",
       "      <td>2012-07-16</td>\n",
       "      <td>None</td>\n",
       "      <td>4</td>\n",
       "      <td>0</td>\n",
       "      <td>0</td>\n",
       "      <td>0</td>\n",
       "      <td>None</td>\n",
       "      <td>...</td>\n",
       "      <td>0</td>\n",
       "      <td>0</td>\n",
       "      <td>0</td>\n",
       "      <td>0</td>\n",
       "      <td>0</td>\n",
       "      <td>0</td>\n",
       "      <td>0</td>\n",
       "      <td>0</td>\n",
       "      <td>1</td>\n",
       "      <td>0</td>\n",
       "    </tr>\n",
       "  </tbody>\n",
       "</table>\n",
       "<p>5 rows × 22 columns</p>\n",
       "</div>"
      ],
      "text/plain": [
       "                  user_id    name  review_count yelping_since  \\\n",
       "0  JJ-aSuM4pCFPdkfoZ34q0Q   Chris            10    2013-09-24   \n",
       "1  uUzsFQn_6cXDh6rPNGbIFA   Tiffy             1    2017-03-02   \n",
       "2  mBneaEEH5EMyxaVyqS-72A    Mark             6    2015-03-13   \n",
       "3  W5mJGs-dcDWRGEhAzUYtoA  Evelyn             3    2016-09-08   \n",
       "4  4E8--zUZO1Rr1IBK4_83fg    Lisa            11    2012-07-16   \n",
       "\n",
       "                                             friends  useful  funny  cool  \\\n",
       "0  0njfJmB-7n84DlIgUByCNw, rFn3Xe3RqHxRSxWOU19Gpg...       0      0     0   \n",
       "1                                               None       0      0     0   \n",
       "2                                               None       0      0     0   \n",
       "3                                               None       0      0     0   \n",
       "4                                               None       4      0     0   \n",
       "\n",
       "   fans elite  ...  compliment_more  compliment_profile  compliment_cute  \\\n",
       "0     0  None  ...                0                   0                0   \n",
       "1     0  None  ...                0                   0                0   \n",
       "2     0  None  ...                0                   0                0   \n",
       "3     0  None  ...                0                   0                0   \n",
       "4     0  None  ...                0                   0                0   \n",
       "\n",
       "   compliment_list  compliment_note  compliment_plain  compliment_cool  \\\n",
       "0                0                0                 0                0   \n",
       "1                0                0                 0                0   \n",
       "2                0                0                 0                0   \n",
       "3                0                0                 0                0   \n",
       "4                0                0                 0                0   \n",
       "\n",
       "   compliment_funny  compliment_writer  compliment_photos  \n",
       "0                 0                  0                  0  \n",
       "1                 0                  0                  0  \n",
       "2                 0                  0                  0  \n",
       "3                 0                  0                  0  \n",
       "4                 0                  1                  0  \n",
       "\n",
       "[5 rows x 22 columns]"
      ]
     },
     "execution_count": 33,
     "metadata": {},
     "output_type": "execute_result"
    }
   ],
   "source": [
    "pandas_user = pd.read_csv('yelp-dataset/yelp_user.csv')\n",
    "pandas_user.head()"
   ]
  },
  {
   "cell_type": "code",
   "execution_count": 34,
   "id": "4173734b",
   "metadata": {},
   "outputs": [
    {
     "data": {
      "text/plain": [
       "user_id                 0\n",
       "name                  497\n",
       "review_count            0\n",
       "yelping_since           0\n",
       "friends                 0\n",
       "useful                  0\n",
       "funny                   0\n",
       "cool                    0\n",
       "fans                    0\n",
       "elite                   0\n",
       "average_stars           0\n",
       "compliment_hot          0\n",
       "compliment_more         0\n",
       "compliment_profile      0\n",
       "compliment_cute         0\n",
       "compliment_list         0\n",
       "compliment_note         0\n",
       "compliment_plain        0\n",
       "compliment_cool         0\n",
       "compliment_funny        0\n",
       "compliment_writer       0\n",
       "compliment_photos       0\n",
       "dtype: int64"
      ]
     },
     "execution_count": 34,
     "metadata": {},
     "output_type": "execute_result"
    }
   ],
   "source": [
    "# See if there are any N/A values in any column and count them \n",
    "\n",
    "pandas_user.isnull().sum(axis = 0)"
   ]
  },
  {
   "cell_type": "code",
   "execution_count": 35,
   "id": "91a52770",
   "metadata": {},
   "outputs": [
    {
     "data": {
      "text/plain": [
       "None                                                          1265282\n",
       "2017                                                             9148\n",
       "2016, 2017                                                       3952\n",
       "2017, 2016                                                       3898\n",
       "2015, 2017, 2016                                                 1070\n",
       "                                                               ...   \n",
       "2017, 2015, 2012, 2016, 2011, 2014, 2013                            1\n",
       "2016, 2009, 2013, 2014, 2010, 2017, 2012, 2011                      1\n",
       "2013, 2006, 2012, 2007                                              1\n",
       "2016, 2007, 2013, 2011, 2014, 2012, 2015, 2017, 2009, 2010          1\n",
       "2016, 2017, 2011, 2008, 2015, 2013, 2014, 2009, 2010, 2012          1\n",
       "Name: elite, Length: 8413, dtype: int64"
      ]
     },
     "execution_count": 35,
     "metadata": {},
     "output_type": "execute_result"
    }
   ],
   "source": [
    "pandas_user.elite.value_counts()"
   ]
  },
  {
   "cell_type": "markdown",
   "id": "687a17f2",
   "metadata": {},
   "source": [
    "# Spark"
   ]
  },
  {
   "cell_type": "markdown",
   "id": "ee16244a",
   "metadata": {},
   "source": [
    "## Create Spark Session "
   ]
  },
  {
   "cell_type": "code",
   "execution_count": 36,
   "id": "db51672e",
   "metadata": {},
   "outputs": [],
   "source": [
    "sc = SparkContext(\"local[*]\")\n",
    "spark = SparkSession(sc)"
   ]
  },
  {
   "cell_type": "markdown",
   "id": "69c8ac1b",
   "metadata": {},
   "source": [
    "## Convert Each CSV File into Spark DataFrame\n",
    "#### And clean the DataFrame if necessary "
   ]
  },
  {
   "cell_type": "markdown",
   "id": "375049bd",
   "metadata": {},
   "source": [
    "### 1. Review"
   ]
  },
  {
   "cell_type": "code",
   "execution_count": 37,
   "id": "41ff21ae",
   "metadata": {},
   "outputs": [
    {
     "name": "stdout",
     "output_type": "stream",
     "text": [
      "+--------------------+--------------------+--------------------+-----+----------+--------------------+------+-----+----+\n",
      "|           review_id|             user_id|         business_id|stars|      date|                text|useful|funny|cool|\n",
      "+--------------------+--------------------+--------------------+-----+----------+--------------------+------+-----+----+\n",
      "|vkVSCC7xljjrAI4UG...|bv2nCi5Qv5vroFiqK...|AEx2SYEUJmTxVVB18...|    5|2016-05-28|Super simple plac...|  null| null|null|\n",
      "|Staff was very he...|                   0|                   0|    0|      null|                null|  null| null|null|\n",
      "|n6QzIUObkYshz4dz2...|bv2nCi5Qv5vroFiqK...|VR6GpWIda3SfvPC-l...|    5|2016-05-28|Small unassuming ...|  null| null|null|\n",
      "|We had their beef...|                null|                null| null|      null|                null|  null| null|null|\n",
      "|A bit outside of ...|                   0|                   0|    0|      null|                null|  null| null|null|\n",
      "|MV3CcKScW05u5LVfF...|bv2nCi5Qv5vroFiqK...|CKC0-MOWMqoeWf6s-...|    5|2016-05-28|Lester's is locat...|  null| null|null|\n",
      "|The smoked meat i...|                   0|                   0|    0|      null|                null|  null| null|null|\n",
      "|IXvOzsEMYtiJI0CAR...|bv2nCi5Qv5vroFiqK...|ACFtxLv8pGrrxMm6E...|    4|2016-05-28|Love coming here....|  null| null|null|\n",
      "|The food speaks f...| so good. Burgers...| the regular is a...| null|      null|                null|  null| null|null|\n",
      "|Getting the Cajun...|                   0|                   0|    0|      null|                null|  null| null|null|\n",
      "|L_9BTb55X0GDtThi6...|bv2nCi5Qv5vroFiqK...|s2I_Ni76bjJNK9yG6...|    4|2016-05-28|Had their chocola...|  null| null|null|\n",
      "|If you're looking...|                   0|                   0|    0|      null|                null|  null| null|null|\n",
      "|HRPm3vEZ_F-33TYVT...|_4iMDXbXZ1p1ONG29...|8QWPlVQ6D-OExqXoa...|    5|2014-09-24|Cycle Pub Las Veg...|     1|    0|   0|\n",
      "|ymAUG8DZfQcFTBSOi...|u0LXt3Uea_GidxRW1...|9_CGhHMz8698M9-Pk...|    4|2012-05-11|Who would have gu...|  null| null|null|\n",
      "|Not quite the sam...| this is the next...|                null| null|      null|                null|  null| null|null|\n",
      "|So far the only i...| chicken & vegeta...|                null| null|      null|                null|  null| null|null|\n",
      "| Next time I go back| I'm going to try...|                   0|    0|         2|                null|  null| null|null|\n",
      "|8UIishPUD92hXtScS...|u0LXt3Uea_GidxRW1...|gkCorLgPyQLsptTHa...|    4|2015-10-27|Always drove past...|  null| null|null|\n",
      "|                Cute| quaint coffee sh...|                null| null|      null|                null|  null| null|null|\n",
      "|BF ordered an ice...|                   1|                   0|    0|      null|                null|  null| null|null|\n",
      "+--------------------+--------------------+--------------------+-----+----------+--------------------+------+-----+----+\n",
      "only showing top 20 rows\n",
      "\n"
     ]
    }
   ],
   "source": [
    "review = spark.read.option(\"inferSchema\",True).csv( \"yelp-dataset/yelp_review.csv\", header=True)\n",
    "review.show()"
   ]
  },
  {
   "cell_type": "code",
   "execution_count": 38,
   "id": "a8301492",
   "metadata": {},
   "outputs": [
    {
     "name": "stdout",
     "output_type": "stream",
     "text": [
      "Data overview\n",
      "root\n",
      " |-- review_id: string (nullable = true)\n",
      " |-- user_id: string (nullable = true)\n",
      " |-- business_id: string (nullable = true)\n",
      " |-- stars: string (nullable = true)\n",
      " |-- date: string (nullable = true)\n",
      " |-- text: string (nullable = true)\n",
      " |-- useful: string (nullable = true)\n",
      " |-- funny: string (nullable = true)\n",
      " |-- cool: string (nullable = true)\n",
      "\n",
      "Columns overview\n"
     ]
    },
    {
     "data": {
      "text/html": [
       "<div>\n",
       "<style scoped>\n",
       "    .dataframe tbody tr th:only-of-type {\n",
       "        vertical-align: middle;\n",
       "    }\n",
       "\n",
       "    .dataframe tbody tr th {\n",
       "        vertical-align: top;\n",
       "    }\n",
       "\n",
       "    .dataframe thead th {\n",
       "        text-align: right;\n",
       "    }\n",
       "</style>\n",
       "<table border=\"1\" class=\"dataframe\">\n",
       "  <thead>\n",
       "    <tr style=\"text-align: right;\">\n",
       "      <th></th>\n",
       "      <th>Column Name</th>\n",
       "      <th>Data type</th>\n",
       "    </tr>\n",
       "  </thead>\n",
       "  <tbody>\n",
       "    <tr>\n",
       "      <th>0</th>\n",
       "      <td>review_id</td>\n",
       "      <td>string</td>\n",
       "    </tr>\n",
       "    <tr>\n",
       "      <th>1</th>\n",
       "      <td>user_id</td>\n",
       "      <td>string</td>\n",
       "    </tr>\n",
       "    <tr>\n",
       "      <th>2</th>\n",
       "      <td>business_id</td>\n",
       "      <td>string</td>\n",
       "    </tr>\n",
       "    <tr>\n",
       "      <th>3</th>\n",
       "      <td>stars</td>\n",
       "      <td>string</td>\n",
       "    </tr>\n",
       "    <tr>\n",
       "      <th>4</th>\n",
       "      <td>date</td>\n",
       "      <td>string</td>\n",
       "    </tr>\n",
       "    <tr>\n",
       "      <th>5</th>\n",
       "      <td>text</td>\n",
       "      <td>string</td>\n",
       "    </tr>\n",
       "    <tr>\n",
       "      <th>6</th>\n",
       "      <td>useful</td>\n",
       "      <td>string</td>\n",
       "    </tr>\n",
       "    <tr>\n",
       "      <th>7</th>\n",
       "      <td>funny</td>\n",
       "      <td>string</td>\n",
       "    </tr>\n",
       "    <tr>\n",
       "      <th>8</th>\n",
       "      <td>cool</td>\n",
       "      <td>string</td>\n",
       "    </tr>\n",
       "  </tbody>\n",
       "</table>\n",
       "</div>"
      ],
      "text/plain": [
       "   Column Name Data type\n",
       "0    review_id    string\n",
       "1      user_id    string\n",
       "2  business_id    string\n",
       "3        stars    string\n",
       "4         date    string\n",
       "5         text    string\n",
       "6       useful    string\n",
       "7        funny    string\n",
       "8         cool    string"
      ]
     },
     "execution_count": 38,
     "metadata": {},
     "output_type": "execute_result"
    }
   ],
   "source": [
    "# Print schema and convert data types into pandas DataFrame \n",
    "\n",
    "print('Data overview')\n",
    "review.printSchema()\n",
    "print('Columns overview')\n",
    "pd.DataFrame(review.dtypes, columns = ['Column Name','Data type'])"
   ]
  },
  {
   "cell_type": "code",
   "execution_count": 39,
   "id": "09463563",
   "metadata": {},
   "outputs": [
    {
     "data": {
      "text/plain": [
       "12454737"
      ]
     },
     "execution_count": 39,
     "metadata": {},
     "output_type": "execute_result"
    }
   ],
   "source": [
    "# Number of rows in spark dataframe \n",
    "\n",
    "review.count()"
   ]
  },
  {
   "cell_type": "code",
   "execution_count": 40,
   "id": "0880f680",
   "metadata": {},
   "outputs": [
    {
     "data": {
      "text/plain": [
       "5261668"
      ]
     },
     "execution_count": 40,
     "metadata": {},
     "output_type": "execute_result"
    }
   ],
   "source": [
    "pandas_review['text'].count()"
   ]
  },
  {
   "cell_type": "code",
   "execution_count": 75,
   "id": "e0ee69e5",
   "metadata": {},
   "outputs": [
    {
     "data": {
      "text/html": [
       "<div>\n",
       "<style scoped>\n",
       "    .dataframe tbody tr th:only-of-type {\n",
       "        vertical-align: middle;\n",
       "    }\n",
       "\n",
       "    .dataframe tbody tr th {\n",
       "        vertical-align: top;\n",
       "    }\n",
       "\n",
       "    .dataframe thead th {\n",
       "        text-align: right;\n",
       "    }\n",
       "</style>\n",
       "<table border=\"1\" class=\"dataframe\">\n",
       "  <thead>\n",
       "    <tr style=\"text-align: right;\">\n",
       "      <th></th>\n",
       "      <th>review_id</th>\n",
       "      <th>user_id</th>\n",
       "      <th>business_id</th>\n",
       "      <th>stars</th>\n",
       "      <th>date</th>\n",
       "      <th>text</th>\n",
       "      <th>useful</th>\n",
       "      <th>funny</th>\n",
       "      <th>cool</th>\n",
       "    </tr>\n",
       "  </thead>\n",
       "  <tbody>\n",
       "    <tr>\n",
       "      <th>0</th>\n",
       "      <td>vkVSCC7xljjrAI4UGfnKEQ</td>\n",
       "      <td>bv2nCi5Qv5vroFiqKGopiw</td>\n",
       "      <td>AEx2SYEUJmTxVVB18LlCwA</td>\n",
       "      <td>5</td>\n",
       "      <td>2016-05-28</td>\n",
       "      <td>Super simple place but amazing nonetheless. It...</td>\n",
       "      <td>None</td>\n",
       "      <td>None</td>\n",
       "      <td>None</td>\n",
       "    </tr>\n",
       "    <tr>\n",
       "      <th>1</th>\n",
       "      <td>Staff was very helpful and friendly.\"</td>\n",
       "      <td>0</td>\n",
       "      <td>0</td>\n",
       "      <td>0</td>\n",
       "      <td>None</td>\n",
       "      <td>None</td>\n",
       "      <td>None</td>\n",
       "      <td>None</td>\n",
       "      <td>None</td>\n",
       "    </tr>\n",
       "    <tr>\n",
       "      <th>2</th>\n",
       "      <td>n6QzIUObkYshz4dz2QRJTw</td>\n",
       "      <td>bv2nCi5Qv5vroFiqKGopiw</td>\n",
       "      <td>VR6GpWIda3SfvPC-lg9H3w</td>\n",
       "      <td>5</td>\n",
       "      <td>2016-05-28</td>\n",
       "      <td>Small unassuming place that changes their menu...</td>\n",
       "      <td>None</td>\n",
       "      <td>None</td>\n",
       "      <td>None</td>\n",
       "    </tr>\n",
       "    <tr>\n",
       "      <th>3</th>\n",
       "      <td>We had their beef tartar and pork belly to sta...</td>\n",
       "      <td>None</td>\n",
       "      <td>None</td>\n",
       "      <td>None</td>\n",
       "      <td>None</td>\n",
       "      <td>None</td>\n",
       "      <td>None</td>\n",
       "      <td>None</td>\n",
       "      <td>None</td>\n",
       "    </tr>\n",
       "    <tr>\n",
       "      <th>4</th>\n",
       "      <td>A bit outside of downtown montreal but take th...</td>\n",
       "      <td>0</td>\n",
       "      <td>0</td>\n",
       "      <td>0</td>\n",
       "      <td>None</td>\n",
       "      <td>None</td>\n",
       "      <td>None</td>\n",
       "      <td>None</td>\n",
       "      <td>None</td>\n",
       "    </tr>\n",
       "    <tr>\n",
       "      <th>5</th>\n",
       "      <td>MV3CcKScW05u5LVfF6ok0g</td>\n",
       "      <td>bv2nCi5Qv5vroFiqKGopiw</td>\n",
       "      <td>CKC0-MOWMqoeWf6s-szl8g</td>\n",
       "      <td>5</td>\n",
       "      <td>2016-05-28</td>\n",
       "      <td>Lester's is located in a beautiful neighborhoo...</td>\n",
       "      <td>None</td>\n",
       "      <td>None</td>\n",
       "      <td>None</td>\n",
       "    </tr>\n",
       "    <tr>\n",
       "      <th>6</th>\n",
       "      <td>The smoked meat is up there in quality and tas...</td>\n",
       "      <td>0</td>\n",
       "      <td>0</td>\n",
       "      <td>0</td>\n",
       "      <td>None</td>\n",
       "      <td>None</td>\n",
       "      <td>None</td>\n",
       "      <td>None</td>\n",
       "      <td>None</td>\n",
       "    </tr>\n",
       "    <tr>\n",
       "      <th>7</th>\n",
       "      <td>IXvOzsEMYtiJI0CARmj77Q</td>\n",
       "      <td>bv2nCi5Qv5vroFiqKGopiw</td>\n",
       "      <td>ACFtxLv8pGrrxMm6EgjreA</td>\n",
       "      <td>4</td>\n",
       "      <td>2016-05-28</td>\n",
       "      <td>Love coming here. Yes the place always needs t...</td>\n",
       "      <td>None</td>\n",
       "      <td>None</td>\n",
       "      <td>None</td>\n",
       "    </tr>\n",
       "    <tr>\n",
       "      <th>8</th>\n",
       "      <td>The food speaks for itself</td>\n",
       "      <td>so good. Burgers are made to order and the me...</td>\n",
       "      <td>the regular is a 2 patty burger which is twic...</td>\n",
       "      <td>None</td>\n",
       "      <td>None</td>\n",
       "      <td>None</td>\n",
       "      <td>None</td>\n",
       "      <td>None</td>\n",
       "      <td>None</td>\n",
       "    </tr>\n",
       "    <tr>\n",
       "      <th>9</th>\n",
       "      <td>Getting the Cajun fries adds a bit of spice to...</td>\n",
       "      <td>0</td>\n",
       "      <td>0</td>\n",
       "      <td>0</td>\n",
       "      <td>None</td>\n",
       "      <td>None</td>\n",
       "      <td>None</td>\n",
       "      <td>None</td>\n",
       "      <td>None</td>\n",
       "    </tr>\n",
       "    <tr>\n",
       "      <th>10</th>\n",
       "      <td>L_9BTb55X0GDtThi6GlZ6w</td>\n",
       "      <td>bv2nCi5Qv5vroFiqKGopiw</td>\n",
       "      <td>s2I_Ni76bjJNK9yG60iD-Q</td>\n",
       "      <td>4</td>\n",
       "      <td>2016-05-28</td>\n",
       "      <td>Had their chocolate almond croissant and it wa...</td>\n",
       "      <td>None</td>\n",
       "      <td>None</td>\n",
       "      <td>None</td>\n",
       "    </tr>\n",
       "    <tr>\n",
       "      <th>11</th>\n",
       "      <td>If you're looking for a light breakfast then h...</td>\n",
       "      <td>0</td>\n",
       "      <td>0</td>\n",
       "      <td>0</td>\n",
       "      <td>None</td>\n",
       "      <td>None</td>\n",
       "      <td>None</td>\n",
       "      <td>None</td>\n",
       "      <td>None</td>\n",
       "    </tr>\n",
       "  </tbody>\n",
       "</table>\n",
       "</div>"
      ],
      "text/plain": [
       "                                            review_id  \\\n",
       "0                              vkVSCC7xljjrAI4UGfnKEQ   \n",
       "1               Staff was very helpful and friendly.\"   \n",
       "2                              n6QzIUObkYshz4dz2QRJTw   \n",
       "3   We had their beef tartar and pork belly to sta...   \n",
       "4   A bit outside of downtown montreal but take th...   \n",
       "5                              MV3CcKScW05u5LVfF6ok0g   \n",
       "6   The smoked meat is up there in quality and tas...   \n",
       "7                              IXvOzsEMYtiJI0CARmj77Q   \n",
       "8                          The food speaks for itself   \n",
       "9   Getting the Cajun fries adds a bit of spice to...   \n",
       "10                             L_9BTb55X0GDtThi6GlZ6w   \n",
       "11  If you're looking for a light breakfast then h...   \n",
       "\n",
       "                                              user_id  \\\n",
       "0                              bv2nCi5Qv5vroFiqKGopiw   \n",
       "1                                                   0   \n",
       "2                              bv2nCi5Qv5vroFiqKGopiw   \n",
       "3                                                None   \n",
       "4                                                   0   \n",
       "5                              bv2nCi5Qv5vroFiqKGopiw   \n",
       "6                                                   0   \n",
       "7                              bv2nCi5Qv5vroFiqKGopiw   \n",
       "8    so good. Burgers are made to order and the me...   \n",
       "9                                                   0   \n",
       "10                             bv2nCi5Qv5vroFiqKGopiw   \n",
       "11                                                  0   \n",
       "\n",
       "                                          business_id stars        date  \\\n",
       "0                              AEx2SYEUJmTxVVB18LlCwA     5  2016-05-28   \n",
       "1                                                   0     0        None   \n",
       "2                              VR6GpWIda3SfvPC-lg9H3w     5  2016-05-28   \n",
       "3                                                None  None        None   \n",
       "4                                                   0     0        None   \n",
       "5                              CKC0-MOWMqoeWf6s-szl8g     5  2016-05-28   \n",
       "6                                                   0     0        None   \n",
       "7                              ACFtxLv8pGrrxMm6EgjreA     4  2016-05-28   \n",
       "8    the regular is a 2 patty burger which is twic...  None        None   \n",
       "9                                                   0     0        None   \n",
       "10                             s2I_Ni76bjJNK9yG60iD-Q     4  2016-05-28   \n",
       "11                                                  0     0        None   \n",
       "\n",
       "                                                 text useful funny  cool  \n",
       "0   Super simple place but amazing nonetheless. It...   None  None  None  \n",
       "1                                                None   None  None  None  \n",
       "2   Small unassuming place that changes their menu...   None  None  None  \n",
       "3                                                None   None  None  None  \n",
       "4                                                None   None  None  None  \n",
       "5   Lester's is located in a beautiful neighborhoo...   None  None  None  \n",
       "6                                                None   None  None  None  \n",
       "7   Love coming here. Yes the place always needs t...   None  None  None  \n",
       "8                                                None   None  None  None  \n",
       "9                                                None   None  None  None  \n",
       "10  Had their chocolate almond croissant and it wa...   None  None  None  \n",
       "11                                               None   None  None  None  "
      ]
     },
     "execution_count": 75,
     "metadata": {},
     "output_type": "execute_result"
    }
   ],
   "source": [
    "# Show first 5 rows as pandas dataframe. Make sure it read properly as spark dataframe\n",
    "\n",
    "review.limit(12).toPandas()\n",
    "# Something is messed up with text column "
   ]
  },
  {
   "cell_type": "code",
   "execution_count": 66,
   "id": "235737f5",
   "metadata": {},
   "outputs": [
    {
     "data": {
      "text/html": [
       "<div>\n",
       "<style scoped>\n",
       "    .dataframe tbody tr th:only-of-type {\n",
       "        vertical-align: middle;\n",
       "    }\n",
       "\n",
       "    .dataframe tbody tr th {\n",
       "        vertical-align: top;\n",
       "    }\n",
       "\n",
       "    .dataframe thead th {\n",
       "        text-align: right;\n",
       "    }\n",
       "</style>\n",
       "<table border=\"1\" class=\"dataframe\">\n",
       "  <thead>\n",
       "    <tr style=\"text-align: right;\">\n",
       "      <th></th>\n",
       "      <th>review_id</th>\n",
       "      <th>user_id</th>\n",
       "      <th>business_id</th>\n",
       "      <th>stars</th>\n",
       "      <th>date</th>\n",
       "      <th>text</th>\n",
       "      <th>useful</th>\n",
       "      <th>funny</th>\n",
       "      <th>cool</th>\n",
       "    </tr>\n",
       "  </thead>\n",
       "  <tbody>\n",
       "    <tr>\n",
       "      <th>0</th>\n",
       "      <td>vkVSCC7xljjrAI4UGfnKEQ</td>\n",
       "      <td>bv2nCi5Qv5vroFiqKGopiw</td>\n",
       "      <td>AEx2SYEUJmTxVVB18LlCwA</td>\n",
       "      <td>5</td>\n",
       "      <td>2016-05-28</td>\n",
       "      <td>Super simple place but amazing nonetheless. It...</td>\n",
       "      <td>0</td>\n",
       "      <td>0</td>\n",
       "      <td>0</td>\n",
       "    </tr>\n",
       "    <tr>\n",
       "      <th>1</th>\n",
       "      <td>n6QzIUObkYshz4dz2QRJTw</td>\n",
       "      <td>bv2nCi5Qv5vroFiqKGopiw</td>\n",
       "      <td>VR6GpWIda3SfvPC-lg9H3w</td>\n",
       "      <td>5</td>\n",
       "      <td>2016-05-28</td>\n",
       "      <td>Small unassuming place that changes their menu...</td>\n",
       "      <td>0</td>\n",
       "      <td>0</td>\n",
       "      <td>0</td>\n",
       "    </tr>\n",
       "    <tr>\n",
       "      <th>2</th>\n",
       "      <td>MV3CcKScW05u5LVfF6ok0g</td>\n",
       "      <td>bv2nCi5Qv5vroFiqKGopiw</td>\n",
       "      <td>CKC0-MOWMqoeWf6s-szl8g</td>\n",
       "      <td>5</td>\n",
       "      <td>2016-05-28</td>\n",
       "      <td>Lester's is located in a beautiful neighborhoo...</td>\n",
       "      <td>0</td>\n",
       "      <td>0</td>\n",
       "      <td>0</td>\n",
       "    </tr>\n",
       "    <tr>\n",
       "      <th>3</th>\n",
       "      <td>IXvOzsEMYtiJI0CARmj77Q</td>\n",
       "      <td>bv2nCi5Qv5vroFiqKGopiw</td>\n",
       "      <td>ACFtxLv8pGrrxMm6EgjreA</td>\n",
       "      <td>4</td>\n",
       "      <td>2016-05-28</td>\n",
       "      <td>Love coming here. Yes the place always needs t...</td>\n",
       "      <td>0</td>\n",
       "      <td>0</td>\n",
       "      <td>0</td>\n",
       "    </tr>\n",
       "    <tr>\n",
       "      <th>4</th>\n",
       "      <td>L_9BTb55X0GDtThi6GlZ6w</td>\n",
       "      <td>bv2nCi5Qv5vroFiqKGopiw</td>\n",
       "      <td>s2I_Ni76bjJNK9yG60iD-Q</td>\n",
       "      <td>4</td>\n",
       "      <td>2016-05-28</td>\n",
       "      <td>Had their chocolate almond croissant and it wa...</td>\n",
       "      <td>0</td>\n",
       "      <td>0</td>\n",
       "      <td>0</td>\n",
       "    </tr>\n",
       "  </tbody>\n",
       "</table>\n",
       "</div>"
      ],
      "text/plain": [
       "                review_id                 user_id             business_id  \\\n",
       "0  vkVSCC7xljjrAI4UGfnKEQ  bv2nCi5Qv5vroFiqKGopiw  AEx2SYEUJmTxVVB18LlCwA   \n",
       "1  n6QzIUObkYshz4dz2QRJTw  bv2nCi5Qv5vroFiqKGopiw  VR6GpWIda3SfvPC-lg9H3w   \n",
       "2  MV3CcKScW05u5LVfF6ok0g  bv2nCi5Qv5vroFiqKGopiw  CKC0-MOWMqoeWf6s-szl8g   \n",
       "3  IXvOzsEMYtiJI0CARmj77Q  bv2nCi5Qv5vroFiqKGopiw  ACFtxLv8pGrrxMm6EgjreA   \n",
       "4  L_9BTb55X0GDtThi6GlZ6w  bv2nCi5Qv5vroFiqKGopiw  s2I_Ni76bjJNK9yG60iD-Q   \n",
       "\n",
       "   stars        date                                               text  \\\n",
       "0      5  2016-05-28  Super simple place but amazing nonetheless. It...   \n",
       "1      5  2016-05-28  Small unassuming place that changes their menu...   \n",
       "2      5  2016-05-28  Lester's is located in a beautiful neighborhoo...   \n",
       "3      4  2016-05-28  Love coming here. Yes the place always needs t...   \n",
       "4      4  2016-05-28  Had their chocolate almond croissant and it wa...   \n",
       "\n",
       "   useful  funny  cool  \n",
       "0       0      0     0  \n",
       "1       0      0     0  \n",
       "2       0      0     0  \n",
       "3       0      0     0  \n",
       "4       0      0     0  "
      ]
     },
     "execution_count": 66,
     "metadata": {},
     "output_type": "execute_result"
    }
   ],
   "source": [
    "# Show original pandas dataframe from above to compare to the spark dataframe\n",
    "\n",
    "pandas_review.head()"
   ]
  },
  {
   "cell_type": "code",
   "execution_count": 74,
   "id": "917608ad",
   "metadata": {},
   "outputs": [
    {
     "name": "stdout",
     "output_type": "stream",
     "text": [
      "Super simple place but amazing nonetheless. It's been around since the 30's and they still serve the same thing they started with: a bologna and salami sandwich with mustard. \n",
      "\n",
      "Staff was very helpful and friendly.\n"
     ]
    }
   ],
   "source": [
    "# Print first row of text column to find out the issue \n",
    "\n",
    "print(pandas_review['text'][0])\n",
    "# Found the issue: Spark is seperating the text column into multiple columns where there are spaces"
   ]
  },
  {
   "cell_type": "code",
   "execution_count": 118,
   "id": "4c31b536",
   "metadata": {},
   "outputs": [],
   "source": [
    "# One solution could be to delete everything after the first space in the text column of the CSV file\n",
    "# by deleting rows where user_id, date, text, business_id, stars, and review_id are null\n",
    "# Also, only get rows where there are less than 2 words\n",
    "# Then, onyl get rows where date column begins with '20'\n",
    "# Then, only get rows where the number of characters in user_id, review_id, and business_id are all > 20\n",
    "\n",
    "# Then the number of rows in the spark dataframe matches number of rows in the pandas dataframe, as seen below \n",
    "\n",
    "rev = review.filter(F.size(F.split('review_id', ' ')) < 2)\n",
    "rev2 = rev.where(col('text').isNotNull())\n",
    "rev3 = rev2.where(col('date').isNotNull())\n",
    "rev4 = rev3.where(col('user_id').isNotNull())\n",
    "rev5 = rev4.where(col('business_id').isNotNull())\n",
    "rev6 = rev5.where(col('stars').isNotNull())\n",
    "rev7 = rev6.where(col('review_id').isNotNull())\n",
    "rev8 = rev7.filter((rev7.date.substr(1,2)) == '20')\n",
    "review_cleaned = rev8.filter((F.length(rev8.review_id) > 20) & (F.length(rev8.business_id) > 20) & (F.length(rev8.user_id) > 20))"
   ]
  },
  {
   "cell_type": "code",
   "execution_count": 121,
   "id": "c363698c",
   "metadata": {},
   "outputs": [
    {
     "data": {
      "text/plain": [
       "5261668"
      ]
     },
     "execution_count": 121,
     "metadata": {},
     "output_type": "execute_result"
    }
   ],
   "source": [
    "# Verify the fix worked by comparing number of rows between Spark DataFrame and Pandas DataFrame \n",
    "\n",
    "review_cleaned.count()"
   ]
  },
  {
   "cell_type": "code",
   "execution_count": 43,
   "id": "f6147e22",
   "metadata": {},
   "outputs": [
    {
     "data": {
      "text/plain": [
       "5261668"
      ]
     },
     "execution_count": 43,
     "metadata": {},
     "output_type": "execute_result"
    }
   ],
   "source": [
    "pandas_review.review_id.count()"
   ]
  },
  {
   "cell_type": "markdown",
   "id": "a0cfc8e1",
   "metadata": {},
   "source": [
    "### 2. User"
   ]
  },
  {
   "cell_type": "code",
   "execution_count": 123,
   "id": "7ce0361a",
   "metadata": {},
   "outputs": [],
   "source": [
    "user = spark.read.csv( \"yelp-dataset/yelp_user.csv\", header=True)"
   ]
  },
  {
   "cell_type": "code",
   "execution_count": 124,
   "id": "23059f0c",
   "metadata": {},
   "outputs": [
    {
     "data": {
      "text/html": [
       "<div>\n",
       "<style scoped>\n",
       "    .dataframe tbody tr th:only-of-type {\n",
       "        vertical-align: middle;\n",
       "    }\n",
       "\n",
       "    .dataframe tbody tr th {\n",
       "        vertical-align: top;\n",
       "    }\n",
       "\n",
       "    .dataframe thead th {\n",
       "        text-align: right;\n",
       "    }\n",
       "</style>\n",
       "<table border=\"1\" class=\"dataframe\">\n",
       "  <thead>\n",
       "    <tr style=\"text-align: right;\">\n",
       "      <th></th>\n",
       "      <th>user_id</th>\n",
       "      <th>name</th>\n",
       "      <th>review_count</th>\n",
       "      <th>yelping_since</th>\n",
       "      <th>friends</th>\n",
       "      <th>useful</th>\n",
       "      <th>funny</th>\n",
       "      <th>cool</th>\n",
       "      <th>fans</th>\n",
       "      <th>elite</th>\n",
       "      <th>...</th>\n",
       "      <th>compliment_more</th>\n",
       "      <th>compliment_profile</th>\n",
       "      <th>compliment_cute</th>\n",
       "      <th>compliment_list</th>\n",
       "      <th>compliment_note</th>\n",
       "      <th>compliment_plain</th>\n",
       "      <th>compliment_cool</th>\n",
       "      <th>compliment_funny</th>\n",
       "      <th>compliment_writer</th>\n",
       "      <th>compliment_photos</th>\n",
       "    </tr>\n",
       "  </thead>\n",
       "  <tbody>\n",
       "    <tr>\n",
       "      <th>0</th>\n",
       "      <td>JJ-aSuM4pCFPdkfoZ34q0Q</td>\n",
       "      <td>Chris</td>\n",
       "      <td>10</td>\n",
       "      <td>2013-09-24</td>\n",
       "      <td>0njfJmB-7n84DlIgUByCNw, rFn3Xe3RqHxRSxWOU19Gpg...</td>\n",
       "      <td>0</td>\n",
       "      <td>0</td>\n",
       "      <td>0</td>\n",
       "      <td>0</td>\n",
       "      <td>None</td>\n",
       "      <td>...</td>\n",
       "      <td>0</td>\n",
       "      <td>0</td>\n",
       "      <td>0</td>\n",
       "      <td>0</td>\n",
       "      <td>0</td>\n",
       "      <td>0</td>\n",
       "      <td>0</td>\n",
       "      <td>0</td>\n",
       "      <td>0</td>\n",
       "      <td>0</td>\n",
       "    </tr>\n",
       "    <tr>\n",
       "      <th>1</th>\n",
       "      <td>uUzsFQn_6cXDh6rPNGbIFA</td>\n",
       "      <td>Tiffy</td>\n",
       "      <td>1</td>\n",
       "      <td>2017-03-02</td>\n",
       "      <td>None</td>\n",
       "      <td>0</td>\n",
       "      <td>0</td>\n",
       "      <td>0</td>\n",
       "      <td>0</td>\n",
       "      <td>None</td>\n",
       "      <td>...</td>\n",
       "      <td>0</td>\n",
       "      <td>0</td>\n",
       "      <td>0</td>\n",
       "      <td>0</td>\n",
       "      <td>0</td>\n",
       "      <td>0</td>\n",
       "      <td>0</td>\n",
       "      <td>0</td>\n",
       "      <td>0</td>\n",
       "      <td>0</td>\n",
       "    </tr>\n",
       "    <tr>\n",
       "      <th>2</th>\n",
       "      <td>mBneaEEH5EMyxaVyqS-72A</td>\n",
       "      <td>Mark</td>\n",
       "      <td>6</td>\n",
       "      <td>2015-03-13</td>\n",
       "      <td>None</td>\n",
       "      <td>0</td>\n",
       "      <td>0</td>\n",
       "      <td>0</td>\n",
       "      <td>0</td>\n",
       "      <td>None</td>\n",
       "      <td>...</td>\n",
       "      <td>0</td>\n",
       "      <td>0</td>\n",
       "      <td>0</td>\n",
       "      <td>0</td>\n",
       "      <td>0</td>\n",
       "      <td>0</td>\n",
       "      <td>0</td>\n",
       "      <td>0</td>\n",
       "      <td>0</td>\n",
       "      <td>0</td>\n",
       "    </tr>\n",
       "    <tr>\n",
       "      <th>3</th>\n",
       "      <td>W5mJGs-dcDWRGEhAzUYtoA</td>\n",
       "      <td>Evelyn</td>\n",
       "      <td>3</td>\n",
       "      <td>2016-09-08</td>\n",
       "      <td>None</td>\n",
       "      <td>0</td>\n",
       "      <td>0</td>\n",
       "      <td>0</td>\n",
       "      <td>0</td>\n",
       "      <td>None</td>\n",
       "      <td>...</td>\n",
       "      <td>0</td>\n",
       "      <td>0</td>\n",
       "      <td>0</td>\n",
       "      <td>0</td>\n",
       "      <td>0</td>\n",
       "      <td>0</td>\n",
       "      <td>0</td>\n",
       "      <td>0</td>\n",
       "      <td>0</td>\n",
       "      <td>0</td>\n",
       "    </tr>\n",
       "    <tr>\n",
       "      <th>4</th>\n",
       "      <td>4E8--zUZO1Rr1IBK4_83fg</td>\n",
       "      <td>Lisa</td>\n",
       "      <td>11</td>\n",
       "      <td>2012-07-16</td>\n",
       "      <td>None</td>\n",
       "      <td>4</td>\n",
       "      <td>0</td>\n",
       "      <td>0</td>\n",
       "      <td>0</td>\n",
       "      <td>None</td>\n",
       "      <td>...</td>\n",
       "      <td>0</td>\n",
       "      <td>0</td>\n",
       "      <td>0</td>\n",
       "      <td>0</td>\n",
       "      <td>0</td>\n",
       "      <td>0</td>\n",
       "      <td>0</td>\n",
       "      <td>0</td>\n",
       "      <td>1</td>\n",
       "      <td>0</td>\n",
       "    </tr>\n",
       "  </tbody>\n",
       "</table>\n",
       "<p>5 rows × 22 columns</p>\n",
       "</div>"
      ],
      "text/plain": [
       "                  user_id    name review_count yelping_since  \\\n",
       "0  JJ-aSuM4pCFPdkfoZ34q0Q   Chris           10    2013-09-24   \n",
       "1  uUzsFQn_6cXDh6rPNGbIFA   Tiffy            1    2017-03-02   \n",
       "2  mBneaEEH5EMyxaVyqS-72A    Mark            6    2015-03-13   \n",
       "3  W5mJGs-dcDWRGEhAzUYtoA  Evelyn            3    2016-09-08   \n",
       "4  4E8--zUZO1Rr1IBK4_83fg    Lisa           11    2012-07-16   \n",
       "\n",
       "                                             friends useful funny cool fans  \\\n",
       "0  0njfJmB-7n84DlIgUByCNw, rFn3Xe3RqHxRSxWOU19Gpg...      0     0    0    0   \n",
       "1                                               None      0     0    0    0   \n",
       "2                                               None      0     0    0    0   \n",
       "3                                               None      0     0    0    0   \n",
       "4                                               None      4     0    0    0   \n",
       "\n",
       "  elite  ... compliment_more compliment_profile compliment_cute  \\\n",
       "0  None  ...               0                  0               0   \n",
       "1  None  ...               0                  0               0   \n",
       "2  None  ...               0                  0               0   \n",
       "3  None  ...               0                  0               0   \n",
       "4  None  ...               0                  0               0   \n",
       "\n",
       "  compliment_list compliment_note compliment_plain compliment_cool  \\\n",
       "0               0               0                0               0   \n",
       "1               0               0                0               0   \n",
       "2               0               0                0               0   \n",
       "3               0               0                0               0   \n",
       "4               0               0                0               0   \n",
       "\n",
       "  compliment_funny compliment_writer compliment_photos  \n",
       "0                0                 0                 0  \n",
       "1                0                 0                 0  \n",
       "2                0                 0                 0  \n",
       "3                0                 0                 0  \n",
       "4                0                 1                 0  \n",
       "\n",
       "[5 rows x 22 columns]"
      ]
     },
     "execution_count": 124,
     "metadata": {},
     "output_type": "execute_result"
    }
   ],
   "source": [
    "# Show first 5 rows as pandas dataframe. Make sure it read properly as spark dataframe\n",
    "\n",
    "user.limit(5).toPandas()"
   ]
  },
  {
   "cell_type": "code",
   "execution_count": 125,
   "id": "59dd6aa9",
   "metadata": {},
   "outputs": [
    {
     "data": {
      "text/plain": [
       "1326100"
      ]
     },
     "execution_count": 125,
     "metadata": {},
     "output_type": "execute_result"
    }
   ],
   "source": [
    "# Number of rows in spark dataframe \n",
    "\n",
    "user.count()"
   ]
  },
  {
   "cell_type": "code",
   "execution_count": 126,
   "id": "4da6d447",
   "metadata": {},
   "outputs": [
    {
     "data": {
      "text/plain": [
       "1326100"
      ]
     },
     "execution_count": 126,
     "metadata": {},
     "output_type": "execute_result"
    }
   ],
   "source": [
    "# Cross check with pandas dataframe \n",
    "\n",
    "pandas_user['user_id'].count()"
   ]
  },
  {
   "cell_type": "markdown",
   "id": "0d2e0d3e",
   "metadata": {},
   "source": [
    "### 3. Business Attributes"
   ]
  },
  {
   "cell_type": "code",
   "execution_count": 130,
   "id": "672b2653",
   "metadata": {},
   "outputs": [],
   "source": [
    "attributes = spark.read.csv( \"yelp-dataset/yelp_business_attributes.csv\", header=True)"
   ]
  },
  {
   "cell_type": "code",
   "execution_count": 131,
   "id": "3b2b73d4",
   "metadata": {},
   "outputs": [
    {
     "data": {
      "text/html": [
       "<div>\n",
       "<style scoped>\n",
       "    .dataframe tbody tr th:only-of-type {\n",
       "        vertical-align: middle;\n",
       "    }\n",
       "\n",
       "    .dataframe tbody tr th {\n",
       "        vertical-align: top;\n",
       "    }\n",
       "\n",
       "    .dataframe thead th {\n",
       "        text-align: right;\n",
       "    }\n",
       "</style>\n",
       "<table border=\"1\" class=\"dataframe\">\n",
       "  <thead>\n",
       "    <tr style=\"text-align: right;\">\n",
       "      <th></th>\n",
       "      <th>business_id</th>\n",
       "      <th>AcceptsInsurance</th>\n",
       "      <th>ByAppointmentOnly</th>\n",
       "      <th>BusinessAcceptsCreditCards</th>\n",
       "      <th>BusinessParking_garage</th>\n",
       "      <th>BusinessParking_street</th>\n",
       "      <th>BusinessParking_validated</th>\n",
       "      <th>BusinessParking_lot</th>\n",
       "      <th>BusinessParking_valet</th>\n",
       "      <th>HairSpecializesIn_coloring</th>\n",
       "      <th>...</th>\n",
       "      <th>Corkage</th>\n",
       "      <th>DietaryRestrictions_dairy-free</th>\n",
       "      <th>DietaryRestrictions_gluten-free</th>\n",
       "      <th>DietaryRestrictions_vegan</th>\n",
       "      <th>DietaryRestrictions_kosher</th>\n",
       "      <th>DietaryRestrictions_halal</th>\n",
       "      <th>DietaryRestrictions_soy-free</th>\n",
       "      <th>DietaryRestrictions_vegetarian</th>\n",
       "      <th>AgesAllowed</th>\n",
       "      <th>RestaurantsCounterService</th>\n",
       "    </tr>\n",
       "  </thead>\n",
       "  <tbody>\n",
       "    <tr>\n",
       "      <th>0</th>\n",
       "      <td>FYWN1wneV18bWNgQjJ2GNg</td>\n",
       "      <td>Na</td>\n",
       "      <td>Na</td>\n",
       "      <td>Na</td>\n",
       "      <td>True</td>\n",
       "      <td>Na</td>\n",
       "      <td>Na</td>\n",
       "      <td>Na</td>\n",
       "      <td>Na</td>\n",
       "      <td>Na</td>\n",
       "      <td>...</td>\n",
       "      <td>Na</td>\n",
       "      <td>Na</td>\n",
       "      <td>Na</td>\n",
       "      <td>Na</td>\n",
       "      <td>Na</td>\n",
       "      <td>Na</td>\n",
       "      <td>Na</td>\n",
       "      <td>Na</td>\n",
       "      <td>Na</td>\n",
       "      <td>Na</td>\n",
       "    </tr>\n",
       "    <tr>\n",
       "      <th>1</th>\n",
       "      <td>He-G7vWjzVUysIKrfNbPUQ</td>\n",
       "      <td>Na</td>\n",
       "      <td>Na</td>\n",
       "      <td>Na</td>\n",
       "      <td>Na</td>\n",
       "      <td>Na</td>\n",
       "      <td>Na</td>\n",
       "      <td>Na</td>\n",
       "      <td>Na</td>\n",
       "      <td>Na</td>\n",
       "      <td>...</td>\n",
       "      <td>Na</td>\n",
       "      <td>Na</td>\n",
       "      <td>Na</td>\n",
       "      <td>Na</td>\n",
       "      <td>Na</td>\n",
       "      <td>Na</td>\n",
       "      <td>Na</td>\n",
       "      <td>Na</td>\n",
       "      <td>Na</td>\n",
       "      <td>Na</td>\n",
       "    </tr>\n",
       "    <tr>\n",
       "      <th>2</th>\n",
       "      <td>8DShNS-LuFqpEWIp0HxijA</td>\n",
       "      <td>Na</td>\n",
       "      <td>Na</td>\n",
       "      <td>Na</td>\n",
       "      <td>Na</td>\n",
       "      <td>Na</td>\n",
       "      <td>Na</td>\n",
       "      <td>Na</td>\n",
       "      <td>Na</td>\n",
       "      <td>Na</td>\n",
       "      <td>...</td>\n",
       "      <td>Na</td>\n",
       "      <td>Na</td>\n",
       "      <td>Na</td>\n",
       "      <td>Na</td>\n",
       "      <td>Na</td>\n",
       "      <td>Na</td>\n",
       "      <td>Na</td>\n",
       "      <td>Na</td>\n",
       "      <td>Na</td>\n",
       "      <td>Na</td>\n",
       "    </tr>\n",
       "    <tr>\n",
       "      <th>3</th>\n",
       "      <td>PfOCPjBrlQAnz__NXj9h_w</td>\n",
       "      <td>Na</td>\n",
       "      <td>Na</td>\n",
       "      <td>Na</td>\n",
       "      <td>Na</td>\n",
       "      <td>Na</td>\n",
       "      <td>Na</td>\n",
       "      <td>Na</td>\n",
       "      <td>Na</td>\n",
       "      <td>Na</td>\n",
       "      <td>...</td>\n",
       "      <td>Na</td>\n",
       "      <td>Na</td>\n",
       "      <td>Na</td>\n",
       "      <td>Na</td>\n",
       "      <td>Na</td>\n",
       "      <td>Na</td>\n",
       "      <td>Na</td>\n",
       "      <td>Na</td>\n",
       "      <td>Na</td>\n",
       "      <td>Na</td>\n",
       "    </tr>\n",
       "    <tr>\n",
       "      <th>4</th>\n",
       "      <td>o9eMRCWt5PkpLDE0gOPtcQ</td>\n",
       "      <td>Na</td>\n",
       "      <td>Na</td>\n",
       "      <td>Na</td>\n",
       "      <td>Na</td>\n",
       "      <td>False</td>\n",
       "      <td>False</td>\n",
       "      <td>False</td>\n",
       "      <td>False</td>\n",
       "      <td>False</td>\n",
       "      <td>...</td>\n",
       "      <td>Na</td>\n",
       "      <td>Na</td>\n",
       "      <td>Na</td>\n",
       "      <td>Na</td>\n",
       "      <td>Na</td>\n",
       "      <td>Na</td>\n",
       "      <td>Na</td>\n",
       "      <td>Na</td>\n",
       "      <td>Na</td>\n",
       "      <td>Na</td>\n",
       "    </tr>\n",
       "  </tbody>\n",
       "</table>\n",
       "<p>5 rows × 82 columns</p>\n",
       "</div>"
      ],
      "text/plain": [
       "              business_id AcceptsInsurance ByAppointmentOnly  \\\n",
       "0  FYWN1wneV18bWNgQjJ2GNg               Na                Na   \n",
       "1  He-G7vWjzVUysIKrfNbPUQ               Na                Na   \n",
       "2  8DShNS-LuFqpEWIp0HxijA               Na                Na   \n",
       "3  PfOCPjBrlQAnz__NXj9h_w               Na                Na   \n",
       "4  o9eMRCWt5PkpLDE0gOPtcQ               Na                Na   \n",
       "\n",
       "  BusinessAcceptsCreditCards BusinessParking_garage BusinessParking_street  \\\n",
       "0                         Na                   True                     Na   \n",
       "1                         Na                     Na                     Na   \n",
       "2                         Na                     Na                     Na   \n",
       "3                         Na                     Na                     Na   \n",
       "4                         Na                     Na                  False   \n",
       "\n",
       "  BusinessParking_validated BusinessParking_lot BusinessParking_valet  \\\n",
       "0                        Na                  Na                    Na   \n",
       "1                        Na                  Na                    Na   \n",
       "2                        Na                  Na                    Na   \n",
       "3                        Na                  Na                    Na   \n",
       "4                     False               False                 False   \n",
       "\n",
       "  HairSpecializesIn_coloring  ... Corkage DietaryRestrictions_dairy-free  \\\n",
       "0                         Na  ...      Na                             Na   \n",
       "1                         Na  ...      Na                             Na   \n",
       "2                         Na  ...      Na                             Na   \n",
       "3                         Na  ...      Na                             Na   \n",
       "4                      False  ...      Na                             Na   \n",
       "\n",
       "  DietaryRestrictions_gluten-free DietaryRestrictions_vegan  \\\n",
       "0                              Na                        Na   \n",
       "1                              Na                        Na   \n",
       "2                              Na                        Na   \n",
       "3                              Na                        Na   \n",
       "4                              Na                        Na   \n",
       "\n",
       "  DietaryRestrictions_kosher DietaryRestrictions_halal  \\\n",
       "0                         Na                        Na   \n",
       "1                         Na                        Na   \n",
       "2                         Na                        Na   \n",
       "3                         Na                        Na   \n",
       "4                         Na                        Na   \n",
       "\n",
       "  DietaryRestrictions_soy-free DietaryRestrictions_vegetarian AgesAllowed  \\\n",
       "0                           Na                             Na          Na   \n",
       "1                           Na                             Na          Na   \n",
       "2                           Na                             Na          Na   \n",
       "3                           Na                             Na          Na   \n",
       "4                           Na                             Na          Na   \n",
       "\n",
       "  RestaurantsCounterService  \n",
       "0                        Na  \n",
       "1                        Na  \n",
       "2                        Na  \n",
       "3                        Na  \n",
       "4                        Na  \n",
       "\n",
       "[5 rows x 82 columns]"
      ]
     },
     "execution_count": 131,
     "metadata": {},
     "output_type": "execute_result"
    }
   ],
   "source": [
    "attributes.limit(5).toPandas()"
   ]
  },
  {
   "cell_type": "code",
   "execution_count": 132,
   "id": "50bdf9a0",
   "metadata": {},
   "outputs": [
    {
     "data": {
      "text/plain": [
       "152041"
      ]
     },
     "execution_count": 132,
     "metadata": {},
     "output_type": "execute_result"
    }
   ],
   "source": [
    "attributes.count()"
   ]
  },
  {
   "cell_type": "code",
   "execution_count": 128,
   "id": "fa436316",
   "metadata": {},
   "outputs": [
    {
     "data": {
      "text/plain": [
       "152041"
      ]
     },
     "execution_count": 128,
     "metadata": {},
     "output_type": "execute_result"
    }
   ],
   "source": [
    "# Cross check with pandas dataframe \n",
    "\n",
    "pandas_business_atts['business_id'].count()"
   ]
  },
  {
   "cell_type": "markdown",
   "id": "b4291bd7",
   "metadata": {},
   "source": [
    "### 4. Business Hours "
   ]
  },
  {
   "cell_type": "code",
   "execution_count": 133,
   "id": "b266669e",
   "metadata": {},
   "outputs": [
    {
     "name": "stdout",
     "output_type": "stream",
     "text": [
      "+--------------------+----------+----------+----------+----------+----------+----------+---------+\n",
      "|         business_id|    monday|   tuesday| wednesday|  thursday|    friday|  saturday|   sunday|\n",
      "+--------------------+----------+----------+----------+----------+----------+----------+---------+\n",
      "|FYWN1wneV18bWNgQj...| 7:30-17:0| 7:30-17:0| 7:30-17:0| 7:30-17:0| 7:30-17:0|      None|     None|\n",
      "|He-G7vWjzVUysIKrf...|  9:0-20:0|  9:0-20:0|  9:0-20:0|  9:0-20:0|  9:0-16:0|  8:0-16:0|     None|\n",
      "|KQPW8lFf1y5BT2Mxi...|      None|      None|      None|      None|      None|      None|     None|\n",
      "|8DShNS-LuFqpEWIp0...| 10:0-21:0| 10:0-21:0| 10:0-21:0| 10:0-21:0| 10:0-21:0| 10:0-21:0|11:0-19:0|\n",
      "|PfOCPjBrlQAnz__NX...|  11:0-1:0|  11:0-1:0|  11:0-1:0|  11:0-1:0|  11:0-1:0|  11:0-2:0| 11:0-0:0|\n",
      "|o9eMRCWt5PkpLDE0g...|  18:0-0:0|  18:0-0:0|  18:0-0:0|  18:0-0:0|  18:0-0:0|  18:0-0:0|     None|\n",
      "|kCoE3jvEtg6UVz5SO...|  8:0-17:0|  8:0-17:0|  8:0-17:0|  8:0-17:0|  8:0-17:0|      None|     None|\n",
      "|OD2hnuuTJI9uotcKy...| 11:0-19:0| 11:0-19:0| 11:0-19:0| 11:0-19:0| 11:0-19:0| 10:0-18:0|11:0-16:0|\n",
      "|EsMcGiZaQuG1OOvL9...|      None|      None|      None|      None|      None|      None|     None|\n",
      "|TGWhGNusxyMaA4kQV...|  9:0-18:0|  9:0-18:0|  9:0-18:0|  9:0-18:0|  9:0-18:0|  9:0-18:0| 9:0-18:0|\n",
      "|XOSRcvtaKc_Q5H1SA...|      None|      None|      None|      None|      None|      None|     None|\n",
      "|Y0eMNa5C-YU1RQOZf...| 9:30-18:0| 9:30-18:0| 9:30-18:0| 9:30-18:0| 9:30-18:0|8:30-17:30|11:0-15:0|\n",
      "|xcgFnd-MwkZeO5G2H...|      None|      None|      None|      None|      None|      None|     None|\n",
      "|NmZtoE3v8RdSJEczY...|  8:0-17:0|  8:0-17:0|  8:0-14:0|  8:0-17:0|  8:0-17:0|      None|     None|\n",
      "|fNMVV_ZX7CJSDWQGd...|  7:0-15:0|  7:0-15:0|  7:0-15:0|  7:0-15:0|  7:0-15:0|      None|     None|\n",
      "|l09JfMeQ6ynYs5MCJ...|  9:0-22:0|  9:0-22:0|  9:0-22:0|  9:0-22:0|  9:0-22:0|  9:0-22:0| 9:0-22:0|\n",
      "|IQSlT5jGE6CCDhSG0...|  9:0-19:0|  9:0-19:0|  9:0-19:0|  9:0-19:0|  9:0-19:0|  9:0-18:0|10:0-17:0|\n",
      "|b2I2DXtZVnpUMCXp1...| 7:30-18:0| 7:30-18:0| 7:30-18:0| 7:30-18:0| 7:30-18:0| 7:30-16:0|     None|\n",
      "|0FMKDOU8TJT1x87OK...|  9:0-18:0|  9:0-18:0|  9:0-18:0|  9:0-18:0|  9:0-19:0|  9:0-18:0|     None|\n",
      "|Gu-xs3NIQTj3Mj2xY...|11:30-22:0|11:30-22:0|11:30-22:0|11:30-22:0|11:30-23:0| 11:0-23:0|11:0-22:0|\n",
      "+--------------------+----------+----------+----------+----------+----------+----------+---------+\n",
      "only showing top 20 rows\n",
      "\n"
     ]
    }
   ],
   "source": [
    "hours = spark.read.csv( \"yelp-dataset/yelp_business_hours.csv\", header=True)\n",
    "hours.show()"
   ]
  },
  {
   "cell_type": "code",
   "execution_count": 134,
   "id": "4afd9b0f",
   "metadata": {},
   "outputs": [
    {
     "data": {
      "text/html": [
       "<div>\n",
       "<style scoped>\n",
       "    .dataframe tbody tr th:only-of-type {\n",
       "        vertical-align: middle;\n",
       "    }\n",
       "\n",
       "    .dataframe tbody tr th {\n",
       "        vertical-align: top;\n",
       "    }\n",
       "\n",
       "    .dataframe thead th {\n",
       "        text-align: right;\n",
       "    }\n",
       "</style>\n",
       "<table border=\"1\" class=\"dataframe\">\n",
       "  <thead>\n",
       "    <tr style=\"text-align: right;\">\n",
       "      <th></th>\n",
       "      <th>business_id</th>\n",
       "      <th>monday</th>\n",
       "      <th>tuesday</th>\n",
       "      <th>wednesday</th>\n",
       "      <th>thursday</th>\n",
       "      <th>friday</th>\n",
       "      <th>saturday</th>\n",
       "      <th>sunday</th>\n",
       "    </tr>\n",
       "  </thead>\n",
       "  <tbody>\n",
       "    <tr>\n",
       "      <th>0</th>\n",
       "      <td>FYWN1wneV18bWNgQjJ2GNg</td>\n",
       "      <td>7:30-17:0</td>\n",
       "      <td>7:30-17:0</td>\n",
       "      <td>7:30-17:0</td>\n",
       "      <td>7:30-17:0</td>\n",
       "      <td>7:30-17:0</td>\n",
       "      <td>None</td>\n",
       "      <td>None</td>\n",
       "    </tr>\n",
       "    <tr>\n",
       "      <th>1</th>\n",
       "      <td>He-G7vWjzVUysIKrfNbPUQ</td>\n",
       "      <td>9:0-20:0</td>\n",
       "      <td>9:0-20:0</td>\n",
       "      <td>9:0-20:0</td>\n",
       "      <td>9:0-20:0</td>\n",
       "      <td>9:0-16:0</td>\n",
       "      <td>8:0-16:0</td>\n",
       "      <td>None</td>\n",
       "    </tr>\n",
       "    <tr>\n",
       "      <th>2</th>\n",
       "      <td>KQPW8lFf1y5BT2MxiSZ3QA</td>\n",
       "      <td>None</td>\n",
       "      <td>None</td>\n",
       "      <td>None</td>\n",
       "      <td>None</td>\n",
       "      <td>None</td>\n",
       "      <td>None</td>\n",
       "      <td>None</td>\n",
       "    </tr>\n",
       "    <tr>\n",
       "      <th>3</th>\n",
       "      <td>8DShNS-LuFqpEWIp0HxijA</td>\n",
       "      <td>10:0-21:0</td>\n",
       "      <td>10:0-21:0</td>\n",
       "      <td>10:0-21:0</td>\n",
       "      <td>10:0-21:0</td>\n",
       "      <td>10:0-21:0</td>\n",
       "      <td>10:0-21:0</td>\n",
       "      <td>11:0-19:0</td>\n",
       "    </tr>\n",
       "    <tr>\n",
       "      <th>4</th>\n",
       "      <td>PfOCPjBrlQAnz__NXj9h_w</td>\n",
       "      <td>11:0-1:0</td>\n",
       "      <td>11:0-1:0</td>\n",
       "      <td>11:0-1:0</td>\n",
       "      <td>11:0-1:0</td>\n",
       "      <td>11:0-1:0</td>\n",
       "      <td>11:0-2:0</td>\n",
       "      <td>11:0-0:0</td>\n",
       "    </tr>\n",
       "  </tbody>\n",
       "</table>\n",
       "</div>"
      ],
      "text/plain": [
       "              business_id     monday    tuesday  wednesday   thursday  \\\n",
       "0  FYWN1wneV18bWNgQjJ2GNg  7:30-17:0  7:30-17:0  7:30-17:0  7:30-17:0   \n",
       "1  He-G7vWjzVUysIKrfNbPUQ   9:0-20:0   9:0-20:0   9:0-20:0   9:0-20:0   \n",
       "2  KQPW8lFf1y5BT2MxiSZ3QA       None       None       None       None   \n",
       "3  8DShNS-LuFqpEWIp0HxijA  10:0-21:0  10:0-21:0  10:0-21:0  10:0-21:0   \n",
       "4  PfOCPjBrlQAnz__NXj9h_w   11:0-1:0   11:0-1:0   11:0-1:0   11:0-1:0   \n",
       "\n",
       "      friday   saturday     sunday  \n",
       "0  7:30-17:0       None       None  \n",
       "1   9:0-16:0   8:0-16:0       None  \n",
       "2       None       None       None  \n",
       "3  10:0-21:0  10:0-21:0  11:0-19:0  \n",
       "4   11:0-1:0   11:0-2:0   11:0-0:0  "
      ]
     },
     "execution_count": 134,
     "metadata": {},
     "output_type": "execute_result"
    }
   ],
   "source": [
    "hours.limit(5).toPandas()"
   ]
  },
  {
   "cell_type": "code",
   "execution_count": 135,
   "id": "57123a88",
   "metadata": {},
   "outputs": [
    {
     "data": {
      "text/plain": [
       "174567"
      ]
     },
     "execution_count": 135,
     "metadata": {},
     "output_type": "execute_result"
    }
   ],
   "source": [
    "hours.hours()"
   ]
  },
  {
   "cell_type": "code",
   "execution_count": 138,
   "id": "52641183",
   "metadata": {},
   "outputs": [
    {
     "data": {
      "text/plain": [
       "174567"
      ]
     },
     "execution_count": 138,
     "metadata": {},
     "output_type": "execute_result"
    }
   ],
   "source": [
    "# Cross check with pandas dataframe \n",
    "\n",
    "pandas_business_hours['business_id'].count()"
   ]
  },
  {
   "cell_type": "markdown",
   "id": "990f96d1",
   "metadata": {},
   "source": [
    "### 5. Business"
   ]
  },
  {
   "cell_type": "code",
   "execution_count": 139,
   "id": "525f4398",
   "metadata": {},
   "outputs": [
    {
     "name": "stdout",
     "output_type": "stream",
     "text": [
      "+--------------------+--------------------+------------------+--------------------+--------------+-------------+-----------+-------------+--------------+------------+------------+-------+--------------------+\n",
      "|         business_id|                name|      neighborhood|             address|          city|        state|postal_code|     latitude|     longitude|       stars|review_count|is_open|          categories|\n",
      "+--------------------+--------------------+------------------+--------------------+--------------+-------------+-----------+-------------+--------------+------------+------------+-------+--------------------+\n",
      "|FYWN1wneV18bWNgQj...|\"\"\"Dental by Desi...|              null| \"\"\"4855 E Warner Rd|     Ste B9\"\"\"|    Ahwatukee|         AZ|        85044|    33.3306902|-111.9785992|         4.0|     22|                   1|\n",
      "|He-G7vWjzVUysIKrf...|\"\"\"Stephen Szabo ...|              null|\"\"\"3101 Washingto...|      McMurray|           PA|      15317|   40.2916853|   -80.1048999|         3.0|          11|      1|Hair Stylists;Hai...|\n",
      "|KQPW8lFf1y5BT2Mxi...|\"\"\"Western Motor ...|              null|  \"\"\"6025 N 27th Ave|      Ste 1\"\"\"|      Phoenix|         AZ|        85017|    33.5249025|-112.1153098|         1.5|     18|                   1|\n",
      "|8DShNS-LuFqpEWIp0...|\"\"\"Sports Authori...|              null|\"\"\"5000 Arizona M...|    Ste 435\"\"\"|        Tempe|         AZ|        85282|    33.3831468|-111.9647254|         3.0|      9|                   0|\n",
      "|PfOCPjBrlQAnz__NX...|\"\"\"Brick House Ta...|              null|  \"\"\"581 Howe Ave\"\"\"|Cuyahoga Falls|           OH|      44221|   41.1195346|   -81.4756898|         3.5|         116|      1|American (New);Ni...|\n",
      "|o9eMRCWt5PkpLDE0g...|       \"\"\"Messina\"\"\"|              null|\"\"\"Richterstr. 11\"\"\"|     Stuttgart|           BW|      70567|      48.7272|       9.14795|         4.0|           5|      1| Italian;Restaurants|\n",
      "|kCoE3jvEtg6UVz5SO...|    \"\"\"BDJ Realty\"\"\"|         Summerlin|  \"\"\"2620 Regatta Dr|    Ste 102\"\"\"|    Las Vegas|         NV|        89128|      36.20743|  -115.26846|         4.0|      5|                   1|\n",
      "|OD2hnuuTJI9uotcKy...|   \"\"\"Soccer Zone\"\"\"|              null|\"\"\"7240 W Lake Me...|      Ste 4\"\"\"|    Las Vegas|         NV|        89128|    36.1974844|-115.2496601|         1.5|      9|                   1|\n",
      "|EsMcGiZaQuG1OOvL9...|\"\"\"Any Given Sund...|              null|\"\"\"2612 Brandt Sc...|       Wexford|           PA|      15090|40.6151022445|-80.0913487465|         5.0|          15|      1|Coffee & Tea;Ice ...|\n",
      "|TGWhGNusxyMaA4kQV...|\"\"\"Detailing Gone...|              null|                \"\"\"\"|     Henderson|           NV|      89014|36.0558252127| -115.04635039|         5.0|           7|      1|Automotive;Auto D...|\n",
      "|XOSRcvtaKc_Q5H1SA...|\"\"\"East Coast Cof...|              null|\"\"\"737 West Pike ...|       Houston|           PA|      15342|40.2415480142|-80.2128151059|         4.5|           3|      0|Breakfast & Brunc...|\n",
      "|Y0eMNa5C-YU1RQOZf...|\"\"\"CubeSmart Self...|              null|\"\"\"2414 South Gil...|      Chandler|           AZ|      85286|   33.2717201|  -111.7912569|         5.0|          23|      1|Local Services;Se...|\n",
      "|xcgFnd-MwkZeO5G2H...|\"\"\"T & T Bakery a...|   Markham Village|\"\"\"35 Main Street...|       Markham|           ON|    L3P 1X3|   43.8751774|   -79.2601532|         4.0|          38|      1|Bakeries;Bagels;Food|\n",
      "|NmZtoE3v8RdSJEczY...|\"\"\"Complete Denta...|              null|\"\"\"107 Whitaker S...|     Homestead|           PA|      15120|   40.4014882|   -79.8879161|         2.0|           5|      1|General Dentistry...|\n",
      "|fNMVV_ZX7CJSDWQGd...|\"\"\"Showmars Gover...|            Uptown|  \"\"\"600 E 4th St\"\"\"|     Charlotte|           NC|      28202|   35.2216474|   -80.8393449|         3.5|           7|      1|Restaurants;Ameri...|\n",
      "|l09JfMeQ6ynYs5MCJ...|\"\"\"Alize Catering\"\"\"|Yonge and Eglinton| \"\"\"2459 Yonge St\"\"\"|       Toronto|           ON|    M4P 2H6|   43.7113993|   -79.3993388|         3.0|          12|      0|Italian;French;Re...|\n",
      "|IQSlT5jGE6CCDhSG0...|\"\"\"T & Y Nail Spa\"\"\"|              null|\"\"\"8411 W Thunder...|   Unit 101\"\"\"|       Peoria|         AZ|        85381|    33.6086538|-112.2400118|         3.0|     20|                   1|\n",
      "|b2I2DXtZVnpUMCXp1...|\"\"\"Meineke Car Ca...|              null|\"\"\"2518 Ironwood ...|   Sun Prairie|           WI|      53590|     43.18508|    -89.262047|         3.5|           9|      1|Tires;Oil Change ...|\n",
      "|0FMKDOU8TJT1x87OK...|\"\"\"Senior's Barbe...|              null|\"\"\"13375 W McDowe...|      Goodyear|           AZ|      85395|    33.463629|   -112.347038|         5.0|          65|      1|Barbers;Beauty & ...|\n",
      "|Gu-xs3NIQTj3Mj2xY...|\"\"\"Maxim Bakery &...|              null|\"\"\"9665 Bayview A...|   Unit 1-4\"\"\"|Richmond Hill|         ON|      L4C 9V4|    43.8675648| -79.4126618|         3.5|     34|                   1|\n",
      "+--------------------+--------------------+------------------+--------------------+--------------+-------------+-----------+-------------+--------------+------------+------------+-------+--------------------+\n",
      "only showing top 20 rows\n",
      "\n"
     ]
    }
   ],
   "source": [
    "business = spark.read.csv( \"yelp-dataset/yelp_business.csv\", header=True)\n",
    "business.show()"
   ]
  },
  {
   "cell_type": "code",
   "execution_count": 140,
   "id": "236f44f5",
   "metadata": {},
   "outputs": [
    {
     "data": {
      "text/html": [
       "<div>\n",
       "<style scoped>\n",
       "    .dataframe tbody tr th:only-of-type {\n",
       "        vertical-align: middle;\n",
       "    }\n",
       "\n",
       "    .dataframe tbody tr th {\n",
       "        vertical-align: top;\n",
       "    }\n",
       "\n",
       "    .dataframe thead th {\n",
       "        text-align: right;\n",
       "    }\n",
       "</style>\n",
       "<table border=\"1\" class=\"dataframe\">\n",
       "  <thead>\n",
       "    <tr style=\"text-align: right;\">\n",
       "      <th></th>\n",
       "      <th>business_id</th>\n",
       "      <th>name</th>\n",
       "      <th>neighborhood</th>\n",
       "      <th>address</th>\n",
       "      <th>city</th>\n",
       "      <th>state</th>\n",
       "      <th>postal_code</th>\n",
       "      <th>latitude</th>\n",
       "      <th>longitude</th>\n",
       "      <th>stars</th>\n",
       "      <th>review_count</th>\n",
       "      <th>is_open</th>\n",
       "      <th>categories</th>\n",
       "    </tr>\n",
       "  </thead>\n",
       "  <tbody>\n",
       "    <tr>\n",
       "      <th>0</th>\n",
       "      <td>FYWN1wneV18bWNgQjJ2GNg</td>\n",
       "      <td>\"\"\"Dental by Design\"\"\"</td>\n",
       "      <td>None</td>\n",
       "      <td>\"\"\"4855 E Warner Rd</td>\n",
       "      <td>Ste B9\"\"\"</td>\n",
       "      <td>Ahwatukee</td>\n",
       "      <td>AZ</td>\n",
       "      <td>85044</td>\n",
       "      <td>33.3306902</td>\n",
       "      <td>-111.9785992</td>\n",
       "      <td>4.0</td>\n",
       "      <td>22</td>\n",
       "      <td>1</td>\n",
       "    </tr>\n",
       "    <tr>\n",
       "      <th>1</th>\n",
       "      <td>He-G7vWjzVUysIKrfNbPUQ</td>\n",
       "      <td>\"\"\"Stephen Szabo Salon\"\"\"</td>\n",
       "      <td>None</td>\n",
       "      <td>\"\"\"3101 Washington Rd\"\"\"</td>\n",
       "      <td>McMurray</td>\n",
       "      <td>PA</td>\n",
       "      <td>15317</td>\n",
       "      <td>40.2916853</td>\n",
       "      <td>-80.1048999</td>\n",
       "      <td>3.0</td>\n",
       "      <td>11</td>\n",
       "      <td>1</td>\n",
       "      <td>Hair Stylists;Hair Salons;Men's Hair Salons;Bl...</td>\n",
       "    </tr>\n",
       "    <tr>\n",
       "      <th>2</th>\n",
       "      <td>KQPW8lFf1y5BT2MxiSZ3QA</td>\n",
       "      <td>\"\"\"Western Motor Vehicle\"\"\"</td>\n",
       "      <td>None</td>\n",
       "      <td>\"\"\"6025 N 27th Ave</td>\n",
       "      <td>Ste 1\"\"\"</td>\n",
       "      <td>Phoenix</td>\n",
       "      <td>AZ</td>\n",
       "      <td>85017</td>\n",
       "      <td>33.5249025</td>\n",
       "      <td>-112.1153098</td>\n",
       "      <td>1.5</td>\n",
       "      <td>18</td>\n",
       "      <td>1</td>\n",
       "    </tr>\n",
       "    <tr>\n",
       "      <th>3</th>\n",
       "      <td>8DShNS-LuFqpEWIp0HxijA</td>\n",
       "      <td>\"\"\"Sports Authority\"\"\"</td>\n",
       "      <td>None</td>\n",
       "      <td>\"\"\"5000 Arizona Mills Cr</td>\n",
       "      <td>Ste 435\"\"\"</td>\n",
       "      <td>Tempe</td>\n",
       "      <td>AZ</td>\n",
       "      <td>85282</td>\n",
       "      <td>33.3831468</td>\n",
       "      <td>-111.9647254</td>\n",
       "      <td>3.0</td>\n",
       "      <td>9</td>\n",
       "      <td>0</td>\n",
       "    </tr>\n",
       "    <tr>\n",
       "      <th>4</th>\n",
       "      <td>PfOCPjBrlQAnz__NXj9h_w</td>\n",
       "      <td>\"\"\"Brick House Tavern + Tap\"\"\"</td>\n",
       "      <td>None</td>\n",
       "      <td>\"\"\"581 Howe Ave\"\"\"</td>\n",
       "      <td>Cuyahoga Falls</td>\n",
       "      <td>OH</td>\n",
       "      <td>44221</td>\n",
       "      <td>41.1195346</td>\n",
       "      <td>-81.4756898</td>\n",
       "      <td>3.5</td>\n",
       "      <td>116</td>\n",
       "      <td>1</td>\n",
       "      <td>American (New);Nightlife;Bars;Sandwiches;Ameri...</td>\n",
       "    </tr>\n",
       "  </tbody>\n",
       "</table>\n",
       "</div>"
      ],
      "text/plain": [
       "              business_id                            name neighborhood  \\\n",
       "0  FYWN1wneV18bWNgQjJ2GNg          \"\"\"Dental by Design\"\"\"         None   \n",
       "1  He-G7vWjzVUysIKrfNbPUQ       \"\"\"Stephen Szabo Salon\"\"\"         None   \n",
       "2  KQPW8lFf1y5BT2MxiSZ3QA     \"\"\"Western Motor Vehicle\"\"\"         None   \n",
       "3  8DShNS-LuFqpEWIp0HxijA          \"\"\"Sports Authority\"\"\"         None   \n",
       "4  PfOCPjBrlQAnz__NXj9h_w  \"\"\"Brick House Tavern + Tap\"\"\"         None   \n",
       "\n",
       "                    address            city      state postal_code  \\\n",
       "0       \"\"\"4855 E Warner Rd       Ste B9\"\"\"  Ahwatukee          AZ   \n",
       "1  \"\"\"3101 Washington Rd\"\"\"        McMurray         PA       15317   \n",
       "2        \"\"\"6025 N 27th Ave        Ste 1\"\"\"    Phoenix          AZ   \n",
       "3  \"\"\"5000 Arizona Mills Cr      Ste 435\"\"\"      Tempe          AZ   \n",
       "4        \"\"\"581 Howe Ave\"\"\"  Cuyahoga Falls         OH       44221   \n",
       "\n",
       "     latitude    longitude         stars review_count is_open  \\\n",
       "0       85044   33.3306902  -111.9785992          4.0      22   \n",
       "1  40.2916853  -80.1048999           3.0           11       1   \n",
       "2       85017   33.5249025  -112.1153098          1.5      18   \n",
       "3       85282   33.3831468  -111.9647254          3.0       9   \n",
       "4  41.1195346  -81.4756898           3.5          116       1   \n",
       "\n",
       "                                          categories  \n",
       "0                                                  1  \n",
       "1  Hair Stylists;Hair Salons;Men's Hair Salons;Bl...  \n",
       "2                                                  1  \n",
       "3                                                  0  \n",
       "4  American (New);Nightlife;Bars;Sandwiches;Ameri...  "
      ]
     },
     "execution_count": 140,
     "metadata": {},
     "output_type": "execute_result"
    }
   ],
   "source": [
    "business.limit(5).toPandas()"
   ]
  },
  {
   "cell_type": "code",
   "execution_count": 142,
   "id": "d4ca199a",
   "metadata": {},
   "outputs": [
    {
     "data": {
      "text/plain": [
       "174567"
      ]
     },
     "execution_count": 142,
     "metadata": {},
     "output_type": "execute_result"
    }
   ],
   "source": [
    "business.count()"
   ]
  },
  {
   "cell_type": "code",
   "execution_count": 143,
   "id": "866e2847",
   "metadata": {},
   "outputs": [
    {
     "data": {
      "text/plain": [
       "174567"
      ]
     },
     "execution_count": 143,
     "metadata": {},
     "output_type": "execute_result"
    }
   ],
   "source": [
    "pandas_business['business_id'].count()"
   ]
  },
  {
   "cell_type": "markdown",
   "id": "f83fe61b",
   "metadata": {},
   "source": [
    "### 6. Check-in"
   ]
  },
  {
   "cell_type": "code",
   "execution_count": 144,
   "id": "f85e3891",
   "metadata": {},
   "outputs": [
    {
     "name": "stdout",
     "output_type": "stream",
     "text": [
      "+--------------------+-------+-----+--------+\n",
      "|         business_id|weekday| hour|checkins|\n",
      "+--------------------+-------+-----+--------+\n",
      "|3Mc-LxcqeguOXOVT_...|    Tue| 0:00|      12|\n",
      "|SVFx6_epO22bZTZnK...|    Wed| 0:00|       4|\n",
      "|vW9aLivd4-IorAfSt...|    Tue|14:00|       1|\n",
      "|tEzxhauTQddACyqdJ...|    Fri|19:00|       1|\n",
      "|CEyZU32P-vtMhgqRC...|    Tue|17:00|       1|\n",
      "|9dn5pee_n2dWQfN57...|    Sun| 3:00|       5|\n",
      "|6Zk5F7fsTr8n2CJTl...|    Wed| 1:00|       4|\n",
      "|OE_IDW5w_W97sBcZv...|    Sat| 1:00|       1|\n",
      "|gy5pr5bFAjOL5rERS...|    Sat|15:00|       1|\n",
      "|r2-eAhGANXlcgQy89...|    Mon|19:00|       1|\n",
      "|wiBxwslJAGDdZ2nmL...|    Mon|16:00|       1|\n",
      "|08jURVR_eDvXq9scd...|    Sat|23:00|       1|\n",
      "|BlWPjh2WuvQSlmYmg...|    Sun| 0:00|       1|\n",
      "|6DO_2jivyxcL6SXGP...|    Wed|23:00|       1|\n",
      "|wrJROwvVKHvdMVIZO...|    Thu|21:00|       3|\n",
      "|uU8up3hGwW9qnzQD1...|    Fri| 0:00|       1|\n",
      "|JHPq9KvMuJaC7CPAT...|    Sun|16:00|       1|\n",
      "|vyzfT3_KzLi8WmInw...|    Thu| 9:00|       1|\n",
      "|E4T0rQBJa0e4HIliB...|    Thu|23:00|       2|\n",
      "|vuvnexwJzb1ydKLac...|    Mon|18:00|       1|\n",
      "+--------------------+-------+-----+--------+\n",
      "only showing top 20 rows\n",
      "\n"
     ]
    }
   ],
   "source": [
    "checkin = spark.read.csv( \"yelp-dataset/yelp_checkin.csv\", header=True)\n",
    "checkin.show()"
   ]
  },
  {
   "cell_type": "code",
   "execution_count": 145,
   "id": "71ff42d3",
   "metadata": {},
   "outputs": [
    {
     "data": {
      "text/html": [
       "<div>\n",
       "<style scoped>\n",
       "    .dataframe tbody tr th:only-of-type {\n",
       "        vertical-align: middle;\n",
       "    }\n",
       "\n",
       "    .dataframe tbody tr th {\n",
       "        vertical-align: top;\n",
       "    }\n",
       "\n",
       "    .dataframe thead th {\n",
       "        text-align: right;\n",
       "    }\n",
       "</style>\n",
       "<table border=\"1\" class=\"dataframe\">\n",
       "  <thead>\n",
       "    <tr style=\"text-align: right;\">\n",
       "      <th></th>\n",
       "      <th>business_id</th>\n",
       "      <th>weekday</th>\n",
       "      <th>hour</th>\n",
       "      <th>checkins</th>\n",
       "    </tr>\n",
       "  </thead>\n",
       "  <tbody>\n",
       "    <tr>\n",
       "      <th>0</th>\n",
       "      <td>3Mc-LxcqeguOXOVT_2ZtCg</td>\n",
       "      <td>Tue</td>\n",
       "      <td>0:00</td>\n",
       "      <td>12</td>\n",
       "    </tr>\n",
       "    <tr>\n",
       "      <th>1</th>\n",
       "      <td>SVFx6_epO22bZTZnKwlX7g</td>\n",
       "      <td>Wed</td>\n",
       "      <td>0:00</td>\n",
       "      <td>4</td>\n",
       "    </tr>\n",
       "    <tr>\n",
       "      <th>2</th>\n",
       "      <td>vW9aLivd4-IorAfStzsHww</td>\n",
       "      <td>Tue</td>\n",
       "      <td>14:00</td>\n",
       "      <td>1</td>\n",
       "    </tr>\n",
       "    <tr>\n",
       "      <th>3</th>\n",
       "      <td>tEzxhauTQddACyqdJ0OPEQ</td>\n",
       "      <td>Fri</td>\n",
       "      <td>19:00</td>\n",
       "      <td>1</td>\n",
       "    </tr>\n",
       "    <tr>\n",
       "      <th>4</th>\n",
       "      <td>CEyZU32P-vtMhgqRCaXzMA</td>\n",
       "      <td>Tue</td>\n",
       "      <td>17:00</td>\n",
       "      <td>1</td>\n",
       "    </tr>\n",
       "  </tbody>\n",
       "</table>\n",
       "</div>"
      ],
      "text/plain": [
       "              business_id weekday   hour checkins\n",
       "0  3Mc-LxcqeguOXOVT_2ZtCg     Tue   0:00       12\n",
       "1  SVFx6_epO22bZTZnKwlX7g     Wed   0:00        4\n",
       "2  vW9aLivd4-IorAfStzsHww     Tue  14:00        1\n",
       "3  tEzxhauTQddACyqdJ0OPEQ     Fri  19:00        1\n",
       "4  CEyZU32P-vtMhgqRCaXzMA     Tue  17:00        1"
      ]
     },
     "execution_count": 145,
     "metadata": {},
     "output_type": "execute_result"
    }
   ],
   "source": [
    "checkin.limit(5).toPandas()"
   ]
  },
  {
   "cell_type": "code",
   "execution_count": 146,
   "id": "3546f19c",
   "metadata": {},
   "outputs": [
    {
     "data": {
      "text/plain": [
       "3911218"
      ]
     },
     "execution_count": 146,
     "metadata": {},
     "output_type": "execute_result"
    }
   ],
   "source": [
    "checkin.count()"
   ]
  },
  {
   "cell_type": "code",
   "execution_count": 147,
   "id": "1a4fa3a4",
   "metadata": {},
   "outputs": [
    {
     "data": {
      "text/plain": [
       "3911218"
      ]
     },
     "execution_count": 147,
     "metadata": {},
     "output_type": "execute_result"
    }
   ],
   "source": [
    "# Cross check with pandas dataframe \n",
    "\n",
    "pandas_checkin['business_id'].count()"
   ]
  },
  {
   "cell_type": "markdown",
   "id": "7b3e0477",
   "metadata": {},
   "source": [
    "### 7. Tip "
   ]
  },
  {
   "cell_type": "code",
   "execution_count": 148,
   "id": "d9e7b99f",
   "metadata": {},
   "outputs": [
    {
     "name": "stdout",
     "output_type": "stream",
     "text": [
      "+--------------------+----------+-----+--------------------+--------------------+\n",
      "|                text|      date|likes|         business_id|             user_id|\n",
      "+--------------------+----------+-----+--------------------+--------------------+\n",
      "|Great breakfast l...|2015-08-12|    0|jH19V2I9fIslnNhDz...|ZcLKXikTHYOnYt5VY...|\n",
      "|Nice place. Great...|2014-06-20|    0|dAa0hB2yrnHzVmsCk...|oaYhjqBbh18ZhU0bp...|\n",
      "|Happy hour 5-7 Mo...|2016-10-12|    0|dAa0hB2yrnHzVmsCk...|ulQ8Nyj7jCUR8M83S...|\n",
      "|Parking is a prem...|2017-01-28|    0|ESzO3Av0b1_TzKOiq...|ulQ8Nyj7jCUR8M83S...|\n",
      "|Homemade pasta is...|2017-02-25|    0|k7WRPbDd7rztjHcGG...|ulQ8Nyj7jCUR8M83S...|\n",
      "|Excellent service...|2017-04-08|    0|k7WRPbDd7rztjHcGG...|ulQ8Nyj7jCUR8M83S...|\n",
      "|Come early on Sun...|2016-07-03|    0|SqW3igh1_Png336VI...|ulQ8Nyj7jCUR8M83S...|\n",
      "|    Love their soup!|2016-01-07|    0|KNpcPGqDORDdvtekX...|ulQ8Nyj7jCUR8M83S...|\n",
      "|Soups are fantastic!|2016-05-22|    0|KNpcPGqDORDdvtekX...|ulQ8Nyj7jCUR8M83S...|\n",
      "|Thursday night is...|2016-06-09|    0|KNpcPGqDORDdvtekX...|ulQ8Nyj7jCUR8M83S...|\n",
      "|Very good for lun...|2016-06-01|    0|8qNOI6Q1-rJrvWWD5...|ulQ8Nyj7jCUR8M83S...|\n",
      "|Tuesday spaghetti...|2016-06-14|    0|8qNOI6Q1-rJrvWWD5...|ulQ8Nyj7jCUR8M83S...|\n",
      "|Sunday $.55 bone-...|      null| null|                null|                null|\n",
      "|Monday $.55 bonel...|2016-08-22|    0|--ujyvoQlwVoBgMYt...|ulQ8Nyj7jCUR8M83S...|\n",
      "|There isn't a bad...|2017-01-21|    0|FCUVjQf762no86Uzc...|ulQ8Nyj7jCUR8M83S...|\n",
      "|Nice happy hour m...|2016-06-13|    0|Tl_jT2a0bRMac5_YW...|ulQ8Nyj7jCUR8M83S...|\n",
      "|Always have somet...|2016-06-30|    0|Tl_jT2a0bRMac5_YW...|ulQ8Nyj7jCUR8M83S...|\n",
      "|Brisket sandwich ...|2015-10-28|    0|c5NHHW0sNm7eaQBwv...|ulQ8Nyj7jCUR8M83S...|\n",
      "|Double wide does ...|2016-02-11|    0|zJwm3DThV4WUIkyNv...|ulQ8Nyj7jCUR8M83S...|\n",
      "|Black Angus and t...|2012-12-03|    0|JzB7NITHQ7gVHGVZ1...|TvkqJ8YEIsTb16Rnn...|\n",
      "+--------------------+----------+-----+--------------------+--------------------+\n",
      "only showing top 20 rows\n",
      "\n"
     ]
    }
   ],
   "source": [
    "tip = spark.read.csv( \"yelp-dataset/yelp_tip.csv\", header=True)\n",
    "tip.show()"
   ]
  },
  {
   "cell_type": "code",
   "execution_count": 149,
   "id": "c8701970",
   "metadata": {},
   "outputs": [
    {
     "data": {
      "text/html": [
       "<div>\n",
       "<style scoped>\n",
       "    .dataframe tbody tr th:only-of-type {\n",
       "        vertical-align: middle;\n",
       "    }\n",
       "\n",
       "    .dataframe tbody tr th {\n",
       "        vertical-align: top;\n",
       "    }\n",
       "\n",
       "    .dataframe thead th {\n",
       "        text-align: right;\n",
       "    }\n",
       "</style>\n",
       "<table border=\"1\" class=\"dataframe\">\n",
       "  <thead>\n",
       "    <tr style=\"text-align: right;\">\n",
       "      <th></th>\n",
       "      <th>text</th>\n",
       "      <th>date</th>\n",
       "      <th>likes</th>\n",
       "      <th>business_id</th>\n",
       "      <th>user_id</th>\n",
       "    </tr>\n",
       "  </thead>\n",
       "  <tbody>\n",
       "    <tr>\n",
       "      <th>0</th>\n",
       "      <td>Great breakfast large portions and friendly wa...</td>\n",
       "      <td>2015-08-12</td>\n",
       "      <td>0</td>\n",
       "      <td>jH19V2I9fIslnNhDzPmdkA</td>\n",
       "      <td>ZcLKXikTHYOnYt5VYRO5sg</td>\n",
       "    </tr>\n",
       "    <tr>\n",
       "      <th>1</th>\n",
       "      <td>Nice place. Great staff.  A fixture in the tow...</td>\n",
       "      <td>2014-06-20</td>\n",
       "      <td>0</td>\n",
       "      <td>dAa0hB2yrnHzVmsCkN4YvQ</td>\n",
       "      <td>oaYhjqBbh18ZhU0bpyzSuw</td>\n",
       "    </tr>\n",
       "    <tr>\n",
       "      <th>2</th>\n",
       "      <td>Happy hour 5-7 Monday - Friday</td>\n",
       "      <td>2016-10-12</td>\n",
       "      <td>0</td>\n",
       "      <td>dAa0hB2yrnHzVmsCkN4YvQ</td>\n",
       "      <td>ulQ8Nyj7jCUR8M83SUMoRQ</td>\n",
       "    </tr>\n",
       "    <tr>\n",
       "      <th>3</th>\n",
       "      <td>Parking is a premium, keep circling, you will ...</td>\n",
       "      <td>2017-01-28</td>\n",
       "      <td>0</td>\n",
       "      <td>ESzO3Av0b1_TzKOiqzbQYQ</td>\n",
       "      <td>ulQ8Nyj7jCUR8M83SUMoRQ</td>\n",
       "    </tr>\n",
       "    <tr>\n",
       "      <th>4</th>\n",
       "      <td>Homemade pasta is the best in the area</td>\n",
       "      <td>2017-02-25</td>\n",
       "      <td>0</td>\n",
       "      <td>k7WRPbDd7rztjHcGGkEjlw</td>\n",
       "      <td>ulQ8Nyj7jCUR8M83SUMoRQ</td>\n",
       "    </tr>\n",
       "  </tbody>\n",
       "</table>\n",
       "</div>"
      ],
      "text/plain": [
       "                                                text        date likes  \\\n",
       "0  Great breakfast large portions and friendly wa...  2015-08-12     0   \n",
       "1  Nice place. Great staff.  A fixture in the tow...  2014-06-20     0   \n",
       "2                     Happy hour 5-7 Monday - Friday  2016-10-12     0   \n",
       "3  Parking is a premium, keep circling, you will ...  2017-01-28     0   \n",
       "4             Homemade pasta is the best in the area  2017-02-25     0   \n",
       "\n",
       "              business_id                 user_id  \n",
       "0  jH19V2I9fIslnNhDzPmdkA  ZcLKXikTHYOnYt5VYRO5sg  \n",
       "1  dAa0hB2yrnHzVmsCkN4YvQ  oaYhjqBbh18ZhU0bpyzSuw  \n",
       "2  dAa0hB2yrnHzVmsCkN4YvQ  ulQ8Nyj7jCUR8M83SUMoRQ  \n",
       "3  ESzO3Av0b1_TzKOiqzbQYQ  ulQ8Nyj7jCUR8M83SUMoRQ  \n",
       "4  k7WRPbDd7rztjHcGGkEjlw  ulQ8Nyj7jCUR8M83SUMoRQ  "
      ]
     },
     "execution_count": 149,
     "metadata": {},
     "output_type": "execute_result"
    }
   ],
   "source": [
    "tip.limit(5).toPandas()"
   ]
  },
  {
   "cell_type": "code",
   "execution_count": 150,
   "id": "28f1fd4a",
   "metadata": {},
   "outputs": [
    {
     "data": {
      "text/plain": [
       "1130231"
      ]
     },
     "execution_count": 150,
     "metadata": {},
     "output_type": "execute_result"
    }
   ],
   "source": [
    "tip.count()"
   ]
  },
  {
   "cell_type": "code",
   "execution_count": 151,
   "id": "74a97f5f",
   "metadata": {},
   "outputs": [
    {
     "data": {
      "text/plain": [
       "1098322"
      ]
     },
     "execution_count": 151,
     "metadata": {},
     "output_type": "execute_result"
    }
   ],
   "source": [
    "# Cross check with pandas dataframe \n",
    "\n",
    "pandas_tip['text'].count()"
   ]
  },
  {
   "cell_type": "code",
   "execution_count": null,
   "id": "d1419bfc",
   "metadata": {},
   "outputs": [],
   "source": [
    "### Do we want to do anything with this DataFrame? I do not want to clean it. "
   ]
  }
 ],
 "metadata": {
  "kernelspec": {
   "display_name": "Python 3",
   "language": "python",
   "name": "python3"
  },
  "language_info": {
   "codemirror_mode": {
    "name": "ipython",
    "version": 3
   },
   "file_extension": ".py",
   "mimetype": "text/x-python",
   "name": "python",
   "nbconvert_exporter": "python",
   "pygments_lexer": "ipython3",
   "version": "3.8.8"
  }
 },
 "nbformat": 4,
 "nbformat_minor": 5
}
