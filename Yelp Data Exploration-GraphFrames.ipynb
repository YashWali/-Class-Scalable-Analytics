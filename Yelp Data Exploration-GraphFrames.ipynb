{
 "cells": [
  {
   "cell_type": "markdown",
   "id": "1f0f02c9",
   "metadata": {},
   "source": [
    "<h2>Importing libraries</h2>"
   ]
  },
  {
   "cell_type": "code",
   "execution_count": 1,
   "id": "eae6bcda",
   "metadata": {},
   "outputs": [],
   "source": [
    "import os\n",
    "import pandas as pd\n",
    "import warnings\n",
    "warnings.filterwarnings(\"ignore\")"
   ]
  },
  {
   "cell_type": "code",
   "execution_count": 2,
   "id": "450ff62c",
   "metadata": {},
   "outputs": [
    {
     "name": "stderr",
     "output_type": "stream",
     "text": [
      "WARNING:root:'PYARROW_IGNORE_TIMEZONE' environment variable was not set. It is required to set this environment variable to '1' in both driver and executor sides if you use pyarrow>=2.0.0. pandas-on-Spark will set it for you but it does not work if there is a Spark context already launched.\n"
     ]
    }
   ],
   "source": [
    "import findspark\n",
    "findspark.init()\n",
    "\n",
    "import pyspark\n",
    "from pyspark.sql import SparkSession\n",
    "from pyspark.sql.functions import udf\n",
    "import hashlib\n",
    "import pyspark.pandas as ps"
   ]
  },
  {
   "cell_type": "code",
   "execution_count": 3,
   "id": "1f155343",
   "metadata": {},
   "outputs": [],
   "source": [
    "import pyspark.pandas as ps"
   ]
  },
  {
   "cell_type": "code",
   "execution_count": 4,
   "id": "4afd9e6d",
   "metadata": {},
   "outputs": [],
   "source": [
    "# Find the correct version from: \n",
    "# https://spark-packages.org/package/graphframes/graphframes\n",
    "\n",
    "os.environ[\"PYSPARK_SUBMIT_ARGS\"] = (\n",
    "   \"--packages graphframes:graphframes:0.8.2-spark3.2-s_2.12 pyspark-shell\"\n",
    ")\n",
    "spark = SparkSession.builder.appName(\"BigData Project - GraphFrames\").getOrCreate()\n",
    "\n",
    "# Alternative:\n",
    "#!wget https://repos.spark-packages.org/graphframes/graphframes/0.8.2-spark3.2-s_2.12/graphframes-0.8.2-spark3.2-s_2.12.jar\n",
    "#!wget https://repos.spark-packages.org/graphframes/graphframes/0.8.2-spark3.0-s_2.12/graphframes-0.8.2-spark3.0-s_2.12.jar\n",
    "#spark.sparkContext.addPyFile(\"graphframes-0.8.2-spark3.2-s_2.12.jar\")"
   ]
  },
  {
   "cell_type": "code",
   "execution_count": 5,
   "id": "f20a2213",
   "metadata": {},
   "outputs": [],
   "source": [
    "from functools import reduce\n",
    "from pyspark.sql.functions import col, lit, when\n",
    "from graphframes import *"
   ]
  },
  {
   "cell_type": "markdown",
   "id": "8caa99c4",
   "metadata": {},
   "source": [
    "<h2>Reading data</h2>"
   ]
  },
  {
   "cell_type": "code",
   "execution_count": 6,
   "id": "2a23989b",
   "metadata": {},
   "outputs": [],
   "source": [
    "# Storing information in Spark DataFrames\n",
    "#/C:/Users/chrsi/Desktop/GSU/000_Classes/Spring 2022/02_Scalable Data Analytics/Project/01_Data\n",
    "path = \"yelp-dataset\"\n",
    "BUSINESS = \"yelp_business.csv\"\n",
    "BUSINESS_ATTRS = \"yelp_business.csv\"\n",
    "BUSINESS_HOURS = \"yelp_business_attributes.csv\"\n",
    "CHECKINS = \"yelp_checkin.csv\"\n",
    "REVIEW = \"yelp_review.csv\"\n",
    "TIP = \"yelp_tip.csv\"\n",
    "USER = \"yelp_user.csv\"\n",
    "\n",
    "# businessDF = ps.read_csv(os.path.join(path,BUSINESS), nrows=100)\n",
    "# business_attrsDF = ps.read_csv(os.path.join(path,BUSINESS_ATTRS), nrows=100)\n",
    "# business_hoursDF = ps.read_csv(os.path.join(path,BUSINESS_HOURS), nrows=100)\n",
    "# checkinDF = ps.read_csv(os.path.join(path,CHECKINS), nrows=100)\n",
    "reviewDF = ps.read_csv(os.path.join(path,REVIEW), nrows=1000000)\n",
    "# tipDF = ps.read_csv(os.path.join(path,TIP), nrows=100)\n",
    "userDF = ps.read_csv(os.path.join(path,USER), nrows=1000000)"
   ]
  },
  {
   "cell_type": "code",
   "execution_count": 38,
   "id": "413e90af",
   "metadata": {},
   "outputs": [
    {
     "data": {
      "text/html": [
       "<div>\n",
       "<style scoped>\n",
       "    .dataframe tbody tr th:only-of-type {\n",
       "        vertical-align: middle;\n",
       "    }\n",
       "\n",
       "    .dataframe tbody tr th {\n",
       "        vertical-align: top;\n",
       "    }\n",
       "\n",
       "    .dataframe thead th {\n",
       "        text-align: right;\n",
       "    }\n",
       "</style>\n",
       "<table border=\"1\" class=\"dataframe\">\n",
       "  <thead>\n",
       "    <tr style=\"text-align: right;\">\n",
       "      <th></th>\n",
       "      <th>business_id</th>\n",
       "      <th>name</th>\n",
       "      <th>neighborhood</th>\n",
       "      <th>address</th>\n",
       "      <th>city</th>\n",
       "      <th>state</th>\n",
       "      <th>postal_code</th>\n",
       "      <th>latitude</th>\n",
       "      <th>longitude</th>\n",
       "      <th>stars</th>\n",
       "      <th>review_count</th>\n",
       "      <th>is_open</th>\n",
       "      <th>categories</th>\n",
       "    </tr>\n",
       "  </thead>\n",
       "  <tbody>\n",
       "    <tr>\n",
       "      <th>0</th>\n",
       "      <td>FYWN1wneV18bWNgQjJ2GNg</td>\n",
       "      <td>\"\"\"Dental by Design\"\"\"</td>\n",
       "      <td>None</td>\n",
       "      <td>\"\"\"4855 E Warner Rd</td>\n",
       "      <td>Ste B9\"\"\"</td>\n",
       "      <td>Ahwatukee</td>\n",
       "      <td>AZ</td>\n",
       "      <td>85044</td>\n",
       "      <td>33.3306902</td>\n",
       "      <td>-111.9785992</td>\n",
       "      <td>4.0</td>\n",
       "      <td>22.0</td>\n",
       "      <td>1</td>\n",
       "    </tr>\n",
       "    <tr>\n",
       "      <th>1</th>\n",
       "      <td>He-G7vWjzVUysIKrfNbPUQ</td>\n",
       "      <td>\"\"\"Stephen Szabo Salon\"\"\"</td>\n",
       "      <td>None</td>\n",
       "      <td>\"\"\"3101 Washington Rd\"\"\"</td>\n",
       "      <td>McMurray</td>\n",
       "      <td>PA</td>\n",
       "      <td>15317</td>\n",
       "      <td>40.2916853</td>\n",
       "      <td>-80.1048999</td>\n",
       "      <td>3.0</td>\n",
       "      <td>11</td>\n",
       "      <td>1.0</td>\n",
       "      <td>Hair Stylists;Hair Salons;Men's Hair Salons;Bl...</td>\n",
       "    </tr>\n",
       "  </tbody>\n",
       "</table>\n",
       "</div>"
      ],
      "text/plain": [
       "              business_id                       name neighborhood                   address        city      state postal_code    latitude    longitude         stars review_count  is_open                                                                                       categories\n",
       "0  FYWN1wneV18bWNgQjJ2GNg     \"\"\"Dental by Design\"\"\"         None       \"\"\"4855 E Warner Rd   Ste B9\"\"\"  Ahwatukee          AZ       85044   33.3306902  -111.9785992          4.0     22.0                                                                                                1\n",
       "1  He-G7vWjzVUysIKrfNbPUQ  \"\"\"Stephen Szabo Salon\"\"\"         None  \"\"\"3101 Washington Rd\"\"\"    McMurray         PA       15317  40.2916853  -80.1048999           3.0           11      1.0  Hair Stylists;Hair Salons;Men's Hair Salons;Blow Dry/Out Services;Hair Extensions;Beauty & Spas"
      ]
     },
     "execution_count": 38,
     "metadata": {},
     "output_type": "execute_result"
    }
   ],
   "source": [
    "businessDF.head(2)"
   ]
  },
  {
   "cell_type": "code",
   "execution_count": 39,
   "id": "3ffe9353",
   "metadata": {},
   "outputs": [
    {
     "data": {
      "text/html": [
       "<div>\n",
       "<style scoped>\n",
       "    .dataframe tbody tr th:only-of-type {\n",
       "        vertical-align: middle;\n",
       "    }\n",
       "\n",
       "    .dataframe tbody tr th {\n",
       "        vertical-align: top;\n",
       "    }\n",
       "\n",
       "    .dataframe thead th {\n",
       "        text-align: right;\n",
       "    }\n",
       "</style>\n",
       "<table border=\"1\" class=\"dataframe\">\n",
       "  <thead>\n",
       "    <tr style=\"text-align: right;\">\n",
       "      <th></th>\n",
       "      <th>business_id</th>\n",
       "      <th>name</th>\n",
       "      <th>neighborhood</th>\n",
       "      <th>address</th>\n",
       "      <th>city</th>\n",
       "      <th>state</th>\n",
       "      <th>postal_code</th>\n",
       "      <th>latitude</th>\n",
       "      <th>longitude</th>\n",
       "      <th>stars</th>\n",
       "      <th>review_count</th>\n",
       "      <th>is_open</th>\n",
       "      <th>categories</th>\n",
       "    </tr>\n",
       "  </thead>\n",
       "  <tbody>\n",
       "    <tr>\n",
       "      <th>0</th>\n",
       "      <td>FYWN1wneV18bWNgQjJ2GNg</td>\n",
       "      <td>\"\"\"Dental by Design\"\"\"</td>\n",
       "      <td>None</td>\n",
       "      <td>\"\"\"4855 E Warner Rd</td>\n",
       "      <td>Ste B9\"\"\"</td>\n",
       "      <td>Ahwatukee</td>\n",
       "      <td>AZ</td>\n",
       "      <td>85044</td>\n",
       "      <td>33.3306902</td>\n",
       "      <td>-111.9785992</td>\n",
       "      <td>4.0</td>\n",
       "      <td>22.0</td>\n",
       "      <td>1</td>\n",
       "    </tr>\n",
       "    <tr>\n",
       "      <th>1</th>\n",
       "      <td>He-G7vWjzVUysIKrfNbPUQ</td>\n",
       "      <td>\"\"\"Stephen Szabo Salon\"\"\"</td>\n",
       "      <td>None</td>\n",
       "      <td>\"\"\"3101 Washington Rd\"\"\"</td>\n",
       "      <td>McMurray</td>\n",
       "      <td>PA</td>\n",
       "      <td>15317</td>\n",
       "      <td>40.2916853</td>\n",
       "      <td>-80.1048999</td>\n",
       "      <td>3.0</td>\n",
       "      <td>11</td>\n",
       "      <td>1.0</td>\n",
       "      <td>Hair Stylists;Hair Salons;Men's Hair Salons;Bl...</td>\n",
       "    </tr>\n",
       "  </tbody>\n",
       "</table>\n",
       "</div>"
      ],
      "text/plain": [
       "              business_id                       name neighborhood                   address        city      state postal_code    latitude    longitude         stars review_count  is_open                                                                                       categories\n",
       "0  FYWN1wneV18bWNgQjJ2GNg     \"\"\"Dental by Design\"\"\"         None       \"\"\"4855 E Warner Rd   Ste B9\"\"\"  Ahwatukee          AZ       85044   33.3306902  -111.9785992          4.0     22.0                                                                                                1\n",
       "1  He-G7vWjzVUysIKrfNbPUQ  \"\"\"Stephen Szabo Salon\"\"\"         None  \"\"\"3101 Washington Rd\"\"\"    McMurray         PA       15317  40.2916853  -80.1048999           3.0           11      1.0  Hair Stylists;Hair Salons;Men's Hair Salons;Blow Dry/Out Services;Hair Extensions;Beauty & Spas"
      ]
     },
     "execution_count": 39,
     "metadata": {},
     "output_type": "execute_result"
    }
   ],
   "source": [
    "business_attrsDF.head(2)"
   ]
  },
  {
   "cell_type": "code",
   "execution_count": 40,
   "id": "13e77f13",
   "metadata": {},
   "outputs": [
    {
     "data": {
      "text/html": [
       "<div>\n",
       "<style scoped>\n",
       "    .dataframe tbody tr th:only-of-type {\n",
       "        vertical-align: middle;\n",
       "    }\n",
       "\n",
       "    .dataframe tbody tr th {\n",
       "        vertical-align: top;\n",
       "    }\n",
       "\n",
       "    .dataframe thead th {\n",
       "        text-align: right;\n",
       "    }\n",
       "</style>\n",
       "<table border=\"1\" class=\"dataframe\">\n",
       "  <thead>\n",
       "    <tr style=\"text-align: right;\">\n",
       "      <th></th>\n",
       "      <th>review_id</th>\n",
       "      <th>user_id</th>\n",
       "      <th>business_id</th>\n",
       "      <th>stars</th>\n",
       "      <th>date</th>\n",
       "      <th>text</th>\n",
       "      <th>useful</th>\n",
       "      <th>funny</th>\n",
       "      <th>cool</th>\n",
       "    </tr>\n",
       "  </thead>\n",
       "  <tbody>\n",
       "    <tr>\n",
       "      <th>0</th>\n",
       "      <td>vkVSCC7xljjrAI4UGfnKEQ</td>\n",
       "      <td>bv2nCi5Qv5vroFiqKGopiw</td>\n",
       "      <td>AEx2SYEUJmTxVVB18LlCwA</td>\n",
       "      <td>5</td>\n",
       "      <td>2016-05-28</td>\n",
       "      <td>Super simple place but amazing nonetheless. It...</td>\n",
       "      <td>None</td>\n",
       "      <td>None</td>\n",
       "      <td>None</td>\n",
       "    </tr>\n",
       "    <tr>\n",
       "      <th>1</th>\n",
       "      <td>Staff was very helpful and friendly.\"</td>\n",
       "      <td>0</td>\n",
       "      <td>0</td>\n",
       "      <td>0</td>\n",
       "      <td>None</td>\n",
       "      <td>None</td>\n",
       "      <td>None</td>\n",
       "      <td>None</td>\n",
       "      <td>None</td>\n",
       "    </tr>\n",
       "    <tr>\n",
       "      <th>2</th>\n",
       "      <td>n6QzIUObkYshz4dz2QRJTw</td>\n",
       "      <td>bv2nCi5Qv5vroFiqKGopiw</td>\n",
       "      <td>VR6GpWIda3SfvPC-lg9H3w</td>\n",
       "      <td>5</td>\n",
       "      <td>2016-05-28</td>\n",
       "      <td>Small unassuming place that changes their menu...</td>\n",
       "      <td>None</td>\n",
       "      <td>None</td>\n",
       "      <td>None</td>\n",
       "    </tr>\n",
       "    <tr>\n",
       "      <th>3</th>\n",
       "      <td>We had their beef tartar and pork belly to sta...</td>\n",
       "      <td>None</td>\n",
       "      <td>None</td>\n",
       "      <td>None</td>\n",
       "      <td>None</td>\n",
       "      <td>None</td>\n",
       "      <td>None</td>\n",
       "      <td>None</td>\n",
       "      <td>None</td>\n",
       "    </tr>\n",
       "    <tr>\n",
       "      <th>4</th>\n",
       "      <td>A bit outside of downtown montreal but take th...</td>\n",
       "      <td>0</td>\n",
       "      <td>0</td>\n",
       "      <td>0</td>\n",
       "      <td>None</td>\n",
       "      <td>None</td>\n",
       "      <td>None</td>\n",
       "      <td>None</td>\n",
       "      <td>None</td>\n",
       "    </tr>\n",
       "  </tbody>\n",
       "</table>\n",
       "</div>"
      ],
      "text/plain": [
       "                                                                                                                                                                                                                                                 review_id                 user_id             business_id stars        date                                                                                                                                                                             text useful funny  cool\n",
       "0                                                                                                                                                                                                                                   vkVSCC7xljjrAI4UGfnKEQ  bv2nCi5Qv5vroFiqKGopiw  AEx2SYEUJmTxVVB18LlCwA     5  2016-05-28  Super simple place but amazing nonetheless. It's been around since the 30's and they still serve the same thing they started with: a bologna and salami sandwich with mustard.    None  None  None\n",
       "1                                                                                                                                                                                                                    Staff was very helpful and friendly.\"                       0                       0     0        None                                                                                                                                                                             None   None  None  None\n",
       "2                                                                                                                                                                                                                                   n6QzIUObkYshz4dz2QRJTw  bv2nCi5Qv5vroFiqKGopiw  VR6GpWIda3SfvPC-lg9H3w     5  2016-05-28                                     Small unassuming place that changes their menu every so often. Cool decor and vibe inside their 30 seat restaurant. Call for a reservation.    None  None  None\n",
       "3  We had their beef tartar and pork belly to start and a salmon dish and lamb meal for mains. Everything was incredible! I could go on at length about how all the listed ingredients really make their dishes amazing but honestly you just need to go.                     None                    None  None        None                                                                                                                                                                             None   None  None  None\n",
       "4                                                                                                                                         A bit outside of downtown montreal but take the metro out and it's less than a 10 minute walk from the station.\"                       0                       0     0        None                                                                                                                                                                             None   None  None  None"
      ]
     },
     "execution_count": 40,
     "metadata": {},
     "output_type": "execute_result"
    }
   ],
   "source": [
    "reviewDF.head()"
   ]
  },
  {
   "cell_type": "code",
   "execution_count": 41,
   "id": "e391c421",
   "metadata": {},
   "outputs": [
    {
     "name": "stdout",
     "output_type": "stream",
     "text": [
      "<class 'pyspark.pandas.frame.DataFrame'>\n"
     ]
    }
   ],
   "source": [
    "print(type(userDF))"
   ]
  },
  {
   "cell_type": "code",
   "execution_count": 42,
   "id": "b25afe0c",
   "metadata": {},
   "outputs": [
    {
     "data": {
      "text/html": [
       "<div>\n",
       "<style scoped>\n",
       "    .dataframe tbody tr th:only-of-type {\n",
       "        vertical-align: middle;\n",
       "    }\n",
       "\n",
       "    .dataframe tbody tr th {\n",
       "        vertical-align: top;\n",
       "    }\n",
       "\n",
       "    .dataframe thead th {\n",
       "        text-align: right;\n",
       "    }\n",
       "</style>\n",
       "<table border=\"1\" class=\"dataframe\">\n",
       "  <thead>\n",
       "    <tr style=\"text-align: right;\">\n",
       "      <th></th>\n",
       "      <th>user_id</th>\n",
       "      <th>name</th>\n",
       "      <th>review_count</th>\n",
       "      <th>yelping_since</th>\n",
       "      <th>friends</th>\n",
       "      <th>useful</th>\n",
       "      <th>funny</th>\n",
       "      <th>cool</th>\n",
       "      <th>fans</th>\n",
       "      <th>elite</th>\n",
       "      <th>average_stars</th>\n",
       "      <th>compliment_hot</th>\n",
       "      <th>compliment_more</th>\n",
       "      <th>compliment_profile</th>\n",
       "      <th>compliment_cute</th>\n",
       "      <th>compliment_list</th>\n",
       "      <th>compliment_note</th>\n",
       "      <th>compliment_plain</th>\n",
       "      <th>compliment_cool</th>\n",
       "      <th>compliment_funny</th>\n",
       "      <th>compliment_writer</th>\n",
       "      <th>compliment_photos</th>\n",
       "    </tr>\n",
       "  </thead>\n",
       "  <tbody>\n",
       "    <tr>\n",
       "      <th>0</th>\n",
       "      <td>JJ-aSuM4pCFPdkfoZ34q0Q</td>\n",
       "      <td>Chris</td>\n",
       "      <td>10</td>\n",
       "      <td>2013-09-24</td>\n",
       "      <td>0njfJmB-7n84DlIgUByCNw, rFn3Xe3RqHxRSxWOU19Gpg...</td>\n",
       "      <td>0</td>\n",
       "      <td>0</td>\n",
       "      <td>0</td>\n",
       "      <td>0</td>\n",
       "      <td>None</td>\n",
       "      <td>3.70</td>\n",
       "      <td>0</td>\n",
       "      <td>0</td>\n",
       "      <td>0</td>\n",
       "      <td>0</td>\n",
       "      <td>0</td>\n",
       "      <td>0</td>\n",
       "      <td>0</td>\n",
       "      <td>0</td>\n",
       "      <td>0</td>\n",
       "      <td>0</td>\n",
       "      <td>0</td>\n",
       "    </tr>\n",
       "    <tr>\n",
       "      <th>1</th>\n",
       "      <td>uUzsFQn_6cXDh6rPNGbIFA</td>\n",
       "      <td>Tiffy</td>\n",
       "      <td>1</td>\n",
       "      <td>2017-03-02</td>\n",
       "      <td>None</td>\n",
       "      <td>0</td>\n",
       "      <td>0</td>\n",
       "      <td>0</td>\n",
       "      <td>0</td>\n",
       "      <td>None</td>\n",
       "      <td>2.00</td>\n",
       "      <td>0</td>\n",
       "      <td>0</td>\n",
       "      <td>0</td>\n",
       "      <td>0</td>\n",
       "      <td>0</td>\n",
       "      <td>0</td>\n",
       "      <td>0</td>\n",
       "      <td>0</td>\n",
       "      <td>0</td>\n",
       "      <td>0</td>\n",
       "      <td>0</td>\n",
       "    </tr>\n",
       "    <tr>\n",
       "      <th>2</th>\n",
       "      <td>mBneaEEH5EMyxaVyqS-72A</td>\n",
       "      <td>Mark</td>\n",
       "      <td>6</td>\n",
       "      <td>2015-03-13</td>\n",
       "      <td>None</td>\n",
       "      <td>0</td>\n",
       "      <td>0</td>\n",
       "      <td>0</td>\n",
       "      <td>0</td>\n",
       "      <td>None</td>\n",
       "      <td>4.67</td>\n",
       "      <td>0</td>\n",
       "      <td>0</td>\n",
       "      <td>0</td>\n",
       "      <td>0</td>\n",
       "      <td>0</td>\n",
       "      <td>0</td>\n",
       "      <td>0</td>\n",
       "      <td>0</td>\n",
       "      <td>0</td>\n",
       "      <td>0</td>\n",
       "      <td>0</td>\n",
       "    </tr>\n",
       "    <tr>\n",
       "      <th>3</th>\n",
       "      <td>W5mJGs-dcDWRGEhAzUYtoA</td>\n",
       "      <td>Evelyn</td>\n",
       "      <td>3</td>\n",
       "      <td>2016-09-08</td>\n",
       "      <td>None</td>\n",
       "      <td>0</td>\n",
       "      <td>0</td>\n",
       "      <td>0</td>\n",
       "      <td>0</td>\n",
       "      <td>None</td>\n",
       "      <td>4.67</td>\n",
       "      <td>0</td>\n",
       "      <td>0</td>\n",
       "      <td>0</td>\n",
       "      <td>0</td>\n",
       "      <td>0</td>\n",
       "      <td>0</td>\n",
       "      <td>0</td>\n",
       "      <td>0</td>\n",
       "      <td>0</td>\n",
       "      <td>0</td>\n",
       "      <td>0</td>\n",
       "    </tr>\n",
       "    <tr>\n",
       "      <th>4</th>\n",
       "      <td>4E8--zUZO1Rr1IBK4_83fg</td>\n",
       "      <td>Lisa</td>\n",
       "      <td>11</td>\n",
       "      <td>2012-07-16</td>\n",
       "      <td>None</td>\n",
       "      <td>4</td>\n",
       "      <td>0</td>\n",
       "      <td>0</td>\n",
       "      <td>0</td>\n",
       "      <td>None</td>\n",
       "      <td>3.45</td>\n",
       "      <td>0</td>\n",
       "      <td>0</td>\n",
       "      <td>0</td>\n",
       "      <td>0</td>\n",
       "      <td>0</td>\n",
       "      <td>0</td>\n",
       "      <td>0</td>\n",
       "      <td>0</td>\n",
       "      <td>0</td>\n",
       "      <td>1</td>\n",
       "      <td>0</td>\n",
       "    </tr>\n",
       "  </tbody>\n",
       "</table>\n",
       "</div>"
      ],
      "text/plain": [
       "                  user_id    name  review_count yelping_since                                                                                                                                                                                                                                                                                                                                                                                                                                                                                                                                                                                                                                                                                                                                                                                                                                                                                                                                                                                                                                                                                                                                                                                                                                                                                                                                                                                                                                                                                                                                                                                                                                                                                                                                                                                                                                                                                                                                                                 friends  useful  funny  cool  fans elite  average_stars  compliment_hot  compliment_more  compliment_profile  compliment_cute  compliment_list  compliment_note  compliment_plain  compliment_cool  compliment_funny  compliment_writer  compliment_photos\n",
       "0  JJ-aSuM4pCFPdkfoZ34q0Q   Chris            10    2013-09-24  0njfJmB-7n84DlIgUByCNw, rFn3Xe3RqHxRSxWOU19Gpg, HVUAmApa0fCbHHVJ0ALshw, LBOTb6bJjCdFyDLNswUGmA, cy3d0moQOsrhWo6VAyA_kA, XTDeelhFzFX0h_8YELJDIQ, _erxdUfB8yJA_MCDBAaD_w, 3wMYVoHy15nxOCLZYYIhqA, 74C8Mdn3ISlFIwNZQUPEdg, Vc980a_kTQL9tzfG1ESq_g, UPld_8xdzvYmIMA4YxtG0A, ggppqaSt-4E-Y2XUVv6mMw, vILp0ctTM3fX0ucJeBw9Hg, Gl46kwumd4_f102dxgswDw, i9CDu8j-qcUfZYl67WBwiw, 23lcgZUt6dvtMqV_AZe9KQ, zacONW61-GjaCF9h5_icgA, BclKLmGPYlMEVr3OZ_Uuzw, ol00uKESTC5PR_fETT27AA, o7e8zecvSlPNTrPi1ZQLzg, 00JBHX0npVAC-itaFOUhpQ, im3w0wt-ZeE-lDa1zSdyMg, J_hT3mbtiwHIEWjTBSJnzQ, _54jmZK9vr9CN-SUSjFbMg, 65w6GtrNNlZDowVDAYGZFQ, WJeipqBVdQmVhnYrXlLb7A, vAhyONgVtU-oIaSHRJW0IA, Soa5S7dQsSjlG3lbTVGb2A, xtVcWcIKVORcBKhmdbrFiA, 7CghpxENlXnjTGOyNtRDsg, jI5mX0tNR79J_qoFKZMPdA, MFtiq9lbm95WVg501wNsww, SCICexHST-LMCowvH9h7jQ, SD2VfVLfSkz8m18dvo0HGA, Y8TLRIPm_ecnZPItgAJ3Kg, t9bfJI2zvx-3eFrN2zvQnw, 6yUCCifCroUPfXaVo5fCAA, SGDa-z6MmLmNCamviRsdsA, aZiDtUBOMHh19IsShZvqJg, nT9_vJSUk_Tay2Yx84rzCg, M98bD_uUoC0SJ39keA4OQw, hT3kGKYFnLflIifxyeKWwg, loEGz0M-bBf0XnyjrbEvFQ, Als68VuGzyG3rbn7aLkdBQ, X1Rx-CRMt3BjtW10xSb3Lw, svdwrwuL9YHyF3rOgjbB1w, T0jSTc2uvGtzIHZ843FcHQ, XAWO5aDTxo-LTE4jVdBdVg, Q1dLA0wWGO390tH56uKA4Q, -Ty7mzu-bxd4NmEprFXHEA, LQKbKXzjGtRRTK6v00o4gg, BLnaah22WBlLCDwOC7rJ8Q, IWlU5scMqNaKSWO5ovY_iA, kMPSklg0XL9uYeYUgX2oCg, EUH2OBcw32X7wv6Yg4oC_w, Rkm94t2H5p2aPihBzhqP7w, MetDJXD8zSj9J5FqTYB_3Q, TyJ4xokX87KzbNUS8GX85A, t8H01Z2Vx9GNU8uXVKxr2Q, gv28x4ugM5FHGI_Jkky4kg, Y-AnP_QFDcq6B9BoDUUs0A, PXutYstbsqF3kgj6Tuik7Q, G0XMrknewP2Y3iHt84qZiA, gfYOmCKPDni8L3Dd_jibNQ, M9FL-chYhMA4nZpmTbWIZQ, zdahkrcKI1Mdj7H0i6oJcQ, vl3qiO6v4RbFJBpxVREJPw, RzbEU8OO2wbx67v_005Vlg, T1LHbOLMsvSjgqAJXQJwxA, 3na1OAZAe44z06SVPY_gPA, DwOyBVeoiZP7B4ZNkgbVbw, f-ZbVPvuUIuGGE1cGcTRTQ, 6FmeOxLVL0DVr7KHBC1kVA, BjN4WYNWk1t8qipjCqMJfA, 7rwANCcxfWgZ7K3LNBcQlw, 1kZ3jeyfPDAq7t7sIb89yg, TDo7fo6qn8OjokmvyZzPxw, ZJsUtNX4UXrQNL7ddEegUQ, J-sGGuafu3SFAWlw5D0xBw       0      0     0     0  None           3.70               0                0                   0                0                0                0                 0                0                 0                  0                  0\n",
       "1  uUzsFQn_6cXDh6rPNGbIFA   Tiffy             1    2017-03-02                                                                                                                                                                                                                                                                                                                                                                                                                                                                                                                                                                                                                                                                                                                                                                                                                                                                                                                                                                                                                                                                                                                                                                                                                                                                                                                                                                                                                                                                                                                                                                                                                                                                                                                                                                                                                                                                                                                                                                    None       0      0     0     0  None           2.00               0                0                   0                0                0                0                 0                0                 0                  0                  0\n",
       "2  mBneaEEH5EMyxaVyqS-72A    Mark             6    2015-03-13                                                                                                                                                                                                                                                                                                                                                                                                                                                                                                                                                                                                                                                                                                                                                                                                                                                                                                                                                                                                                                                                                                                                                                                                                                                                                                                                                                                                                                                                                                                                                                                                                                                                                                                                                                                                                                                                                                                                                                    None       0      0     0     0  None           4.67               0                0                   0                0                0                0                 0                0                 0                  0                  0\n",
       "3  W5mJGs-dcDWRGEhAzUYtoA  Evelyn             3    2016-09-08                                                                                                                                                                                                                                                                                                                                                                                                                                                                                                                                                                                                                                                                                                                                                                                                                                                                                                                                                                                                                                                                                                                                                                                                                                                                                                                                                                                                                                                                                                                                                                                                                                                                                                                                                                                                                                                                                                                                                                    None       0      0     0     0  None           4.67               0                0                   0                0                0                0                 0                0                 0                  0                  0\n",
       "4  4E8--zUZO1Rr1IBK4_83fg    Lisa            11    2012-07-16                                                                                                                                                                                                                                                                                                                                                                                                                                                                                                                                                                                                                                                                                                                                                                                                                                                                                                                                                                                                                                                                                                                                                                                                                                                                                                                                                                                                                                                                                                                                                                                                                                                                                                                                                                                                                                                                                                                                                                    None       4      0     0     0  None           3.45               0                0                   0                0                0                0                 0                0                 0                  1                  0"
      ]
     },
     "execution_count": 42,
     "metadata": {},
     "output_type": "execute_result"
    }
   ],
   "source": [
    "userDF.head()"
   ]
  },
  {
   "cell_type": "markdown",
   "id": "2b4c36e7",
   "metadata": {},
   "source": [
    "<h2>GraphFrame implementation</h2>\n",
    "<br>\n",
    "GraphFrames will help us quantify the influence each user has, measured by the number of direct and indirect connections they have<br>"
   ]
  },
  {
   "cell_type": "code",
   "execution_count": 53,
   "id": "ae6a1898",
   "metadata": {},
   "outputs": [],
   "source": [
    "edges = []\n",
    "for ind, row in userDF.iterrows():\n",
    "    if row[\"friends\"] != None:\n",
    "        for friend in row[\"friends\"].split():\n",
    "            edges.append((row[\"user_id\"], friend.replace(\",\", \"\"), \"friend\"))"
   ]
  },
  {
   "cell_type": "code",
   "execution_count": null,
   "id": "7383595a",
   "metadata": {},
   "outputs": [],
   "source": [
    "edges_ = spark.createDataFrame(edges, [\"src\", \"dst\", \"relationship\"])"
   ]
  },
  {
   "cell_type": "code",
   "execution_count": null,
   "id": "397c2f5c",
   "metadata": {},
   "outputs": [],
   "source": [
    "verts = []\n",
    "for ind, row in userDF.iterrows():\n",
    "    verts.append((row[\"user_id\"], row[\"name\"], row[\"yelping_since\"]))"
   ]
  },
  {
   "cell_type": "code",
   "execution_count": null,
   "id": "8b2bda58",
   "metadata": {},
   "outputs": [],
   "source": [
    "vertices = spark.createDataFrame(verts, [\"id\", \"name\", \"member_since\"])"
   ]
  },
  {
   "cell_type": "code",
   "execution_count": null,
   "id": "904d9c6d",
   "metadata": {},
   "outputs": [],
   "source": [
    "vertices.show()"
   ]
  },
  {
   "cell_type": "code",
   "execution_count": null,
   "id": "b2c426f2",
   "metadata": {},
   "outputs": [
    {
     "name": "stderr",
     "output_type": "stream",
     "text": [
      "----------------------------------------\n",
      "Exception happened during processing of request from ('127.0.0.1', 62614)\n",
      "Traceback (most recent call last):\n",
      "  File \"/Users/patrickkelly/opt/anaconda3/lib/python3.8/socketserver.py\", line 316, in _handle_request_noblock\n",
      "    self.process_request(request, client_address)\n",
      "  File \"/Users/patrickkelly/opt/anaconda3/lib/python3.8/socketserver.py\", line 347, in process_request\n",
      "    self.finish_request(request, client_address)\n",
      "  File \"/Users/patrickkelly/opt/anaconda3/lib/python3.8/socketserver.py\", line 360, in finish_request\n",
      "    self.RequestHandlerClass(request, client_address, self)\n",
      "  File \"/Users/patrickkelly/opt/anaconda3/lib/python3.8/socketserver.py\", line 720, in __init__\n",
      "    self.handle()\n",
      "  File \"/Users/patrickkelly/opt/anaconda3/lib/python3.8/site-packages/pyspark/accumulators.py\", line 262, in handle\n",
      "    poll(accum_updates)\n",
      "  File \"/Users/patrickkelly/opt/anaconda3/lib/python3.8/site-packages/pyspark/accumulators.py\", line 235, in poll\n",
      "    if func():\n",
      "  File \"/Users/patrickkelly/opt/anaconda3/lib/python3.8/site-packages/pyspark/accumulators.py\", line 239, in accum_updates\n",
      "    num_updates = read_int(self.rfile)\n",
      "  File \"/Users/patrickkelly/opt/anaconda3/lib/python3.8/site-packages/pyspark/serializers.py\", line 564, in read_int\n",
      "    raise EOFError\n",
      "EOFError\n",
      "----------------------------------------\n"
     ]
    }
   ],
   "source": [
    "edges_.show(200)"
   ]
  },
  {
   "cell_type": "code",
   "execution_count": 24,
   "id": "cea92155",
   "metadata": {},
   "outputs": [],
   "source": [
    "g = GraphFrame(vertices, edges_)"
   ]
  },
  {
   "cell_type": "code",
   "execution_count": 25,
   "id": "115b8b27",
   "metadata": {},
   "outputs": [],
   "source": [
    "import networkx as nx\n",
    "from graphframes import GraphFrame\n",
    "\n",
    "def PlotGraph(edge_list, n=20):\n",
    "    Gplot=nx.Graph()\n",
    "    for row in edge_list.select('src','dst').take(n):\n",
    "        Gplot.add_edge(row['src'],row['dst'])\n",
    "\n",
    "    #plt.subplot(121)\n",
    "    nx.draw(Gplot, with_labels=True)"
   ]
  },
  {
   "cell_type": "code",
   "execution_count": 52,
   "id": "64ad5758",
   "metadata": {
    "scrolled": true
   },
   "outputs": [],
   "source": [
    "PlotGraph(edges_, n=20)"
   ]
  },
  {
   "cell_type": "code",
   "execution_count": 27,
   "id": "c4cc3bbc",
   "metadata": {},
   "outputs": [],
   "source": [
    "# Run PageRank\n",
    "results = g.pageRank(resetProbability=0.15, maxIter=10)"
   ]
  },
  {
   "cell_type": "code",
   "execution_count": 29,
   "id": "bffb38c2",
   "metadata": {},
   "outputs": [
    {
     "name": "stdout",
     "output_type": "stream",
     "text": [
      "+--------------------+------------------+--------+------------+\n",
      "|                  id|          pagerank|    name|member_since|\n",
      "+--------------------+------------------+--------+------------+\n",
      "|JJ-aSuM4pCFPdkfoZ...|1.0000000000000002|   Chris|  2013-09-24|\n",
      "|uUzsFQn_6cXDh6rPN...|1.0000000000000002|   Tiffy|  2017-03-02|\n",
      "|mBneaEEH5EMyxaVyq...|1.0000000000000002|    Mark|  2015-03-13|\n",
      "|W5mJGs-dcDWRGEhAz...|1.0000000000000002|  Evelyn|  2016-09-08|\n",
      "|4E8--zUZO1Rr1IBK4...|1.0000000000000002|    Lisa|  2012-07-16|\n",
      "|Ob-2oGBQ7rwwYwUvh...|1.0000000000000002|       B|  2012-05-01|\n",
      "|JaTVvKsBl0bHHJEpE...|1.0000000000000002|   Peter|  2013-03-23|\n",
      "|Ykj0DVsz0c6rX9ghj...|1.0000000000000002| Colleen|  2010-10-10|\n",
      "|kmyEPfKnHQJdTceCd...|1.0000000000000002|       A|  2012-10-16|\n",
      "|H54pA7YHfjl8IjhHA...|1.0000000000000002|    Chad|  2010-06-25|\n",
      "|WRae-wZkpRoxMrgJd...|1.0000000000000002|    Mike|  2017-11-29|\n",
      "|Mmv5fPxbF8XEMN4EP...|1.0000000000000002|   Chris|  2016-06-24|\n",
      "|moJE85Sfg7Itd3-iI...|1.0000000000000002|    Alan|  2013-07-10|\n",
      "|tkqAUCre66jVB9BbT...|1.0000000000000002|Hers And|  2016-03-20|\n",
      "|y3ONpOBwpnXb57QNl...|1.0000000000000002| Cynthia|  2016-12-06|\n",
      "|PASVfluTGQC5vpjdl...|1.0000000000000002|   Brian|  2014-11-14|\n",
      "|bOJZW_hvGkVEIQVwh...|1.0000000000000002|  Justin|  2013-12-07|\n",
      "|LLb4Y_gVVtE38ymLy...|1.0000000000000002|   Lesya|  2013-08-02|\n",
      "|rH53dcL7YKjbztjyA...|1.0000000000000002| Juliana|  2017-07-30|\n",
      "|ddhNJ-nbjwjHoSth6...|1.0000000000000002|    Ryan|  2014-02-23|\n",
      "+--------------------+------------------+--------+------------+\n",
      "only showing top 20 rows\n",
      "\n"
     ]
    }
   ],
   "source": [
    "results.vertices.select(\"id\", \"pagerank\")\\\n",
    ".join(vertices, on=\"id\").orderBy(\"pagerank\", ascending=False)\\\n",
    ".show(20)"
   ]
  },
  {
   "cell_type": "code",
   "execution_count": 30,
   "id": "5a37234c",
   "metadata": {},
   "outputs": [],
   "source": [
    "# Run triangleCount \n",
    "results = g.triangleCount()"
   ]
  },
  {
   "cell_type": "code",
   "execution_count": 33,
   "id": "f7b879f9",
   "metadata": {},
   "outputs": [
    {
     "name": "stdout",
     "output_type": "stream",
     "text": [
      "+--------------------+-----+\n",
      "|                  id|count|\n",
      "+--------------------+-----+\n",
      "|kmyEPfKnHQJdTceCd...|    0|\n",
      "|W5mJGs-dcDWRGEhAz...|    0|\n",
      "|Mmv5fPxbF8XEMN4EP...|    0|\n",
      "|JJ-aSuM4pCFPdkfoZ...|    0|\n",
      "|mBneaEEH5EMyxaVyq...|    0|\n",
      "|4E8--zUZO1Rr1IBK4...|    0|\n",
      "|Ykj0DVsz0c6rX9ghj...|    0|\n",
      "|H54pA7YHfjl8IjhHA...|    0|\n",
      "|WRae-wZkpRoxMrgJd...|    0|\n",
      "|JaTVvKsBl0bHHJEpE...|    0|\n",
      "|uUzsFQn_6cXDh6rPN...|    0|\n",
      "|Ob-2oGBQ7rwwYwUvh...|    0|\n",
      "|V--GjQPlTpeWbcB2c...|    0|\n",
      "|LdqGHXsNQowMrvgTN...|    0|\n",
      "|jYnkJR3T8yCERXywo...|    0|\n",
      "|TsgBsn19Wjwpyo81g...|    0|\n",
      "|GMGZsk1dj043UI3zW...|    0|\n",
      "|h5ERTYn2vQ1QbjTZv...|    0|\n",
      "|eMBV7FugCJq7FIvGh...|    0|\n",
      "|bsRNTZ1osSKjuGpHB...|    0|\n",
      "+--------------------+-----+\n",
      "only showing top 20 rows\n",
      "\n"
     ]
    }
   ],
   "source": [
    "results.select(\"id\", \"count\").show(20)"
   ]
  },
  {
   "cell_type": "markdown",
   "id": "39c70009",
   "metadata": {},
   "source": [
    "<h2>Sentiment Analysis</h2>"
   ]
  },
  {
   "cell_type": "code",
   "execution_count": 18,
   "id": "ec037e28",
   "metadata": {},
   "outputs": [
    {
     "name": "stderr",
     "output_type": "stream",
     "text": [
      "[nltk_data] Downloading package stopwords to\n",
      "[nltk_data]     /Users/patrickkelly/nltk_data...\n",
      "[nltk_data]   Package stopwords is already up-to-date!\n"
     ]
    }
   ],
   "source": [
    "import nltk\n",
    "nltk.download('stopwords')\n",
    "from nltk.corpus import stopwords\n",
    "from sklearn.feature_extraction.text import CountVectorizer\n",
    "from sklearn.model_selection import train_test_split\n",
    "import regex as re\n",
    "import string\n",
    "from nltk.stem import WordNetLemmatizer\n",
    "from sklearn.feature_extraction.text import TfidfVectorizer"
   ]
  },
  {
   "cell_type": "code",
   "execution_count": 51,
   "id": "5e1a939b",
   "metadata": {},
   "outputs": [],
   "source": [
    "X = reviewDF.loc[:, [\"text\", \"stars\"]]\n",
    "X = X.dropna(subset = ['text', 'stars']) \n",
    "X = X[(X[\"stars\"]==1)  | (X[\"stars\"]==5)]\n",
    "\n",
    "index = []\n",
    "for ind, row in X.iterrows():\n",
    "    try:\n",
    "        int(row[\"stars\"])\n",
    "        index.append(ind)\n",
    "    except:\n",
    "        pass\n",
    "    \n",
    "X = X.loc[index, :]\n",
    "X.reset_index(inplace=True, drop=True)\n",
    "y = X['stars']"
   ]
  },
  {
   "cell_type": "code",
   "execution_count": 9,
   "id": "4334516b",
   "metadata": {},
   "outputs": [],
   "source": [
    "def preprocessing(row):\n",
    "    if row[\"text\"] != None:\n",
    "        text = row[\"text\"]\n",
    "        text = text.lower()\n",
    "        regex = re.compile('[%s]' % re.escape(string.punctuation))\n",
    "        text = regex.sub(' ', text)\n",
    "\n",
    "        # remove remaining tokens that are not alphabetic\n",
    "        text = text.split(' ')\n",
    "        text = [word for word in text if word.isalpha()]\n",
    "\n",
    "        # remove stop words\n",
    "        stop = stopwords.words('english')\n",
    "        text = [x for x in text if x not in stop]\n",
    "        lemmatizer = WordNetLemmatizer()\n",
    "        stemmed_text = []\n",
    "        for word in text:\n",
    "            stemmed_text.append(lemmatizer.lemmatize(word))\n",
    "\n",
    "        text = \" \".join(stemmed_text)\n",
    "        row['text'] = text\n",
    "    else:\n",
    "        pass\n",
    "    return row"
   ]
  },
  {
   "cell_type": "code",
   "execution_count": 10,
   "id": "ad06a33c",
   "metadata": {},
   "outputs": [],
   "source": [
    "def extract_features(training_data):\n",
    "    # TF-IDF BASED FEATURE REPRESENTATION\n",
    "    cv=TfidfVectorizer(min_df=2, ngram_range=(1, 2), stop_words='english', max_features= 10000,strip_accents='unicode', norm='l2')\n",
    "\n",
    "    cv.fit_transform(training_data[\"text\"].values)\n",
    "\n",
    "    train_feature_set=cv.transform(training_data[\"text\"].values)\n",
    "\n",
    "    return train_feature_set"
   ]
  },
  {
   "cell_type": "code",
   "execution_count": 11,
   "id": "7f0ed8f7",
   "metadata": {},
   "outputs": [],
   "source": [
    "X = X.apply(preprocessing, axis=1)\n",
    "X = extract_features(X)"
   ]
  },
  {
   "cell_type": "code",
   "execution_count": 12,
   "id": "e8532126",
   "metadata": {},
   "outputs": [],
   "source": [
    "X_train, X_test, y_train, y_test = train_test_split(X, y, test_size=0.2, random_state=42)"
   ]
  },
  {
   "cell_type": "code",
   "execution_count": 13,
   "id": "f8120cf5",
   "metadata": {},
   "outputs": [
    {
     "name": "stdout",
     "output_type": "stream",
     "text": [
      "[[1 0]\n",
      " [1 1]]\n",
      "\n",
      "\n",
      "              precision    recall  f1-score   support\n",
      "\n",
      "           1       0.50      1.00      0.67         1\n",
      "           5       1.00      0.50      0.67         2\n",
      "\n",
      "    accuracy                           0.67         3\n",
      "   macro avg       0.75      0.75      0.67         3\n",
      "weighted avg       0.83      0.67      0.67         3\n",
      "\n"
     ]
    }
   ],
   "source": [
    "from sklearn.naive_bayes import MultinomialNB\n",
    "nb = MultinomialNB()\n",
    "nb.fit(X_train, y_train.to_numpy())\n",
    "\n",
    "#Testing our model\n",
    "nb_predict = nb.predict(X_test)\n",
    "\n",
    "#Creating the confusion matrix\n",
    "from sklearn.metrics import confusion_matrix, classification_report\n",
    "print(confusion_matrix(y_test.to_numpy(), nb_predict))\n",
    "\n",
    "print('\\n')\n",
    "\n",
    "#Creating the classification report\n",
    "print(classification_report(y_test.to_numpy(), nb_predict)) "
   ]
  },
  {
   "cell_type": "markdown",
   "id": "2bd15f4a",
   "metadata": {},
   "source": [
    "## Spark MLlib"
   ]
  },
  {
   "cell_type": "code",
   "execution_count": 32,
   "id": "568af678",
   "metadata": {},
   "outputs": [],
   "source": [
    "df = spark.read.option(\"escape\",\"\\\"\").csv('yelp-dataset/yelp_review.csv', sep=',', multiLine = True, header = True).limit(1000000)"
   ]
  },
  {
   "cell_type": "code",
   "execution_count": 35,
   "id": "b4526603",
   "metadata": {},
   "outputs": [],
   "source": [
    "from pyspark.sql.functions import udf\n",
    "from pyspark.sql.types import StringType\n",
    "\n",
    "import string\n",
    "import re\n",
    "\n",
    "# remove non ASCII characters\n",
    "def strip_non_ascii(data_str):\n",
    "    stripped = (c for c in data_str if 0 < ord(c) < 127)\n",
    "    return ''.join(stripped)\n",
    "\n",
    "strip_non_ascii_udf = udf(strip_non_ascii, StringType())"
   ]
  },
  {
   "cell_type": "code",
   "execution_count": 36,
   "id": "0cf1112d",
   "metadata": {},
   "outputs": [
    {
     "name": "stdout",
     "output_type": "stream",
     "text": [
      "+--------------------+--------------------+--------------------+-----+----------+--------------------+------+-----+----+--------------------+\n",
      "|           review_id|             user_id|         business_id|stars|      date|                text|useful|funny|cool|       text_stripped|\n",
      "+--------------------+--------------------+--------------------+-----+----------+--------------------+------+-----+----+--------------------+\n",
      "|vkVSCC7xljjrAI4UG...|bv2nCi5Qv5vroFiqK...|AEx2SYEUJmTxVVB18...|    5|2016-05-28|Super simple plac...|     0|    0|   0|Super simple plac...|\n",
      "|n6QzIUObkYshz4dz2...|bv2nCi5Qv5vroFiqK...|VR6GpWIda3SfvPC-l...|    5|2016-05-28|Small unassuming ...|     0|    0|   0|Small unassuming ...|\n",
      "|MV3CcKScW05u5LVfF...|bv2nCi5Qv5vroFiqK...|CKC0-MOWMqoeWf6s-...|    5|2016-05-28|Lester's is locat...|     0|    0|   0|Lester's is locat...|\n",
      "|IXvOzsEMYtiJI0CAR...|bv2nCi5Qv5vroFiqK...|ACFtxLv8pGrrxMm6E...|    4|2016-05-28|Love coming here....|     0|    0|   0|Love coming here....|\n",
      "|L_9BTb55X0GDtThi6...|bv2nCi5Qv5vroFiqK...|s2I_Ni76bjJNK9yG6...|    4|2016-05-28|Had their chocola...|     0|    0|   0|Had their chocola...|\n",
      "+--------------------+--------------------+--------------------+-----+----------+--------------------+------+-----+----+--------------------+\n",
      "only showing top 5 rows\n",
      "\n"
     ]
    }
   ],
   "source": [
    "df = df.withColumn('text_stripped',strip_non_ascii_udf(df['text']))\n",
    "df.show(5)"
   ]
  },
  {
   "cell_type": "code",
   "execution_count": 37,
   "id": "833fb65d",
   "metadata": {},
   "outputs": [],
   "source": [
    "def preprocessing(text):\n",
    "    text = text.lower()\n",
    "    regex = re.compile('[%s]' % re.escape(string.punctuation))\n",
    "    text = regex.sub(' ', text)\n",
    "\n",
    "    # remove remaining tokens that are not alphabetic\n",
    "    text = text.split(' ')\n",
    "    text = [word for word in text if word.isalpha()]\n",
    "\n",
    "    # remove stop words\n",
    "    stop = stopwords.words('english')\n",
    "    text = [x for x in text if x not in stop]\n",
    "    lemmatizer = WordNetLemmatizer()\n",
    "    stemmed_text = []\n",
    "    for word in text:\n",
    "        stemmed_text.append(lemmatizer.lemmatize(word))\n",
    "\n",
    "    text = \" \".join(stemmed_text)\n",
    "    \n",
    "    return text\n",
    "preprocessing_udf = udf(preprocessing, StringType())"
   ]
  },
  {
   "cell_type": "code",
   "execution_count": 38,
   "id": "85e80d60",
   "metadata": {},
   "outputs": [
    {
     "name": "stdout",
     "output_type": "stream",
     "text": [
      "+--------------------+--------------------+--------------------+-----+----------+--------------------+------+-----+----+--------------------+--------------------+\n",
      "|           review_id|             user_id|         business_id|stars|      date|                text|useful|funny|cool|       text_stripped|          text_clean|\n",
      "+--------------------+--------------------+--------------------+-----+----------+--------------------+------+-----+----+--------------------+--------------------+\n",
      "|vkVSCC7xljjrAI4UG...|bv2nCi5Qv5vroFiqK...|AEx2SYEUJmTxVVB18...|    5|2016-05-28|Super simple plac...|     0|    0|   0|Super simple plac...|super simple plac...|\n",
      "|n6QzIUObkYshz4dz2...|bv2nCi5Qv5vroFiqK...|VR6GpWIda3SfvPC-l...|    5|2016-05-28|Small unassuming ...|     0|    0|   0|Small unassuming ...|small unassuming ...|\n",
      "|MV3CcKScW05u5LVfF...|bv2nCi5Qv5vroFiqK...|CKC0-MOWMqoeWf6s-...|    5|2016-05-28|Lester's is locat...|     0|    0|   0|Lester's is locat...|lester located be...|\n",
      "|IXvOzsEMYtiJI0CAR...|bv2nCi5Qv5vroFiqK...|ACFtxLv8pGrrxMm6E...|    4|2016-05-28|Love coming here....|     0|    0|   0|Love coming here....|love coming yes p...|\n",
      "|L_9BTb55X0GDtThi6...|bv2nCi5Qv5vroFiqK...|s2I_Ni76bjJNK9yG6...|    4|2016-05-28|Had their chocola...|     0|    0|   0|Had their chocola...|chocolate almond ...|\n",
      "+--------------------+--------------------+--------------------+-----+----------+--------------------+------+-----+----+--------------------+--------------------+\n",
      "only showing top 5 rows\n",
      "\n"
     ]
    }
   ],
   "source": [
    "df = df.withColumn('text_clean', preprocessing_udf(df['text_stripped']))\n",
    "df.show(5)"
   ]
  },
  {
   "cell_type": "code",
   "execution_count": 40,
   "id": "3bfffc05",
   "metadata": {},
   "outputs": [],
   "source": [
    "from pyspark.sql.types import FloatType\n",
    "\n",
    "from textblob import TextBlob\n",
    "\n",
    "def sentiment_analysis(text):\n",
    "    return TextBlob(text).sentiment.polarity\n",
    "\n",
    "sentiment_analysis_udf = udf(sentiment_analysis , FloatType())"
   ]
  },
  {
   "cell_type": "code",
   "execution_count": 41,
   "id": "02c4774a",
   "metadata": {},
   "outputs": [
    {
     "name": "stdout",
     "output_type": "stream",
     "text": [
      "+--------------------+--------------------+--------------------+-----+----------+--------------------+------+-----+----+--------------------+--------------------+---------------+\n",
      "|           review_id|             user_id|         business_id|stars|      date|                text|useful|funny|cool|       text_stripped|          text_clean|sentiment_score|\n",
      "+--------------------+--------------------+--------------------+-----+----------+--------------------+------+-----+----+--------------------+--------------------+---------------+\n",
      "|vkVSCC7xljjrAI4UG...|bv2nCi5Qv5vroFiqK...|AEx2SYEUJmTxVVB18...|    5|2016-05-28|Super simple plac...|     0|    0|   0|Super simple plac...|super simple plac...|     0.32708332|\n",
      "|n6QzIUObkYshz4dz2...|bv2nCi5Qv5vroFiqK...|VR6GpWIda3SfvPC-l...|    5|2016-05-28|Small unassuming ...|     0|    0|   0|Small unassuming ...|small unassuming ...|     0.32083333|\n",
      "|MV3CcKScW05u5LVfF...|bv2nCi5Qv5vroFiqK...|CKC0-MOWMqoeWf6s-...|    5|2016-05-28|Lester's is locat...|     0|    0|   0|Lester's is locat...|lester located be...|          0.425|\n",
      "|IXvOzsEMYtiJI0CAR...|bv2nCi5Qv5vroFiqK...|ACFtxLv8pGrrxMm6E...|    4|2016-05-28|Love coming here....|     0|    0|   0|Love coming here....|love coming yes p...|        0.00625|\n",
      "|L_9BTb55X0GDtThi6...|bv2nCi5Qv5vroFiqK...|s2I_Ni76bjJNK9yG6...|    4|2016-05-28|Had their chocola...|     0|    0|   0|Had their chocola...|chocolate almond ...|            0.5|\n",
      "+--------------------+--------------------+--------------------+-----+----------+--------------------+------+-----+----+--------------------+--------------------+---------------+\n",
      "only showing top 5 rows\n",
      "\n"
     ]
    }
   ],
   "source": [
    "df  = df.withColumn(\"sentiment_score\", sentiment_analysis_udf(df['text_clean'] ))\n",
    "df.show(5)"
   ]
  },
  {
   "cell_type": "code",
   "execution_count": 42,
   "id": "734eec57",
   "metadata": {},
   "outputs": [],
   "source": [
    "def condition(r):\n",
    "    if (r >=0.1):\n",
    "        label = \"positive\"\n",
    "    elif(r <= -0.1):\n",
    "        label = \"negative\"\n",
    "    else:\n",
    "        label = \"neutral\"\n",
    "    return label\n",
    "\n",
    "sentiment_udf = udf(lambda x: condition(x), StringType())"
   ]
  },
  {
   "cell_type": "code",
   "execution_count": 43,
   "id": "72c695eb",
   "metadata": {},
   "outputs": [
    {
     "name": "stdout",
     "output_type": "stream",
     "text": [
      "+--------------------+--------------------+--------------------+-----+----------+--------------------+------+-----+----+--------------------+--------------------+---------------+---------------+\n",
      "|           review_id|             user_id|         business_id|stars|      date|                text|useful|funny|cool|       text_stripped|          text_clean|sentiment_score|sentiment_label|\n",
      "+--------------------+--------------------+--------------------+-----+----------+--------------------+------+-----+----+--------------------+--------------------+---------------+---------------+\n",
      "|vkVSCC7xljjrAI4UG...|bv2nCi5Qv5vroFiqK...|AEx2SYEUJmTxVVB18...|    5|2016-05-28|Super simple plac...|     0|    0|   0|Super simple plac...|super simple plac...|     0.32708332|       positive|\n",
      "|n6QzIUObkYshz4dz2...|bv2nCi5Qv5vroFiqK...|VR6GpWIda3SfvPC-l...|    5|2016-05-28|Small unassuming ...|     0|    0|   0|Small unassuming ...|small unassuming ...|     0.32083333|       positive|\n",
      "|MV3CcKScW05u5LVfF...|bv2nCi5Qv5vroFiqK...|CKC0-MOWMqoeWf6s-...|    5|2016-05-28|Lester's is locat...|     0|    0|   0|Lester's is locat...|lester located be...|          0.425|       positive|\n",
      "|IXvOzsEMYtiJI0CAR...|bv2nCi5Qv5vroFiqK...|ACFtxLv8pGrrxMm6E...|    4|2016-05-28|Love coming here....|     0|    0|   0|Love coming here....|love coming yes p...|        0.00625|        neutral|\n",
      "|L_9BTb55X0GDtThi6...|bv2nCi5Qv5vroFiqK...|s2I_Ni76bjJNK9yG6...|    4|2016-05-28|Had their chocola...|     0|    0|   0|Had their chocola...|chocolate almond ...|            0.5|       positive|\n",
      "+--------------------+--------------------+--------------------+-----+----------+--------------------+------+-----+----+--------------------+--------------------+---------------+---------------+\n",
      "only showing top 5 rows\n",
      "\n"
     ]
    }
   ],
   "source": [
    "df  = df.withColumn(\"sentiment_label\", sentiment_udf(df['sentiment_score'] ))\n",
    "df.show(5)"
   ]
  },
  {
   "cell_type": "code",
   "execution_count": 44,
   "id": "81b64ac3",
   "metadata": {},
   "outputs": [
    {
     "name": "stdout",
     "output_type": "stream",
     "text": [
      "+---------------+------+\n",
      "|sentiment_label| count|\n",
      "+---------------+------+\n",
      "|       positive|766125|\n",
      "|        neutral|173140|\n",
      "|       negative| 60735|\n",
      "+---------------+------+\n",
      "\n"
     ]
    }
   ],
   "source": [
    "df.groupBy(\"sentiment_label\").count().show()"
   ]
  },
  {
   "cell_type": "code",
   "execution_count": 50,
   "id": "242cc2c5",
   "metadata": {},
   "outputs": [
    {
     "name": "stdout",
     "output_type": "stream",
     "text": [
      "+---------------+-----+\n",
      "|sentiment_label|stars|\n",
      "+---------------+-----+\n",
      "|       positive|    5|\n",
      "|       positive|    5|\n",
      "|       positive|    5|\n",
      "|        neutral|    4|\n",
      "|       positive|    4|\n",
      "|        neutral|    5|\n",
      "|        neutral|    4|\n",
      "|       positive|    4|\n",
      "|       positive|    3|\n",
      "|       positive|    5|\n",
      "|        neutral|    4|\n",
      "|       negative|    3|\n",
      "|       positive|    1|\n",
      "|       positive|    3|\n",
      "|       positive|    5|\n",
      "|       positive|    4|\n",
      "|        neutral|    1|\n",
      "|       positive|    3|\n",
      "|       positive|    3|\n",
      "|        neutral|    1|\n",
      "|       positive|    3|\n",
      "|        neutral|    4|\n",
      "|        neutral|    3|\n",
      "|       positive|    1|\n",
      "|       negative|    3|\n",
      "|        neutral|    3|\n",
      "|       positive|    2|\n",
      "|       positive|    5|\n",
      "|       positive|    3|\n",
      "|       positive|    4|\n",
      "|       positive|    4|\n",
      "|       negative|    1|\n",
      "|        neutral|    4|\n",
      "|       positive|    4|\n",
      "|        neutral|    4|\n",
      "|        neutral|    5|\n",
      "|       positive|    4|\n",
      "|       positive|    4|\n",
      "|        neutral|    4|\n",
      "|       positive|    4|\n",
      "|       positive|    2|\n",
      "|       positive|    4|\n",
      "|       positive|    4|\n",
      "|        neutral|    1|\n",
      "|       negative|    1|\n",
      "|       positive|    4|\n",
      "|       positive|    4|\n",
      "|       positive|    4|\n",
      "|       positive|    4|\n",
      "|       positive|    4|\n",
      "|       positive|    3|\n",
      "|       positive|    4|\n",
      "|       positive|    4|\n",
      "|       positive|    2|\n",
      "|       positive|    3|\n",
      "|       positive|    4|\n",
      "|       positive|    4|\n",
      "|       positive|    4|\n",
      "|        neutral|    2|\n",
      "|       positive|    4|\n",
      "|        neutral|    1|\n",
      "|       positive|    1|\n",
      "|       positive|    3|\n",
      "|        neutral|    3|\n",
      "|       positive|    2|\n",
      "|        neutral|    5|\n",
      "|       positive|    4|\n",
      "|       positive|    4|\n",
      "|        neutral|    3|\n",
      "|       positive|    3|\n",
      "|       positive|    3|\n",
      "|       negative|    4|\n",
      "|       positive|    4|\n",
      "|       negative|    1|\n",
      "|       positive|    4|\n",
      "|       positive|    2|\n",
      "|       negative|    3|\n",
      "|       positive|    4|\n",
      "|       positive|    3|\n",
      "|       positive|    3|\n",
      "|        neutral|    4|\n",
      "|        neutral|    1|\n",
      "|       positive|    4|\n",
      "|       positive|    4|\n",
      "|        neutral|    4|\n",
      "|       positive|    4|\n",
      "|       positive|    5|\n",
      "|        neutral|    1|\n",
      "|       negative|    4|\n",
      "|       positive|    4|\n",
      "|       positive|    4|\n",
      "|       positive|    5|\n",
      "|       positive|    5|\n",
      "|        neutral|    1|\n",
      "|       negative|    1|\n",
      "|        neutral|    1|\n",
      "|       positive|    1|\n",
      "|        neutral|    4|\n",
      "|        neutral|    1|\n",
      "|       positive|    2|\n",
      "+---------------+-----+\n",
      "only showing top 100 rows\n",
      "\n"
     ]
    }
   ],
   "source": [
    "df.select([\"sentiment_label\", \"stars\"]).show(100)"
   ]
  },
  {
   "cell_type": "code",
   "execution_count": 46,
   "id": "f3d5e226",
   "metadata": {},
   "outputs": [],
   "source": [
    "sent_label = df.groupBy(\"sentiment_label\").count().toPandas()"
   ]
  },
  {
   "cell_type": "code",
   "execution_count": 47,
   "id": "e69e5bf9",
   "metadata": {},
   "outputs": [],
   "source": [
    "import matplotlib.pyplot as plt"
   ]
  },
  {
   "cell_type": "code",
   "execution_count": 49,
   "id": "ef26be96",
   "metadata": {},
   "outputs": [
    {
     "data": {
      "image/png": "[encoded data removed]",
      "text/plain": [
       "<Figure size 432x288 with 1 Axes>"
      ]
     },
     "metadata": {
      "needs_background": "light"
     },
     "output_type": "display_data"
    }
   ],
   "source": [
    "plt.bar(sent_label[\"sentiment_label\"], sent_label['count'], color='lightcoral')\n",
    "plt.xlabel('Sentiment Label')\n",
    "plt.ylabel('Sentiment Count')\n",
    "plt.xticks(rotation=45)\n",
    "plt.title('Sentiment Analysis')\n",
    "plt.savefig('sentimentAnalysis.png',dpi=300, bbox_inches = \"tight\")\n",
    "plt.show()"
   ]
  },
  {
   "cell_type": "markdown",
   "id": "aee69570",
   "metadata": {},
   "source": [
    "### Using Spark ML features to calculate features and train a LR"
   ]
  },
  {
   "cell_type": "code",
   "execution_count": 70,
   "id": "68982cff",
   "metadata": {},
   "outputs": [
    {
     "data": {
      "text/plain": [
       "DataFrame[review_id: string, user_id: string, business_id: string, stars: string, date: string, text: string, useful: string, funny: string, cool: string, text_clean: string, sentiment_score: float, sentiment_label: string, text_clean_2: string]"
      ]
     },
     "execution_count": 70,
     "metadata": {},
     "output_type": "execute_result"
    }
   ],
   "source": [
    "df"
   ]
  },
  {
   "cell_type": "code",
   "execution_count": 72,
   "id": "794b926d",
   "metadata": {},
   "outputs": [
    {
     "name": "stdout",
     "output_type": "stream",
     "text": [
      "+--------------------+--------------------+--------------------+-----+----------+--------------------+------+-----+----+--------------------+---------------+---------------+--------------------+--------------------+--------------------+--------------------+-----+\n",
      "|           review_id|             user_id|         business_id|stars|      date|                text|useful|funny|cool|          text_clean|sentiment_score|sentiment_label|        text_clean_2|               words|                  tf|            features|label|\n",
      "+--------------------+--------------------+--------------------+-----+----------+--------------------+------+-----+----+--------------------+---------------+---------------+--------------------+--------------------+--------------------+--------------------+-----+\n",
      "|vkVSCC7xljjrAI4UG...|bv2nCi5Qv5vroFiqK...|AEx2SYEUJmTxVVB18...|    5|2016-05-28|Super simple plac...|     0|    0|   0|Super simple plac...|     0.25138888|       positive|super simple plac...|[super, simple, p...|(65536,[2860,4019...|(65536,[2860,4019...|  3.0|\n",
      "|n6QzIUObkYshz4dz2...|bv2nCi5Qv5vroFiqK...|VR6GpWIda3SfvPC-l...|    5|2016-05-28|Small unassuming ...|     0|    0|   0|Small unassuming ...|     0.29166666|       positive|small unassuming ...|[small, unassumin...|(65536,[835,1880,...|(65536,[835,1880,...|  3.0|\n",
      "|MV3CcKScW05u5LVfF...|bv2nCi5Qv5vroFiqK...|CKC0-MOWMqoeWf6s-...|    5|2016-05-28|Lester's is locat...|     0|    0|   0|Lester's is locat...|     0.29583332|       positive|lester located be...|[lester's, is, lo...|(65536,[1714,1981...|(65536,[1714,1981...|  3.0|\n",
      "|IXvOzsEMYtiJI0CAR...|bv2nCi5Qv5vroFiqK...|ACFtxLv8pGrrxMm6E...|    4|2016-05-28|Love coming here....|     0|    0|   0|Love coming here....|     0.19285715|       positive|love coming yes p...|[love, coming, he...|(65536,[835,1508,...|(65536,[835,1508,...|  0.0|\n",
      "|L_9BTb55X0GDtThi6...|bv2nCi5Qv5vroFiqK...|s2I_Ni76bjJNK9yG6...|    4|2016-05-28|Had their chocola...|     0|    0|   0|Had their chocola...|           0.53|       positive|chocolate almond ...|[had, their, choc...|(65536,[835,3848,...|(65536,[835,3848,...|  0.0|\n",
      "+--------------------+--------------------+--------------------+-----+----------+--------------------+------+-----+----+--------------------+---------------+---------------+--------------------+--------------------+--------------------+--------------------+-----+\n",
      "only showing top 5 rows\n",
      "\n"
     ]
    },
    {
     "data": {
      "text/plain": [
       "'\\nfrom pyspark.ml.classification import LogisticRegression\\nlr = LogisticRegression(maxIter=10)\\nlrModel = lr.fit(train_df)\\npredictions = lrModel.transform(val_df)\\nfrom pyspark.ml.evaluation import BinaryClassificationEvaluator\\nevaluator = BinaryClassificationEvaluator(rawPredictionCol=\"rawPrediction\")\\nevaluator.evaluate(predictions)\\n\\naccuracy = predictions.filter(predictions.label == predictions.prediction).count() / float(val_set.count())\\naccuracy'"
      ]
     },
     "execution_count": 72,
     "metadata": {},
     "output_type": "execute_result"
    }
   ],
   "source": [
    "from pyspark.ml.feature import HashingTF, IDF, Tokenizer\n",
    "from pyspark.ml.feature import StringIndexer\n",
    "from pyspark.ml import Pipeline\n",
    "\n",
    "tokenizer = Tokenizer(inputCol=\"text\", outputCol=\"words\")\n",
    "hashtf = HashingTF(numFeatures=2**16, inputCol=\"words\", outputCol='tf')\n",
    "idf = IDF(inputCol='tf', outputCol=\"features\")\n",
    "label_stringIdx = StringIndexer(inputCol = \"stars\", outputCol = \"label\")\n",
    "pipeline = Pipeline(stages=[tokenizer, hashtf, idf, label_stringIdx])\n",
    "\n",
    "pipelineFit = pipeline.fit(df)\n",
    "train_df = pipelineFit.transform(df)\n",
    "train_df.show(5)\n",
    "\"\"\"\n",
    "from pyspark.ml.classification import LogisticRegression\n",
    "lr = LogisticRegression(maxIter=10)\n",
    "lrModel = lr.fit(train_df)\n",
    "predictions = lrModel.transform(val_df)\n",
    "from pyspark.ml.evaluation import BinaryClassificationEvaluator\n",
    "evaluator = BinaryClassificationEvaluator(rawPredictionCol=\"rawPrediction\")\n",
    "evaluator.evaluate(predictions)\n",
    "\n",
    "accuracy = predictions.filter(predictions.label == predictions.prediction).count() / float(val_set.count())\n",
    "accuracy\"\"\""
   ]
  },
  {
   "cell_type": "markdown",
   "id": "53993a83",
   "metadata": {},
   "source": [
    "### Somesh - PageRank"
   ]
  },
  {
   "cell_type": "code",
   "execution_count": 64,
   "id": "4d51dd6b",
   "metadata": {},
   "outputs": [],
   "source": [
    "reviewDF_S = pd.read_csv(\"C:/Users/chrsi/Desktop/GSU/000_Classes/Spring 2022/02_Scalable Data Analytics/Project/01_Data/yelp_review.csv\", nrows=1000000)\n",
    "businessDF_S = pd.read_csv(\"C:/Users/chrsi/Desktop/GSU/000_Classes/Spring 2022/02_Scalable Data Analytics/Project/01_Data/yelp_business.csv\", nrows=1000000)"
   ]
  },
  {
   "cell_type": "code",
   "execution_count": 65,
   "id": "730cb066",
   "metadata": {},
   "outputs": [],
   "source": [
    "vert = pd.merge(left = reviewDF_S[['user_id','business_id']], right = businessDF_S['name'] ,left_on = reviewDF_S['business_id'], right_on = businessDF_S['business_id'])"
   ]
  },
  {
   "cell_type": "code",
   "execution_count": 66,
   "id": "90e53c7f",
   "metadata": {},
   "outputs": [
    {
     "data": {
      "text/html": [
       "<div>\n",
       "<style scoped>\n",
       "    .dataframe tbody tr th:only-of-type {\n",
       "        vertical-align: middle;\n",
       "    }\n",
       "\n",
       "    .dataframe tbody tr th {\n",
       "        vertical-align: top;\n",
       "    }\n",
       "\n",
       "    .dataframe thead th {\n",
       "        text-align: right;\n",
       "    }\n",
       "</style>\n",
       "<table border=\"1\" class=\"dataframe\">\n",
       "  <thead>\n",
       "    <tr style=\"text-align: right;\">\n",
       "      <th></th>\n",
       "      <th>key_0</th>\n",
       "      <th>user_id</th>\n",
       "      <th>business_id</th>\n",
       "      <th>name</th>\n",
       "    </tr>\n",
       "  </thead>\n",
       "  <tbody>\n",
       "    <tr>\n",
       "      <th>0</th>\n",
       "      <td>AEx2SYEUJmTxVVB18LlCwA</td>\n",
       "      <td>bv2nCi5Qv5vroFiqKGopiw</td>\n",
       "      <td>AEx2SYEUJmTxVVB18LlCwA</td>\n",
       "      <td>\"Wilensky's\"</td>\n",
       "    </tr>\n",
       "    <tr>\n",
       "      <th>1</th>\n",
       "      <td>AEx2SYEUJmTxVVB18LlCwA</td>\n",
       "      <td>xYciRtVZ1PW4IxSX4oJ1aw</td>\n",
       "      <td>AEx2SYEUJmTxVVB18LlCwA</td>\n",
       "      <td>\"Wilensky's\"</td>\n",
       "    </tr>\n",
       "    <tr>\n",
       "      <th>2</th>\n",
       "      <td>AEx2SYEUJmTxVVB18LlCwA</td>\n",
       "      <td>5Ymfsf9fAYz-Ds_p0xawVQ</td>\n",
       "      <td>AEx2SYEUJmTxVVB18LlCwA</td>\n",
       "      <td>\"Wilensky's\"</td>\n",
       "    </tr>\n",
       "    <tr>\n",
       "      <th>3</th>\n",
       "      <td>AEx2SYEUJmTxVVB18LlCwA</td>\n",
       "      <td>DVOOF0Z627DyrZ4XKQbTgA</td>\n",
       "      <td>AEx2SYEUJmTxVVB18LlCwA</td>\n",
       "      <td>\"Wilensky's\"</td>\n",
       "    </tr>\n",
       "    <tr>\n",
       "      <th>4</th>\n",
       "      <td>AEx2SYEUJmTxVVB18LlCwA</td>\n",
       "      <td>5JoKz3mU42Cp906KRXDwJw</td>\n",
       "      <td>AEx2SYEUJmTxVVB18LlCwA</td>\n",
       "      <td>\"Wilensky's\"</td>\n",
       "    </tr>\n",
       "    <tr>\n",
       "      <th>...</th>\n",
       "      <td>...</td>\n",
       "      <td>...</td>\n",
       "      <td>...</td>\n",
       "      <td>...</td>\n",
       "    </tr>\n",
       "    <tr>\n",
       "      <th>999995</th>\n",
       "      <td>XvVv4rcraQkZlJOHuOdnHQ</td>\n",
       "      <td>ISp-fgSoDaSrDb6MlDkn5w</td>\n",
       "      <td>XvVv4rcraQkZlJOHuOdnHQ</td>\n",
       "      <td>\"Staples\"</td>\n",
       "    </tr>\n",
       "    <tr>\n",
       "      <th>999996</th>\n",
       "      <td>rOq4Xiiey0_gqH1O4omV6A</td>\n",
       "      <td>fIzGyMdjdxW86A_gVTQevQ</td>\n",
       "      <td>rOq4Xiiey0_gqH1O4omV6A</td>\n",
       "      <td>\"J Scott Refrigeration &amp; Heating\"</td>\n",
       "    </tr>\n",
       "    <tr>\n",
       "      <th>999997</th>\n",
       "      <td>JV7ymvDEg5XCe9EmGlqMDA</td>\n",
       "      <td>fUMmK8l8C7dcZM0swHpTZg</td>\n",
       "      <td>JV7ymvDEg5XCe9EmGlqMDA</td>\n",
       "      <td>\"Delia's Cleaners\"</td>\n",
       "    </tr>\n",
       "    <tr>\n",
       "      <th>999998</th>\n",
       "      <td>w8zGQbaNtxlZJrrIEYaGyQ</td>\n",
       "      <td>ZMRsax4wciunMAk8VVdYJQ</td>\n",
       "      <td>w8zGQbaNtxlZJrrIEYaGyQ</td>\n",
       "      <td>\"Kb Films\"</td>\n",
       "    </tr>\n",
       "    <tr>\n",
       "      <th>999999</th>\n",
       "      <td>yv1PZQnZaCuUOw_fMzCJjg</td>\n",
       "      <td>YwvI6aC47v4qWA499BtqcA</td>\n",
       "      <td>yv1PZQnZaCuUOw_fMzCJjg</td>\n",
       "      <td>\"Jean Coutu\"</td>\n",
       "    </tr>\n",
       "  </tbody>\n",
       "</table>\n",
       "<p>1000000 rows × 4 columns</p>\n",
       "</div>"
      ],
      "text/plain": [
       "                         key_0                 user_id  \\\n",
       "0       AEx2SYEUJmTxVVB18LlCwA  bv2nCi5Qv5vroFiqKGopiw   \n",
       "1       AEx2SYEUJmTxVVB18LlCwA  xYciRtVZ1PW4IxSX4oJ1aw   \n",
       "2       AEx2SYEUJmTxVVB18LlCwA  5Ymfsf9fAYz-Ds_p0xawVQ   \n",
       "3       AEx2SYEUJmTxVVB18LlCwA  DVOOF0Z627DyrZ4XKQbTgA   \n",
       "4       AEx2SYEUJmTxVVB18LlCwA  5JoKz3mU42Cp906KRXDwJw   \n",
       "...                        ...                     ...   \n",
       "999995  XvVv4rcraQkZlJOHuOdnHQ  ISp-fgSoDaSrDb6MlDkn5w   \n",
       "999996  rOq4Xiiey0_gqH1O4omV6A  fIzGyMdjdxW86A_gVTQevQ   \n",
       "999997  JV7ymvDEg5XCe9EmGlqMDA  fUMmK8l8C7dcZM0swHpTZg   \n",
       "999998  w8zGQbaNtxlZJrrIEYaGyQ  ZMRsax4wciunMAk8VVdYJQ   \n",
       "999999  yv1PZQnZaCuUOw_fMzCJjg  YwvI6aC47v4qWA499BtqcA   \n",
       "\n",
       "                   business_id                               name  \n",
       "0       AEx2SYEUJmTxVVB18LlCwA                       \"Wilensky's\"  \n",
       "1       AEx2SYEUJmTxVVB18LlCwA                       \"Wilensky's\"  \n",
       "2       AEx2SYEUJmTxVVB18LlCwA                       \"Wilensky's\"  \n",
       "3       AEx2SYEUJmTxVVB18LlCwA                       \"Wilensky's\"  \n",
       "4       AEx2SYEUJmTxVVB18LlCwA                       \"Wilensky's\"  \n",
       "...                        ...                                ...  \n",
       "999995  XvVv4rcraQkZlJOHuOdnHQ                          \"Staples\"  \n",
       "999996  rOq4Xiiey0_gqH1O4omV6A  \"J Scott Refrigeration & Heating\"  \n",
       "999997  JV7ymvDEg5XCe9EmGlqMDA                 \"Delia's Cleaners\"  \n",
       "999998  w8zGQbaNtxlZJrrIEYaGyQ                         \"Kb Films\"  \n",
       "999999  yv1PZQnZaCuUOw_fMzCJjg                       \"Jean Coutu\"  \n",
       "\n",
       "[1000000 rows x 4 columns]"
      ]
     },
     "execution_count": 66,
     "metadata": {},
     "output_type": "execute_result"
    }
   ],
   "source": [
    "vert"
   ]
  },
  {
   "cell_type": "code",
   "execution_count": 67,
   "id": "6506da5c",
   "metadata": {},
   "outputs": [],
   "source": [
    "vert.drop(columns = ['key_0'], inplace = True )"
   ]
  },
  {
   "cell_type": "code",
   "execution_count": 68,
   "id": "3a448a71",
   "metadata": {},
   "outputs": [],
   "source": [
    "edge = vert[['business_id','name']]"
   ]
  },
  {
   "cell_type": "code",
   "execution_count": 69,
   "id": "e6d9636c",
   "metadata": {},
   "outputs": [],
   "source": [
    "vertices = spark.createDataFrame(edge, [\"id\", \"name\"])"
   ]
  },
  {
   "cell_type": "code",
   "execution_count": 70,
   "id": "bc177d3e",
   "metadata": {},
   "outputs": [],
   "source": [
    "edges = spark.createDataFrame(vert, [\"src\", \"dst\"])"
   ]
  },
  {
   "cell_type": "code",
   "execution_count": 71,
   "id": "fc4e9c33",
   "metadata": {},
   "outputs": [],
   "source": [
    "g = GraphFrame(vertices, edges)"
   ]
  },
  {
   "cell_type": "code",
   "execution_count": 72,
   "id": "c5fb575a",
   "metadata": {},
   "outputs": [],
   "source": [
    "results_S = g.pageRank(resetProbability=0.15, maxIter=10)"
   ]
  },
  {
   "cell_type": "code",
   "execution_count": 73,
   "id": "4b1df85f",
   "metadata": {},
   "outputs": [
    {
     "name": "stdout",
     "output_type": "stream",
     "text": [
      "+--------------------+-----------------+-------------------+\n",
      "|                  id|         pagerank|               name|\n",
      "+--------------------+-----------------+-------------------+\n",
      "|NmOBomyz63TP9Nn2q...|2.692262250539301|\"Smith & Wollensky\"|\n",
      "|NmOBomyz63TP9Nn2q...|2.692262250539301|\"Smith & Wollensky\"|\n",
      "|NmOBomyz63TP9Nn2q...|2.692262250539301|\"Smith & Wollensky\"|\n",
      "|NmOBomyz63TP9Nn2q...|2.692262250539301|\"Smith & Wollensky\"|\n",
      "|NmOBomyz63TP9Nn2q...|2.692262250539301|\"Smith & Wollensky\"|\n",
      "|NmOBomyz63TP9Nn2q...|2.692262250539301|\"Smith & Wollensky\"|\n",
      "|NmOBomyz63TP9Nn2q...|2.692262250539301|\"Smith & Wollensky\"|\n",
      "|NmOBomyz63TP9Nn2q...|2.692262250539301|\"Smith & Wollensky\"|\n",
      "|NmOBomyz63TP9Nn2q...|2.692262250539301|\"Smith & Wollensky\"|\n",
      "|NmOBomyz63TP9Nn2q...|2.692262250539301|\"Smith & Wollensky\"|\n",
      "+--------------------+-----------------+-------------------+\n",
      "only showing top 10 rows\n",
      "\n"
     ]
    }
   ],
   "source": [
    "results_S.vertices.select(\"id\", \"pagerank\")\\\n",
    ".join(vertices, on=\"id\").orderBy(\"pagerank\", ascending=False)\\\n",
    ".show(10)"
   ]
  }
 ],
 "metadata": {
  "kernelspec": {
   "display_name": "Python 3",
   "language": "python",
   "name": "python3"
  },
  "language_info": {
   "codemirror_mode": {
    "name": "ipython",
    "version": 3
   },
   "file_extension": ".py",
   "mimetype": "text/x-python",
   "name": "python",
   "nbconvert_exporter": "python",
   "pygments_lexer": "ipython3",
   "version": "3.8.8"
  }
 },
 "nbformat": 4,
 "nbformat_minor": 5
}
